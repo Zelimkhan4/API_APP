{
  "nbformat": 4,
  "nbformat_minor": 0,
  "metadata": {
    "colab": {
      "provenance": [],
      "include_colab_link": true
    },
    "kernelspec": {
      "name": "python3",
      "display_name": "Python 3"
    },
    "language_info": {
      "name": "python"
    }
  },
  "cells": [
    {
      "cell_type": "markdown",
      "metadata": {
        "id": "view-in-github",
        "colab_type": "text"
      },
      "source": [
        "<a href=\"https://colab.research.google.com/github/Zelimkhan4/API_APP/blob/master/lab_work.ipynb\" target=\"_parent\"><img src=\"https://colab.research.google.com/assets/colab-badge.svg\" alt=\"Open In Colab\"/></a>"
      ]
    },
    {
      "cell_type": "markdown",
      "source": [
        "# Лабораторная работа"
      ],
      "metadata": {
        "id": "rloJD2luQnuQ"
      }
    },
    {
      "cell_type": "markdown",
      "source": [
        "Баллы за секции:\n",
        "- *Задание 1* - 10 баллов\n",
        "- *Задание 2* - 20 баллов\n",
        "- *Задание 3* - 30 баллов\n",
        "- **Итого** - 60 баллов\n",
        "\n",
        "Оценка за лабу $ = \\frac{score}{6}$"
      ],
      "metadata": {
        "id": "xIZ02xiML9p_"
      }
    },
    {
      "cell_type": "markdown",
      "source": [
        "## Внимание! Attention! Achtung!"
      ],
      "metadata": {
        "id": "OEDe7x8YRID0"
      }
    },
    {
      "cell_type": "markdown",
      "source": [
        "**Данная лабораторная работа является блокирующей**, т.е. если лабораторная работа не выполнена, то оценка за курс - неуд.\n",
        "\n",
        "Лабораторная работа считается выполненной, если **за каждое из заданий получено не менее 2 баллов**."
      ],
      "metadata": {
        "id": "ZEmKA-7NR1Y9"
      }
    },
    {
      "cell_type": "markdown",
      "source": [
        "## Формат сдачи лабораторной работы"
      ],
      "metadata": {
        "id": "N1ZbZ8dkR5q_"
      }
    },
    {
      "cell_type": "markdown",
      "source": [
        "Данная лабораторная работа сдается так же, как и проект - заполняете данный ноутбук, отправляете его через GitHub с указанием проверяющего."
      ],
      "metadata": {
        "id": "tEwx7LLQR-h8"
      }
    },
    {
      "cell_type": "markdown",
      "source": [
        "**Ассистенты не будут запускать ячейки кода, а смотреть на выведенный результат и код. Если ячейка кода не запущена - балл не ставится, даже при правильно написанном коде.**\n",
        "\n",
        "***(Комментарии что курс по Python легче чем по C++ учтены)***"
      ],
      "metadata": {
        "id": "qKwaNCJKj7b8"
      }
    },
    {
      "cell_type": "markdown",
      "source": [
        ">**Примечание**\n",
        ">\n",
        ">Данные задания вдохновлены предметом \"Введение в анализ данных\" 2 курса, по итогу которого идёт отбор на DS-поток. Если вы видите себя в смежных областях, советуем выполнить данную лабораторку по максимуму."
      ],
      "metadata": {
        "id": "hlUYK7MDRGye"
      }
    },
    {
      "cell_type": "code",
      "source": [
        "# Всё необходимое для выполнения данной лабораторной работы!\n",
        "import requests\n",
        "from time import sleep\n",
        "\n",
        "import numpy as np\n",
        "import pandas as pd\n",
        "import matplotlib.pyplot as plt\n",
        "import seaborn as sns"
      ],
      "metadata": {
        "id": "1qzEqvohoZfB"
      },
      "execution_count": 3,
      "outputs": []
    },
    {
      "cell_type": "markdown",
      "source": [
        "## Задание 1. Парсинг - 10 баллов"
      ],
      "metadata": {
        "id": "rB_FYHU2k8w-"
      }
    },
    {
      "cell_type": "markdown",
      "source": [
        "В этом задании Вам предстоит работать с API сайта <a target=\"_blank\" href=\"hh.ru\">hh.ru</a>. Документация доступна по <a target=\"_blank\" href=\"https://github.com/hhru/api/blob/master/docs/vacancies.md#search\">ссылке</a>."
      ],
      "metadata": {
        "id": "F0gr5cjaoQJy"
      }
    },
    {
      "cell_type": "markdown",
      "source": [
        "<b><font color=\"red\">Внимание!</font> При работе с API не забывайте делать паузы между запросами, иначе вас забанят. Просрочка дедлайна по этой причине не принимается!</b>"
      ],
      "metadata": {
        "id": "v8iCQYk7TNvK"
      }
    },
    {
      "cell_type": "markdown",
      "source": [
        "**Задача:**\n",
        "1. выбрать 5 интересующих вас профессий (не смежных, т.е. Аналатик и Data Engineer не считается корректным)\n",
        "2. затем получить доступные по данным профессиям вакансии в Москве и выделить их физические координаты\n",
        "3. нанести полученные координаты на карту местоположения компаний"
      ],
      "metadata": {
        "id": "-HAm80rqRqAZ"
      }
    },
    {
      "cell_type": "markdown",
      "source": [
        "*Пример запроса для профессии:*"
      ],
      "metadata": {
        "id": "H0GhQJvipXYj"
      }
    },
    {
      "cell_type": "code",
      "source": [
        "URL = 'https://api.hh.ru/vacancies'\n",
        "\n",
        "params = {\n",
        "    'text': \"Физик-ядерщик\",\n",
        "    'area': 1,\n",
        "    'page': 0,\n",
        "    'per_page': 10\n",
        "}\n",
        "\n",
        "data = requests.get(URL, params).json()"
      ],
      "metadata": {
        "id": "aZLGoS_DpsXI"
      },
      "execution_count": null,
      "outputs": []
    },
    {
      "cell_type": "markdown",
      "source": [
        "Если Ваш запрос прошел успешно, то вы получите следующие ключи (значения данных ключей вы найдете по ссылке на документацию):"
      ],
      "metadata": {
        "id": "yHQtIBRQp91_"
      }
    },
    {
      "cell_type": "code",
      "source": [
        "data.keys()"
      ],
      "metadata": {
        "colab": {
          "base_uri": "https://localhost:8080/"
        },
        "id": "DW6mxzggpvKw",
        "outputId": "a284ee47-486c-402a-fe26-88fa9677a98d"
      },
      "execution_count": null,
      "outputs": [
        {
          "output_type": "execute_result",
          "data": {
            "text/plain": [
              "dict_keys(['items', 'found', 'pages', 'per_page', 'page', 'clusters', 'arguments', 'alternate_url'])"
            ]
          },
          "metadata": {},
          "execution_count": 8
        }
      ]
    },
    {
      "cell_type": "markdown",
      "source": [
        ">**Примечание**\n",
        ">\n",
        ">В `data['pages']` будет хранится количество найденных страниц вакансий - для корректного сбора данных Вам нужно пробежать по **КАЖДОЙ** странице и сделать соотвествующие запросы."
      ],
      "metadata": {
        "id": "O-qAwsmrTAvQ"
      }
    },
    {
      "cell_type": "markdown",
      "source": [
        ">**Совет**\n",
        ">\n",
        ">Посмотрите что хранится в `items`!"
      ],
      "metadata": {
        "id": "OEPOQVYxsMyN"
      }
    },
    {
      "cell_type": "markdown",
      "source": [
        "(1 балл) Выберете для нас 5 наиболее интересных специальностей и получите по ним имеющиеся вакансии:"
      ],
      "metadata": {
        "id": "JWvkFrh9qhkj"
      }
    },
    {
      "cell_type": "code",
      "source": [
        "import requests\n",
        "\n",
        "URL = 'https://api.hh.ru/vacancies'\n",
        "professions = [\"Аналитик\", \"Врач\", \"Кулинар\", \"Флорист\", \"Репетитор по математике\"]\n",
        "all_responces = []\n",
        "for profession in professions:\n",
        "  params = {\n",
        "      \"text\": profession,\n",
        "      \"area\": 1,\n",
        "      \"page\": 0,\n",
        "      \"per_page\": 10\n",
        "  }\n",
        "  data = requests.get(\n",
        "      URL,\n",
        "      params=params\n",
        "  ).json()\n",
        "  all_responces.append(data)\n",
        "print(len(all_responces[0]))"
      ],
      "metadata": {
        "id": "_Nm-vyiBqugq",
        "outputId": "2e885a44-f05c-4ada-c149-756cae067154",
        "colab": {
          "base_uri": "https://localhost:8080/"
        }
      },
      "execution_count": null,
      "outputs": [
        {
          "output_type": "stream",
          "name": "stdout",
          "text": [
            "10\n"
          ]
        }
      ]
    },
    {
      "cell_type": "markdown",
      "source": [
        "(1 балл) Посчитайте сколько всего найдено вакансий:"
      ],
      "metadata": {
        "id": "g0bdgyNWquuY"
      }
    },
    {
      "cell_type": "code",
      "source": [
        "sum([i[\"pages\"] for i in all_responces])"
      ],
      "metadata": {
        "id": "lxyXtIs6q5cc",
        "outputId": "426c9b76-96a7-4ec1-c0df-f7c3d705ba55",
        "colab": {
          "base_uri": "https://localhost:8080/"
        }
      },
      "execution_count": null,
      "outputs": [
        {
          "output_type": "execute_result",
          "data": {
            "text/plain": [
              "513"
            ]
          },
          "metadata": {},
          "execution_count": 28
        }
      ]
    },
    {
      "cell_type": "markdown",
      "source": [
        "(1 балл) Создайте структуру данных, которая будет хранить в себе имя компании и ее координаты (широта и долгота):"
      ],
      "metadata": {
        "id": "wQeULnNyq5wk"
      }
    },
    {
      "cell_type": "code",
      "source": [
        "class Company:\n",
        "  def __init__(self, name, latitude=None, longitude=None):\n",
        "    self.name = name\n",
        "    self.latitude = latitude\n",
        "    self.longitude = longitude"
      ],
      "metadata": {
        "id": "aR501yltVdLm"
      },
      "execution_count": null,
      "outputs": []
    },
    {
      "cell_type": "markdown",
      "source": [
        "(1 балл) Создайте экземпляр этой структуры данных для каждой компании, которая выставила вакансию:"
      ],
      "metadata": {
        "id": "ccIi3wIvVkG0"
      }
    },
    {
      "cell_type": "code",
      "source": [
        "companies = []\n",
        "\n",
        "for i in range(5):\n",
        "  for page in all_responces[i][\"items\"]:\n",
        "    if \"address\" in page[\"employer\"]:\n",
        "      companies.append(Company(page[\"employer\"][\"name\"],\n",
        "                               page[\"employer\"][\"address\"].get(\"lat\", None),\n",
        "                               page[\"employer\"][\"address\"].get(\"long\", None)))"
      ],
      "metadata": {
        "id": "tR6mYW7jtcCQ"
      },
      "execution_count": null,
      "outputs": []
    },
    {
      "cell_type": "markdown",
      "source": [
        "(1 балл) Найдите количество вакансий, у которых заданы координаты (значения данных может быть пустым):"
      ],
      "metadata": {
        "id": "SyBpNd0vtcNu"
      }
    },
    {
      "cell_type": "code",
      "source": [
        "vacancies_with_address = []\n",
        "for i in range(5):\n",
        "  for page in all_responces[i][\"items\"]:\n",
        "    # print(page)\n",
        "    if \"address\" in page and page[\"address\"] is not None and \"lat\" in page[\"address\"] and page[\"address\"][\"lat\"] is not None and \"lng\" in page[\"address\"] and page[\"address\"][\"lng\"] is not None:\n",
        "      vacancies_with_address.append(page)\n",
        "\n",
        "print(len(vacancies_with_address))"
      ],
      "metadata": {
        "id": "lVgNCVALt2qJ",
        "outputId": "143b6b63-fba6-4ab4-9b44-444efecfdb8e",
        "colab": {
          "base_uri": "https://localhost:8080/"
        }
      },
      "execution_count": null,
      "outputs": [
        {
          "output_type": "stream",
          "name": "stdout",
          "text": [
            "39\n"
          ]
        }
      ]
    },
    {
      "cell_type": "markdown",
      "source": [
        "(1 балл) Отберите вакансии, которые расположены в пределах МКАД (можно грубо):"
      ],
      "metadata": {
        "id": "aWNXrM-cu5Vi"
      }
    },
    {
      "cell_type": "code",
      "source": [
        "def in_mkad(vacancy) -> bool:\n",
        "  lat_mkad = 55.73861111\n",
        "  lng_mkad = 37.61222222\n",
        "  radius_mkad = 0.46\n",
        "  if (vacancy[\"address\"][\"lng\"] - lng_mkad) ** 2 + (vacancy[\"address\"][\"lat\"] - lat_mkad) ** 2 <= radius_mkad**2:\n",
        "    return True\n",
        "  return False\n",
        "\n",
        "mkad_company = [i for i in vacancies_with_address if in_mkad(i)]"
      ],
      "metadata": {
        "id": "01g9wVEyyn-J",
        "outputId": "c5ab3865-6be5-44a6-90d0-b90cc1345542",
        "colab": {
          "base_uri": "https://localhost:8080/"
        }
      },
      "execution_count": null,
      "outputs": [
        {
          "output_type": "stream",
          "name": "stdout",
          "text": [
            "[{'id': '98954870', 'premium': False, 'name': 'Вице-президент / директор в Polaris Capital', 'department': None, 'has_test': False, 'response_letter_required': False, 'area': {'id': '1', 'name': 'Москва', 'url': 'https://api.hh.ru/areas/1'}, 'salary': None, 'type': {'id': 'open', 'name': 'Открытая'}, 'address': {'city': 'Москва', 'street': 'Центральный административный округ, Пресненский район, Московский международный деловой центр Москва-Сити', 'building': None, 'lat': 55.749632535782084, 'lng': 37.535292357085595, 'description': None, 'raw': 'Москва, Центральный административный округ, Пресненский район, Московский международный деловой центр Москва-Сити', 'metro': None, 'metro_stations': [], 'id': '15708469'}, 'response_url': None, 'sort_point_distance': None, 'published_at': '2024-05-14T17:50:23+0300', 'created_at': '2024-05-14T17:50:23+0300', 'archived': False, 'apply_alternate_url': 'https://hh.ru/applicant/vacancy_response?vacancyId=98954870', 'insider_interview': None, 'url': 'https://api.hh.ru/vacancies/98954870?host=hh.ru', 'alternate_url': 'https://hh.ru/vacancy/98954870', 'relations': [], 'employer': {'id': '10642097', 'name': 'Polaris Capital', 'url': 'https://api.hh.ru/employers/10642097', 'alternate_url': 'https://hh.ru/employer/10642097', 'logo_urls': None, 'vacancies_url': 'https://api.hh.ru/vacancies?employer_id=10642097', 'accredited_it_employer': False, 'trusted': True}, 'snippet': {'requirement': 'Опыт в корпоративных финансах (Corporate Finance). Предпочитаемые индустрии: финансовые институты (FIG, fintech), технологии (TMT, tech). Возможна специализация в других отраслях. ', 'responsibility': 'В функционал VP входят: Привлечение новых клиентов (origination). Работа над сделками (execution). Управление командой associates и <highlighttext>аналитиков</highlighttext>. Прочие задачи в...'}, 'contacts': None, 'schedule': {'id': 'fullDay', 'name': 'Полный день'}, 'working_days': [], 'working_time_intervals': [], 'working_time_modes': [], 'accept_temporary': False, 'professional_roles': [{'id': '75', 'name': 'Менеджер/консультант по стратегии'}], 'accept_incomplete_resumes': False, 'experience': {'id': 'moreThan6', 'name': 'Более 6 лет'}, 'employment': {'id': 'full', 'name': 'Полная занятость'}, 'adv_response_url': None, 'is_adv_vacancy': False, 'adv_context': None}, {'id': '98912548', 'premium': False, 'name': 'Директор по экономике', 'department': None, 'has_test': False, 'response_letter_required': False, 'area': {'id': '1', 'name': 'Москва', 'url': 'https://api.hh.ru/areas/1'}, 'salary': None, 'type': {'id': 'open', 'name': 'Открытая'}, 'address': {'city': 'Москва', 'street': 'Краснопресненская набережная', 'building': '12', 'lat': 55.754203, 'lng': 37.556388, 'description': None, 'raw': 'Москва, Краснопресненская набережная, 12', 'metro': None, 'metro_stations': [], 'id': '14921696'}, 'response_url': None, 'sort_point_distance': None, 'published_at': '2024-05-14T11:41:21+0300', 'created_at': '2024-05-14T11:41:21+0300', 'archived': False, 'apply_alternate_url': 'https://hh.ru/applicant/vacancy_response?vacancyId=98912548', 'show_logo_in_search': None, 'insider_interview': None, 'url': 'https://api.hh.ru/vacancies/98912548?host=hh.ru', 'alternate_url': 'https://hh.ru/vacancy/98912548', 'relations': [], 'employer': {'id': '10138575', 'name': 'РУСЭЛ', 'url': 'https://api.hh.ru/employers/10138575', 'alternate_url': 'https://hh.ru/employer/10138575', 'logo_urls': {'original': 'https://img.hhcdn.ru/employer-logo-original/1269472.jpg', '90': 'https://img.hhcdn.ru/employer-logo/6698198.jpeg', '240': 'https://img.hhcdn.ru/employer-logo/6698199.jpeg'}, 'vacancies_url': 'https://api.hh.ru/vacancies?employer_id=10138575', 'accredited_it_employer': False, 'trusted': True}, 'snippet': {'requirement': 'Уверенный опыт работы в бухгалтерском и управленческом учёте/отчётности. Активное использование в работе факторного анализа и умение наглядно представлять <highlighttext>аналитику</highlighttext>. ', 'responsibility': 'Бюджетирование и консолидация бюджетов по группе компаний. Консолидация финансовой отчётности по группе компаний. Составление план-факт анализа и проведение <highlighttext>аналитики</highlighttext>...'}, 'contacts': None, 'schedule': {'id': 'fullDay', 'name': 'Полный день'}, 'working_days': [], 'working_time_intervals': [], 'working_time_modes': [], 'accept_temporary': False, 'professional_roles': [{'id': '135', 'name': 'Финансовый директор (CFO)'}], 'accept_incomplete_resumes': True, 'experience': {'id': 'between3And6', 'name': 'От 3 до 6 лет'}, 'employment': {'id': 'full', 'name': 'Полная занятость'}, 'adv_response_url': None, 'is_adv_vacancy': False, 'adv_context': None}, {'id': '98953548', 'premium': False, 'name': 'Финансовый директор', 'department': None, 'has_test': False, 'response_letter_required': False, 'area': {'id': '1', 'name': 'Москва', 'url': 'https://api.hh.ru/areas/1'}, 'salary': None, 'type': {'id': 'open', 'name': 'Открытая'}, 'address': {'city': 'Москва', 'street': 'улица Правды', 'building': '8к7', 'lat': 55.785129, 'lng': 37.579601, 'description': None, 'raw': 'Москва, улица Правды, 8к7', 'metro': {'station_name': 'Белорусская', 'line_name': 'Замоскворецкая', 'station_id': '2.19', 'line_id': '2', 'lat': 55.777439, 'lng': 37.582107}, 'metro_stations': [{'station_name': 'Белорусская', 'line_name': 'Замоскворецкая', 'station_id': '2.19', 'line_id': '2', 'lat': 55.777439, 'lng': 37.582107}, {'station_name': 'Савёловская', 'line_name': 'Серпуховско-Тимирязевская', 'station_id': '9.128', 'line_id': '9', 'lat': 55.794054, 'lng': 37.587163}, {'station_name': 'Савёловская', 'line_name': 'МЦД-1', 'station_id': '131.699', 'line_id': '131', 'lat': 55.793936, 'lng': 37.587038}], 'id': '12985780'}, 'response_url': None, 'sort_point_distance': None, 'published_at': '2024-05-14T17:39:25+0300', 'created_at': '2024-05-14T17:39:25+0300', 'archived': False, 'apply_alternate_url': 'https://hh.ru/applicant/vacancy_response?vacancyId=98953548', 'show_logo_in_search': None, 'insider_interview': None, 'url': 'https://api.hh.ru/vacancies/98953548?host=hh.ru', 'alternate_url': 'https://hh.ru/vacancy/98953548', 'relations': [], 'employer': {'id': '4764116', 'name': 'EXPOCAR', 'url': 'https://api.hh.ru/employers/4764116', 'alternate_url': 'https://hh.ru/employer/4764116', 'logo_urls': {'original': 'https://img.hhcdn.ru/employer-logo-original/946593.png', '240': 'https://img.hhcdn.ru/employer-logo/4226909.png', '90': 'https://img.hhcdn.ru/employer-logo/4226908.png'}, 'vacancies_url': 'https://api.hh.ru/vacancies?employer_id=4764116', 'accredited_it_employer': False, 'trusted': True}, 'snippet': {'requirement': 'Высшее образование в области экономики и финансов. Опыт работы на руководящих позициях в финансовой сфере от 3-х лет. ', 'responsibility': 'Контроль и оптимизация расходов компании , эффективное управление активами и обязательствами компании. <highlighttext>Аналитика</highlighttext>. Построение финансовых и экономических моделей проектов. Бюджетирование. '}, 'contacts': None, 'schedule': {'id': 'fullDay', 'name': 'Полный день'}, 'working_days': [], 'working_time_intervals': [], 'working_time_modes': [], 'accept_temporary': False, 'professional_roles': [{'id': '135', 'name': 'Финансовый директор (CFO)'}], 'accept_incomplete_resumes': False, 'experience': {'id': 'moreThan6', 'name': 'Более 6 лет'}, 'employment': {'id': 'full', 'name': 'Полная занятость'}, 'adv_response_url': None, 'is_adv_vacancy': False, 'adv_context': None}, {'id': '98923860', 'premium': False, 'name': 'Стажер-разработчик Python', 'department': {'id': '4496-4496-stud', 'name': 'МТС Банк. Начало Карьеры'}, 'has_test': False, 'response_letter_required': False, 'area': {'id': '1', 'name': 'Москва', 'url': 'https://api.hh.ru/areas/1'}, 'salary': None, 'type': {'id': 'open', 'name': 'Открытая'}, 'address': {'city': 'Москва', 'street': 'проспект Андропова', 'building': '18к1', 'lat': 55.695022, 'lng': 37.66274, 'description': None, 'raw': 'Москва, проспект Андропова, 18к1', 'metro': {'station_name': 'Технопарк', 'line_name': 'Замоскворецкая', 'station_id': '2.512', 'line_id': '2', 'lat': 55.695, 'lng': 37.664167}, 'metro_stations': [{'station_name': 'Технопарк', 'line_name': 'Замоскворецкая', 'station_id': '2.512', 'line_id': '2', 'lat': 55.695, 'lng': 37.664167}], 'id': '2687057'}, 'response_url': None, 'sort_point_distance': None, 'published_at': '2024-05-14T13:12:46+0300', 'created_at': '2024-05-14T13:12:46+0300', 'archived': False, 'apply_alternate_url': 'https://hh.ru/applicant/vacancy_response?vacancyId=98923860', 'branding': {'type': 'MAKEUP', 'tariff': None}, 'show_logo_in_search': True, 'insider_interview': None, 'url': 'https://api.hh.ru/vacancies/98923860?host=hh.ru', 'alternate_url': 'https://hh.ru/vacancy/98923860', 'relations': [], 'employer': {'id': '4496', 'name': 'МТС Финтех', 'url': 'https://api.hh.ru/employers/4496', 'alternate_url': 'https://hh.ru/employer/4496', 'logo_urls': {'240': 'https://img.hhcdn.ru/employer-logo/3091701.png', '90': 'https://img.hhcdn.ru/employer-logo/3091700.png', 'original': 'https://img.hhcdn.ru/employer-logo-original/662642.png'}, 'vacancies_url': 'https://api.hh.ru/vacancies?employer_id=4496', 'accredited_it_employer': False, 'trusted': True}, 'snippet': {'requirement': 'Хорошие знания SQL. Хорошие знания Python. Опыт работы с базой данных PL SQL будет огромным преимуществом.', 'responsibility': 'Желательно участие в разработке по задачам оперативной отчетности collection, поддержка реализованных отчетов. Возможно привлечение к вопросам <highlighttext>аналитики</highlighttext>, доработки стратегий и...'}, 'contacts': None, 'schedule': {'id': 'fullDay', 'name': 'Полный день'}, 'working_days': [], 'working_time_intervals': [], 'working_time_modes': [], 'accept_temporary': False, 'professional_roles': [{'id': '96', 'name': 'Программист, разработчик'}], 'accept_incomplete_resumes': False, 'experience': {'id': 'noExperience', 'name': 'Нет опыта'}, 'employment': {'id': 'probation', 'name': 'Стажировка'}, 'adv_response_url': None, 'is_adv_vacancy': False, 'adv_context': None}, {'id': '98807763', 'premium': False, 'name': 'React разработчик', 'department': None, 'has_test': False, 'response_letter_required': False, 'area': {'id': '1', 'name': 'Москва', 'url': 'https://api.hh.ru/areas/1'}, 'salary': {'from': 100000, 'to': None, 'currency': 'RUR', 'gross': False}, 'type': {'id': 'open', 'name': 'Открытая'}, 'address': {'city': 'Москва', 'street': 'улица Адмирала Макарова', 'building': '15', 'lat': 55.829102, 'lng': 37.493344, 'description': None, 'raw': 'Москва, улица Адмирала Макарова, 15', 'metro': None, 'metro_stations': [], 'id': '3085473'}, 'response_url': None, 'sort_point_distance': None, 'published_at': '2024-05-13T14:38:43+0300', 'created_at': '2024-05-13T14:38:43+0300', 'archived': False, 'apply_alternate_url': 'https://hh.ru/applicant/vacancy_response?vacancyId=98807763', 'show_logo_in_search': None, 'insider_interview': None, 'url': 'https://api.hh.ru/vacancies/98807763?host=hh.ru', 'alternate_url': 'https://hh.ru/vacancy/98807763', 'relations': [], 'employer': {'id': '4301050', 'name': 'Эйс Плэйс', 'url': 'https://api.hh.ru/employers/4301050', 'alternate_url': 'https://hh.ru/employer/4301050', 'logo_urls': {'240': 'https://img.hhcdn.ru/employer-logo/3827016.jpeg', '90': 'https://img.hhcdn.ru/employer-logo/3827015.jpeg', 'original': 'https://img.hhcdn.ru/employer-logo-original/846535.jpg'}, 'vacancies_url': 'https://api.hh.ru/vacancies?employer_id=4301050', 'accredited_it_employer': False, 'trusted': True}, 'snippet': {'requirement': 'Знание языков программирования TypeScript и JavaScript. Знание языков разметки HTML/CSS/SCSS. Опыт разработки на React с SSR (Next.JS, React...', 'responsibility': 'Обязанности. Разработка сайта проекта. Рефакторинг существующих компонентов. Сопровождение и документирование кода. Взаимодействие с отделами <highlighttext>аналитики</highlighttext>, тестирования, backend разработки и дизайна.'}, 'contacts': None, 'schedule': {'id': 'fullDay', 'name': 'Полный день'}, 'working_days': [], 'working_time_intervals': [], 'working_time_modes': [], 'accept_temporary': False, 'professional_roles': [{'id': '96', 'name': 'Программист, разработчик'}], 'accept_incomplete_resumes': False, 'experience': {'id': 'between1And3', 'name': 'От 1 года до 3 лет'}, 'employment': {'id': 'full', 'name': 'Полная занятость'}, 'adv_response_url': None, 'is_adv_vacancy': False, 'adv_context': None}, {'id': '98818112', 'premium': False, 'name': 'Младший тестировщик', 'department': None, 'has_test': False, 'response_letter_required': False, 'area': {'id': '1', 'name': 'Москва', 'url': 'https://api.hh.ru/areas/1'}, 'salary': {'from': 90000, 'to': 90000, 'currency': 'RUR', 'gross': True}, 'type': {'id': 'open', 'name': 'Открытая'}, 'address': {'city': 'Москва', 'street': 'Нижняя Первомайская улица', 'building': '46', 'lat': 55.79103, 'lng': 37.808761, 'description': None, 'raw': 'Москва, Нижняя Первомайская улица, 46', 'metro': {'station_name': 'Первомайская', 'line_name': 'Арбатско-Покровская', 'station_id': '3.106', 'line_id': '3', 'lat': 55.794376, 'lng': 37.799364}, 'metro_stations': [{'station_name': 'Первомайская', 'line_name': 'Арбатско-Покровская', 'station_id': '3.106', 'line_id': '3', 'lat': 55.794376, 'lng': 37.799364}], 'id': '2138301'}, 'response_url': None, 'sort_point_distance': None, 'published_at': '2024-05-13T15:59:43+0300', 'created_at': '2024-05-13T15:59:43+0300', 'archived': False, 'apply_alternate_url': 'https://hh.ru/applicant/vacancy_response?vacancyId=98818112', 'show_logo_in_search': None, 'insider_interview': None, 'url': 'https://api.hh.ru/vacancies/98818112?host=hh.ru', 'alternate_url': 'https://hh.ru/vacancy/98818112', 'relations': [], 'employer': {'id': '40912', 'name': 'БИФИТ', 'url': 'https://api.hh.ru/employers/40912', 'alternate_url': 'https://hh.ru/employer/40912', 'logo_urls': {'90': 'https://img.hhcdn.ru/employer-logo/6346286.png', 'original': 'https://img.hhcdn.ru/employer-logo-original/1181465.png', '240': 'https://img.hhcdn.ru/employer-logo/6346287.png'}, 'vacancies_url': 'https://api.hh.ru/vacancies?employer_id=40912', 'accredited_it_employer': True, 'trusted': True}, 'snippet': {'requirement': 'Даем возможность вырасти в другие направления (разработка / <highlighttext>аналитика</highlighttext>). Высшее образование (желательно в сфере IT). Понимание основ и методов тестирования (курсы...', 'responsibility': 'Системное и функциональное тестирование клиент-серверного ПО. Заведение баг-репортов. Взаимодействие с командой разработки. Составление документации и инструкций.'}, 'contacts': None, 'schedule': {'id': 'remote', 'name': 'Удаленная работа'}, 'working_days': [], 'working_time_intervals': [], 'working_time_modes': [], 'accept_temporary': False, 'professional_roles': [{'id': '124', 'name': 'Тестировщик'}], 'accept_incomplete_resumes': False, 'experience': {'id': 'noExperience', 'name': 'Нет опыта'}, 'employment': {'id': 'full', 'name': 'Полная занятость'}, 'adv_response_url': None, 'is_adv_vacancy': False, 'adv_context': None}, {'id': '98795751', 'premium': False, 'name': 'Помощник врача - косметолога / Ассистент врача - косметолога', 'department': None, 'has_test': False, 'response_letter_required': False, 'area': {'id': '1', 'name': 'Москва', 'url': 'https://api.hh.ru/areas/1'}, 'salary': {'from': 120000, 'to': 160000, 'currency': 'RUR', 'gross': False}, 'type': {'id': 'open', 'name': 'Открытая'}, 'address': {'city': 'Москва', 'street': 'Зубовский бульвар', 'building': '16-20с1', 'lat': 55.738596, 'lng': 37.588593, 'description': None, 'raw': 'Москва, Зубовский бульвар, 16-20с1', 'metro': {'station_name': 'Парк культуры', 'line_name': 'Сокольническая', 'station_id': '1.103', 'line_id': '1', 'lat': 55.736163, 'lng': 37.595027}, 'metro_stations': [{'station_name': 'Парк культуры', 'line_name': 'Сокольническая', 'station_id': '1.103', 'line_id': '1', 'lat': 55.736163, 'lng': 37.595027}, {'station_name': 'Парк культуры', 'line_name': 'Кольцевая', 'station_id': '5.104', 'line_id': '5', 'lat': 55.735221, 'lng': 37.593095}, {'station_name': 'Смоленская', 'line_name': 'Арбатско-Покровская', 'station_id': '3.131', 'line_id': '3', 'lat': 55.747713, 'lng': 37.583802}], 'id': '15311413'}, 'response_url': None, 'sort_point_distance': None, 'published_at': '2024-05-13T13:06:17+0300', 'created_at': '2024-05-13T13:06:17+0300', 'archived': False, 'apply_alternate_url': 'https://hh.ru/applicant/vacancy_response?vacancyId=98795751', 'show_logo_in_search': None, 'insider_interview': None, 'url': 'https://api.hh.ru/vacancies/98795751?host=hh.ru', 'alternate_url': 'https://hh.ru/vacancy/98795751', 'relations': [], 'employer': {'id': '9163396', 'name': 'Кадры Онлайн', 'url': 'https://api.hh.ru/employers/9163396', 'alternate_url': 'https://hh.ru/employer/9163396', 'logo_urls': {'240': 'https://img.hhcdn.ru/employer-logo/6039474.jpeg', '90': 'https://img.hhcdn.ru/employer-logo/6039473.jpeg', 'original': 'https://img.hhcdn.ru/employer-logo-original/1104717.jpg'}, 'vacancies_url': 'https://api.hh.ru/vacancies?employer_id=9163396', 'accredited_it_employer': False, 'trusted': True}, 'snippet': {'requirement': 'Опыт от 1 года в мед учреждении. Медицинское образование. Навык установки капельниц. Забор венозной крови. Коммуникабельность и умение работать с...', 'responsibility': 'Подготовка пациента к процедуре. Подготовка препаратов к процедуре. Помощь <highlighttext>врачу</highlighttext> при проведении процедур. Обработка кабинета до и после процедур. '}, 'contacts': None, 'schedule': {'id': 'flexible', 'name': 'Гибкий график'}, 'working_days': [], 'working_time_intervals': [], 'working_time_modes': [], 'accept_temporary': False, 'professional_roles': [{'id': '64', 'name': 'Медицинская сестра, медицинский брат'}], 'accept_incomplete_resumes': False, 'experience': {'id': 'between1And3', 'name': 'От 1 года до 3 лет'}, 'employment': {'id': 'full', 'name': 'Полная занятость'}, 'adv_response_url': None, 'is_adv_vacancy': False, 'adv_context': None}, {'id': '98803639', 'premium': False, 'name': 'Врач-косметолог', 'department': None, 'has_test': False, 'response_letter_required': False, 'area': {'id': '1', 'name': 'Москва', 'url': 'https://api.hh.ru/areas/1'}, 'salary': {'from': 120000, 'to': 250000, 'currency': 'RUR', 'gross': False}, 'type': {'id': 'open', 'name': 'Открытая'}, 'address': {'city': 'Москва', 'street': 'улица Сокольнический Вал', 'building': '8', 'lat': 55.792129, 'lng': 37.660135, 'description': None, 'raw': 'Москва, улица Сокольнический Вал, 8', 'metro': None, 'metro_stations': [], 'id': '14938323'}, 'response_url': None, 'sort_point_distance': None, 'published_at': '2024-05-13T14:10:30+0300', 'created_at': '2024-05-13T14:10:30+0300', 'archived': False, 'apply_alternate_url': 'https://hh.ru/applicant/vacancy_response?vacancyId=98803639', 'show_logo_in_search': None, 'insider_interview': None, 'url': 'https://api.hh.ru/vacancies/98803639?host=hh.ru', 'alternate_url': 'https://hh.ru/vacancy/98803639', 'relations': [], 'employer': {'id': '10676792', 'name': 'Фуд-Стар', 'url': 'https://api.hh.ru/employers/10676792', 'alternate_url': 'https://hh.ru/employer/10676792', 'logo_urls': {'original': 'https://img.hhcdn.ru/employer-logo-original/1215089.png', '240': 'https://img.hhcdn.ru/employer-logo/6480806.png', '90': 'https://img.hhcdn.ru/employer-logo/6480805.png'}, 'vacancies_url': 'https://api.hh.ru/vacancies?employer_id=10676792', 'accredited_it_employer': False, 'trusted': True}, 'snippet': {'requirement': 'Высшее медицинское образование, действующие сертификаты опыт работы не менее 2-х лет. Владение основными и современными методами контурной пластики с...', 'responsibility': 'Прием пациентов, оказание профильных услуг надлежащего качества. Проведение аппаратных процедур на первоклассном оборудовании - фототерапия (M22), RF-игольчатый (SCARLET), Smass...'}, 'contacts': None, 'schedule': {'id': 'fullDay', 'name': 'Полный день'}, 'working_days': [], 'working_time_intervals': [], 'working_time_modes': [], 'accept_temporary': False, 'professional_roles': [{'id': '56', 'name': 'Косметолог'}], 'accept_incomplete_resumes': True, 'experience': {'id': 'between1And3', 'name': 'От 1 года до 3 лет'}, 'employment': {'id': 'full', 'name': 'Полная занятость'}, 'adv_response_url': None, 'is_adv_vacancy': False, 'adv_context': None}, {'id': '98918701', 'premium': False, 'name': 'Врач клинической лабораторной диагностики', 'department': None, 'has_test': False, 'response_letter_required': False, 'area': {'id': '1', 'name': 'Москва', 'url': 'https://api.hh.ru/areas/1'}, 'salary': {'from': 110000, 'to': None, 'currency': 'RUR', 'gross': True}, 'type': {'id': 'open', 'name': 'Открытая'}, 'address': {'city': 'Москва', 'street': 'улица Лобачевского', 'building': '42', 'lat': 55.669625, 'lng': 37.50213, 'description': None, 'raw': 'Москва, улица Лобачевского, 42', 'metro': {'station_name': 'Проспект Вернадского', 'line_name': 'Сокольническая', 'station_id': '1.118', 'line_id': '1', 'lat': 55.676549, 'lng': 37.504584}, 'metro_stations': [{'station_name': 'Проспект Вернадского', 'line_name': 'Сокольническая', 'station_id': '1.118', 'line_id': '1', 'lat': 55.676549, 'lng': 37.504584}], 'id': '735358'}, 'response_url': None, 'sort_point_distance': None, 'published_at': '2024-05-14T12:29:20+0300', 'created_at': '2024-05-14T12:29:20+0300', 'archived': False, 'apply_alternate_url': 'https://hh.ru/applicant/vacancy_response?vacancyId=98918701', 'show_logo_in_search': None, 'insider_interview': None, 'url': 'https://api.hh.ru/vacancies/98918701?host=hh.ru', 'alternate_url': 'https://hh.ru/vacancy/98918701', 'relations': [], 'employer': {'id': '2145357', 'name': 'ГБУЗ ГКБ № 31 им. академика Г.М. Савельевой ДЗМ', 'url': 'https://api.hh.ru/employers/2145357', 'alternate_url': 'https://hh.ru/employer/2145357', 'logo_urls': {'original': 'https://img.hhcdn.ru/employer-logo-original/946048.png', '240': 'https://img.hhcdn.ru/employer-logo/4224729.png', '90': 'https://img.hhcdn.ru/employer-logo/4224728.png'}, 'vacancies_url': 'https://api.hh.ru/vacancies?employer_id=2145357', 'accredited_it_employer': False, 'trusted': True}, 'snippet': {'requirement': 'Наличие действующего сертификата/аккредитации по специальности \"Клиническая лабораторная диагностика\".', 'responsibility': 'Проведение биохимических исследований. Проведение общеклинических исследований. Проведение гематологических исследований. Иммуногематология.'}, 'contacts': None, 'schedule': {'id': 'fullDay', 'name': 'Полный день'}, 'working_days': [], 'working_time_intervals': [], 'working_time_modes': [], 'accept_temporary': False, 'professional_roles': [{'id': '24', 'name': 'Врач'}], 'accept_incomplete_resumes': False, 'experience': {'id': 'between1And3', 'name': 'От 1 года до 3 лет'}, 'employment': {'id': 'full', 'name': 'Полная занятость'}, 'adv_response_url': None, 'is_adv_vacancy': False, 'adv_context': None}, {'id': '98940739', 'premium': False, 'name': 'Врач-офтальмолог', 'department': None, 'has_test': False, 'response_letter_required': False, 'area': {'id': '1', 'name': 'Москва', 'url': 'https://api.hh.ru/areas/1'}, 'salary': {'from': 150000, 'to': 200000, 'currency': 'RUR', 'gross': True}, 'type': {'id': 'open', 'name': 'Открытая'}, 'address': {'city': 'Москва', 'street': 'Гамсоновский переулок', 'building': None, 'lat': 55.70786541534598, 'lng': 37.62485408542719, 'description': None, 'raw': 'Москва, Гамсоновский переулок', 'metro': None, 'metro_stations': [], 'id': '3567181'}, 'response_url': None, 'sort_point_distance': None, 'published_at': '2024-05-14T15:35:20+0300', 'created_at': '2024-05-14T15:35:20+0300', 'archived': False, 'apply_alternate_url': 'https://hh.ru/applicant/vacancy_response?vacancyId=98940739', 'show_logo_in_search': None, 'insider_interview': None, 'url': 'https://api.hh.ru/vacancies/98940739?host=hh.ru', 'alternate_url': 'https://hh.ru/vacancy/98940739', 'relations': [], 'employer': {'id': '3244083', 'name': 'Клиника Здоровья', 'url': 'https://api.hh.ru/employers/3244083', 'alternate_url': 'https://hh.ru/employer/3244083', 'logo_urls': {'90': 'https://img.hhcdn.ru/employer-logo/3321136.png', '240': 'https://img.hhcdn.ru/employer-logo/3321137.png', 'original': 'https://img.hhcdn.ru/employer-logo-original/720007.png'}, 'vacancies_url': 'https://api.hh.ru/vacancies?employer_id=3244083', 'accredited_it_employer': False, 'trusted': True}, 'snippet': {'requirement': 'Высшее медицинское образование. Опыт работы от 3 лет. Наличие действующего сертификата по профилю (наличие дополнительных сертификатов приветствуется). Владение современными принципами...', 'responsibility': 'Амбулаторный приём пациентов. Оформление медицинской документации в электронном виде. Назначение диагностических процедур и исследований. Выдача ЛН, справок. Работа с пациентами...'}, 'contacts': None, 'schedule': {'id': 'fullDay', 'name': 'Полный день'}, 'working_days': [], 'working_time_intervals': [], 'working_time_modes': [], 'accept_temporary': False, 'professional_roles': [{'id': '24', 'name': 'Врач'}], 'accept_incomplete_resumes': False, 'experience': {'id': 'between1And3', 'name': 'От 1 года до 3 лет'}, 'employment': {'id': 'full', 'name': 'Полная занятость'}, 'adv_response_url': None, 'is_adv_vacancy': False, 'adv_context': None}, {'id': '95837994', 'premium': False, 'name': 'Врач-косметолог', 'department': None, 'has_test': False, 'response_letter_required': False, 'area': {'id': '1', 'name': 'Москва', 'url': 'https://api.hh.ru/areas/1'}, 'salary': {'from': 120000, 'to': 150000, 'currency': 'RUR', 'gross': False}, 'type': {'id': 'open', 'name': 'Открытая'}, 'address': {'city': 'Москва', 'street': 'улица Земляной Вал', 'building': '36', 'lat': 55.755829, 'lng': 37.656739, 'description': None, 'raw': 'Москва, улица Земляной Вал, 36', 'metro': {'station_name': 'Курская', 'line_name': 'Арбатско-Покровская', 'station_id': '3.70', 'line_id': '3', 'lat': 55.758564, 'lng': 37.659039}, 'metro_stations': [{'station_name': 'Курская', 'line_name': 'Арбатско-Покровская', 'station_id': '3.70', 'line_id': '3', 'lat': 55.758564, 'lng': 37.659039}, {'station_name': 'Курская', 'line_name': 'Кольцевая', 'station_id': '5.71', 'line_id': '5', 'lat': 55.758631, 'lng': 37.661059}, {'station_name': 'Курская', 'line_name': 'МЦД-2', 'station_id': '132.726', 'line_id': '132', 'lat': 55.757622, 'lng': 37.660767}, {'station_name': 'Чкаловская', 'line_name': 'Люблинско-Дмитровская', 'station_id': '10.72', 'line_id': '10', 'lat': 55.755951, 'lng': 37.659293}], 'id': '4309929'}, 'response_url': None, 'sort_point_distance': None, 'published_at': '2024-04-25T14:29:22+0300', 'created_at': '2024-04-25T14:29:22+0300', 'archived': False, 'apply_alternate_url': 'https://hh.ru/applicant/vacancy_response?vacancyId=95837994', 'show_logo_in_search': None, 'insider_interview': None, 'url': 'https://api.hh.ru/vacancies/95837994?host=hh.ru', 'alternate_url': 'https://hh.ru/vacancy/95837994', 'relations': [], 'employer': {'id': '897960', 'name': 'Энергия жизни', 'url': 'https://api.hh.ru/employers/897960', 'alternate_url': 'https://hh.ru/employer/897960', 'logo_urls': {'original': 'https://img.hhcdn.ru/employer-logo-original/946550.png', '240': 'https://img.hhcdn.ru/employer-logo/4226737.png', '90': 'https://img.hhcdn.ru/employer-logo/4226736.png'}, 'vacancies_url': 'https://api.hh.ru/vacancies?employer_id=897960', 'accredited_it_employer': False, 'trusted': True}, 'snippet': {'requirement': 'Ищем <highlighttext>врача</highlighttext>-косметолога с опытом работы на александритовом лазере Candela, лазере Fotona и уверенными навыками инъекционной косметологии.', 'responsibility': None}, 'contacts': None, 'schedule': {'id': 'fullDay', 'name': 'Полный день'}, 'working_days': [], 'working_time_intervals': [], 'working_time_modes': [], 'accept_temporary': False, 'professional_roles': [{'id': '56', 'name': 'Косметолог'}], 'accept_incomplete_resumes': True, 'experience': {'id': 'between3And6', 'name': 'От 3 до 6 лет'}, 'employment': {'id': 'full', 'name': 'Полная занятость'}, 'adv_response_url': None, 'is_adv_vacancy': False, 'adv_context': None}, {'id': '98789713', 'premium': False, 'name': 'Врач-рентгенолог', 'department': None, 'has_test': False, 'response_letter_required': False, 'area': {'id': '1', 'name': 'Москва', 'url': 'https://api.hh.ru/areas/1'}, 'salary': None, 'type': {'id': 'open', 'name': 'Открытая'}, 'address': {'city': 'Москва', 'street': 'Планетная улица', 'building': '3к3', 'lat': 55.797862, 'lng': 37.54966, 'description': None, 'raw': 'Москва, Планетная улица, 3к3', 'metro': None, 'metro_stations': [], 'id': '708243'}, 'response_url': None, 'sort_point_distance': None, 'published_at': '2024-05-13T12:18:23+0300', 'created_at': '2024-05-13T12:18:23+0300', 'archived': False, 'apply_alternate_url': 'https://hh.ru/applicant/vacancy_response?vacancyId=98789713', 'insider_interview': None, 'url': 'https://api.hh.ru/vacancies/98789713?host=hh.ru', 'alternate_url': 'https://hh.ru/vacancy/98789713', 'relations': [], 'employer': {'id': '2550920', 'name': 'ФГБУ 52 консультативно-диагностический центр Министерства обороны РФ (ФГБУ 52 КДЦ Минобороны России)', 'url': 'https://api.hh.ru/employers/2550920', 'alternate_url': 'https://hh.ru/employer/2550920', 'logo_urls': None, 'vacancies_url': 'https://api.hh.ru/vacancies?employer_id=2550920', 'accredited_it_employer': False, 'trusted': True}, 'snippet': {'requirement': 'Высшее образование - по одной из специальностей: \"Лечебное дело\", \"Педиатрия\" и подготовка в интернатуре и (или) ординатуре по специальности \"Рентгенология\". ', 'responsibility': 'Выполнение рентгенологических исследований органов и систем организма, включая исследования с применением контрастных лекарственных препаратов. Оформление заключения рентгенологического исследования. '}, 'contacts': None, 'schedule': {'id': 'shift', 'name': 'Сменный график'}, 'working_days': [], 'working_time_intervals': [], 'working_time_modes': [], 'accept_temporary': False, 'professional_roles': [{'id': '24', 'name': 'Врач'}], 'accept_incomplete_resumes': True, 'experience': {'id': 'between1And3', 'name': 'От 1 года до 3 лет'}, 'employment': {'id': 'full', 'name': 'Полная занятость'}, 'adv_response_url': None, 'is_adv_vacancy': False, 'adv_context': None}, {'id': '98727336', 'premium': False, 'name': 'Ассистент врача косметолога', 'department': None, 'has_test': False, 'response_letter_required': False, 'area': {'id': '1', 'name': 'Москва', 'url': 'https://api.hh.ru/areas/1'}, 'salary': {'from': 42000, 'to': 48000, 'currency': 'RUR', 'gross': False}, 'type': {'id': 'open', 'name': 'Открытая'}, 'address': {'city': 'Москва', 'street': '1-я улица Ямского Поля', 'building': None, 'lat': 55.781727, 'lng': 37.584128, 'description': None, 'raw': 'Москва, 1-я улица Ямского Поля', 'metro': {'station_name': 'Белорусская', 'line_name': 'Замоскворецкая', 'station_id': '2.19', 'line_id': '2', 'lat': 55.777439, 'lng': 37.582107}, 'metro_stations': [{'station_name': 'Белорусская', 'line_name': 'Замоскворецкая', 'station_id': '2.19', 'line_id': '2', 'lat': 55.777439, 'lng': 37.582107}, {'station_name': 'Белорусская', 'line_name': 'Кольцевая', 'station_id': '5.20', 'line_id': '5', 'lat': 55.775179, 'lng': 37.582303}, {'station_name': 'Белорусская', 'line_name': 'МЦД-1', 'station_id': '131.700', 'line_id': '131', 'lat': 55.775179, 'lng': 37.582303}, {'station_name': 'Белорусская', 'line_name': 'МЦД-4', 'station_id': '136.894', 'line_id': '136', 'lat': 55.776389, 'lng': 37.580278}], 'id': '15689056'}, 'response_url': None, 'sort_point_distance': None, 'published_at': '2024-05-12T14:43:23+0300', 'created_at': '2024-05-12T14:43:23+0300', 'archived': False, 'apply_alternate_url': 'https://hh.ru/applicant/vacancy_response?vacancyId=98727336', 'show_logo_in_search': None, 'insider_interview': None, 'url': 'https://api.hh.ru/vacancies/98727336?host=hh.ru', 'alternate_url': 'https://hh.ru/vacancy/98727336', 'relations': [], 'employer': {'id': '11056724', 'name': 'Dr.Teter', 'url': 'https://api.hh.ru/employers/11056724', 'alternate_url': 'https://hh.ru/employer/11056724', 'logo_urls': {'original': 'https://img.hhcdn.ru/employer-logo-original/1274376.png', '90': 'https://img.hhcdn.ru/employer-logo/6717810.png', '240': 'https://img.hhcdn.ru/employer-logo/6717811.png'}, 'vacancies_url': 'https://api.hh.ru/vacancies?employer_id=11056724', 'accredited_it_employer': False, 'trusted': False}, 'snippet': {'requirement': 'Опыт работы желателен. Можно рассмотреть как подработку для студента, в том числе. Опрятный внешний вид. Грамотная устная речь, порядочность, честность.', 'responsibility': 'Подготовка кабинета <highlighttext>врача</highlighttext> к работе; проверка кабинета в течение дня на наличие расходников, необходимых препаратов. Взаимодействие и коммуникация с <highlighttext>врачом</highlighttext>...'}, 'contacts': None, 'schedule': {'id': 'shift', 'name': 'Сменный график'}, 'working_days': [], 'working_time_intervals': [], 'working_time_modes': [], 'accept_temporary': False, 'professional_roles': [{'id': '40', 'name': 'Другое'}], 'accept_incomplete_resumes': True, 'experience': {'id': 'between1And3', 'name': 'От 1 года до 3 лет'}, 'employment': {'id': 'full', 'name': 'Полная занятость'}, 'adv_response_url': None, 'is_adv_vacancy': False, 'adv_context': None}, {'id': '98928516', 'premium': False, 'name': 'Врач-ортодонт', 'department': None, 'has_test': False, 'response_letter_required': False, 'area': {'id': '1', 'name': 'Москва', 'url': 'https://api.hh.ru/areas/1'}, 'salary': None, 'type': {'id': 'open', 'name': 'Открытая'}, 'address': {'city': 'Москва', 'street': 'Наставнический переулок', 'building': '17с1', 'lat': 55.748787, 'lng': 37.66601, 'description': None, 'raw': 'Москва, Наставнический переулок, 17с1', 'metro': {'station_name': 'Чкаловская', 'line_name': 'Люблинско-Дмитровская', 'station_id': '10.72', 'line_id': '10', 'lat': 55.755951, 'lng': 37.659293}, 'metro_stations': [{'station_name': 'Чкаловская', 'line_name': 'Люблинско-Дмитровская', 'station_id': '10.72', 'line_id': '10', 'lat': 55.755951, 'lng': 37.659293}], 'id': '3774152'}, 'response_url': None, 'sort_point_distance': None, 'published_at': '2024-05-14T13:56:55+0300', 'created_at': '2024-05-14T13:56:55+0300', 'archived': False, 'apply_alternate_url': 'https://hh.ru/applicant/vacancy_response?vacancyId=98928516', 'show_logo_in_search': None, 'insider_interview': None, 'url': 'https://api.hh.ru/vacancies/98928516?host=hh.ru', 'alternate_url': 'https://hh.ru/vacancy/98928516', 'relations': [], 'employer': {'id': '241993', 'name': 'agami стоматология', 'url': 'https://api.hh.ru/employers/241993', 'alternate_url': 'https://hh.ru/employer/241993', 'logo_urls': {'original': 'https://img.hhcdn.ru/employer-logo-original/1264638.png', '90': 'https://img.hhcdn.ru/employer-logo/6678878.png', '240': 'https://img.hhcdn.ru/employer-logo/6678879.png'}, 'vacancies_url': 'https://api.hh.ru/vacancies?employer_id=241993', 'accredited_it_employer': False, 'trusted': True}, 'snippet': {'requirement': 'Опыт работы от 10 лет после окончания ординатуры. Действующий сертификат по ортодонтии. Владение современными методами и технологиями лечения (портфолио обязательно). ', 'responsibility': 'Ведение ортодонтического приема в полном объеме. Проведение диагностики и лечение зубочелюстных аномалий всех возрастных категорий. Ортодонтическая подготовка к протезированию, имплантации. '}, 'contacts': None, 'schedule': {'id': 'fullDay', 'name': 'Полный день'}, 'working_days': [], 'working_time_intervals': [], 'working_time_modes': [], 'accept_temporary': False, 'professional_roles': [{'id': '24', 'name': 'Врач'}], 'accept_incomplete_resumes': False, 'experience': {'id': 'moreThan6', 'name': 'Более 6 лет'}, 'employment': {'id': 'full', 'name': 'Полная занятость'}, 'adv_response_url': None, 'is_adv_vacancy': False, 'adv_context': None}, {'id': '98751151', 'premium': False, 'name': 'Врач УЗИ-диагностики в частную клинику', 'department': None, 'has_test': False, 'response_letter_required': False, 'area': {'id': '1', 'name': 'Москва', 'url': 'https://api.hh.ru/areas/1'}, 'salary': {'from': 250000, 'to': None, 'currency': 'RUR', 'gross': False}, 'type': {'id': 'open', 'name': 'Открытая'}, 'address': {'city': 'Москва', 'street': 'Мещанская улица', 'building': '7с1', 'lat': 55.77552283957804, 'lng': 37.62732108101994, 'description': None, 'raw': 'Москва, Мещанская улица, 7с1', 'metro': None, 'metro_stations': [], 'id': '12249059'}, 'response_url': None, 'sort_point_distance': None, 'published_at': '2024-05-13T07:59:05+0300', 'created_at': '2024-05-13T07:59:05+0300', 'archived': False, 'apply_alternate_url': 'https://hh.ru/applicant/vacancy_response?vacancyId=98751151', 'show_logo_in_search': None, 'insider_interview': None, 'url': 'https://api.hh.ru/vacancies/98751151?host=hh.ru', 'alternate_url': 'https://hh.ru/vacancy/98751151', 'relations': [], 'employer': {'id': '9375079', 'name': 'Медицинский Центр на Мещанской', 'url': 'https://api.hh.ru/employers/9375079', 'alternate_url': 'https://hh.ru/employer/9375079', 'logo_urls': {'90': 'https://img.hhcdn.ru/employer-logo/6525685.png', '240': 'https://img.hhcdn.ru/employer-logo/6525686.png', 'original': 'https://img.hhcdn.ru/employer-logo-original/1226311.png'}, 'vacancies_url': 'https://api.hh.ru/vacancies?employer_id=9375079', 'accredited_it_employer': False, 'trusted': True}, 'snippet': {'requirement': 'Опыт работы на УЗИ-аппарате в частном медицинском центре ОБЯЗАТЕЛЬНО! Высшее медицинское образование. Действующий сертификат по УЗД.', 'responsibility': 'УЗИ-диагностика суставов, вен и артерий нижних конечностей, брюшной полости.'}, 'contacts': None, 'schedule': {'id': 'fullDay', 'name': 'Полный день'}, 'working_days': [], 'working_time_intervals': [], 'working_time_modes': [], 'accept_temporary': False, 'professional_roles': [{'id': '24', 'name': 'Врач'}], 'accept_incomplete_resumes': False, 'experience': {'id': 'between3And6', 'name': 'От 3 до 6 лет'}, 'employment': {'id': 'full', 'name': 'Полная занятость'}, 'adv_response_url': None, 'is_adv_vacancy': False, 'adv_context': None}, {'id': '98562259', 'premium': False, 'name': 'Стажер', 'department': None, 'has_test': False, 'response_letter_required': False, 'area': {'id': '1', 'name': 'Москва', 'url': 'https://api.hh.ru/areas/1'}, 'salary': None, 'type': {'id': 'open', 'name': 'Открытая'}, 'address': {'city': 'Москва', 'street': 'улица Зорге', 'building': '1', 'lat': 55.778699, 'lng': 37.512371, 'description': None, 'raw': 'Москва, улица Зорге, 1', 'metro': {'station_name': 'Полежаевская', 'line_name': 'Таганско-Краснопресненская', 'station_id': '7.114', 'line_id': '7', 'lat': 55.777201, 'lng': 37.517895}, 'metro_stations': [{'station_name': 'Полежаевская', 'line_name': 'Таганско-Краснопресненская', 'station_id': '7.114', 'line_id': '7', 'lat': 55.777201, 'lng': 37.517895}], 'id': '62451'}, 'response_url': None, 'sort_point_distance': None, 'published_at': '2024-05-07T16:52:53+0300', 'created_at': '2024-05-07T16:52:53+0300', 'archived': False, 'apply_alternate_url': 'https://hh.ru/applicant/vacancy_response?vacancyId=98562259', 'branding': {'type': 'MAKEUP', 'tariff': None}, 'show_logo_in_search': True, 'insider_interview': None, 'url': 'https://api.hh.ru/vacancies/98562259?host=hh.ru', 'alternate_url': 'https://hh.ru/vacancy/98562259', 'relations': [], 'employer': {'id': '2292', 'name': 'Эксмо, издательство', 'url': 'https://api.hh.ru/employers/2292', 'alternate_url': 'https://hh.ru/employer/2292', 'logo_urls': {'240': 'https://img.hhcdn.ru/employer-logo/2258100.jpeg', '90': 'https://img.hhcdn.ru/employer-logo/2258099.jpeg', 'original': 'https://img.hhcdn.ru/employer-logo-original/454033.jpg'}, 'vacancies_url': 'https://api.hh.ru/vacancies?employer_id=2292', 'accredited_it_employer': False, 'trusted': True}, 'snippet': {'requirement': 'Возможность задавать вопросы по тематике деятельности и получать на них профессиональные ответы. Документы о прохождении практики/стажировки для ВУЗа или...', 'responsibility': 'Обучаться процессу издания книг. Помогать редакторам в производственных процессах. Обучаться написанию аннотаций, редакционных вступлений, других материалов. Взаимодействовать с редакциями и...'}, 'contacts': None, 'schedule': {'id': 'flexible', 'name': 'Гибкий график'}, 'working_days': [], 'working_time_intervals': [{'id': 'from_four_to_six_hours_in_a_day', 'name': 'Можно работать сменами по\\xa04–6 часов в\\xa0день'}], 'working_time_modes': [{'id': 'start_after_sixteen', 'name': 'Можно начинать работать после 16:00'}], 'accept_temporary': False, 'professional_roles': [{'id': '55', 'name': 'Копирайтер, редактор, корректор'}], 'accept_incomplete_resumes': False, 'experience': {'id': 'noExperience', 'name': 'Нет опыта'}, 'employment': {'id': 'probation', 'name': 'Стажировка'}, 'adv_response_url': None, 'is_adv_vacancy': False, 'adv_context': None}, {'id': '97703541', 'premium': False, 'name': 'Менеджер по работе с маркетплейсами Вайлдберриз (посуда)', 'department': None, 'has_test': False, 'response_letter_required': False, 'area': {'id': '1', 'name': 'Москва', 'url': 'https://api.hh.ru/areas/1'}, 'salary': {'from': 100000, 'to': None, 'currency': 'RUR', 'gross': False}, 'type': {'id': 'open', 'name': 'Открытая'}, 'address': {'city': 'Москва', 'street': 'Верхняя Радищевская улица', 'building': '16с2', 'lat': 55.743325, 'lng': 37.650532, 'description': None, 'raw': 'Москва, Верхняя Радищевская улица, 16с2', 'metro': None, 'metro_stations': [], 'id': '7219435'}, 'response_url': None, 'sort_point_distance': None, 'published_at': '2024-05-14T11:23:53+0300', 'created_at': '2024-05-14T11:23:53+0300', 'archived': False, 'apply_alternate_url': 'https://hh.ru/applicant/vacancy_response?vacancyId=97703541', 'insider_interview': None, 'url': 'https://api.hh.ru/vacancies/97703541?host=hh.ru', 'alternate_url': 'https://hh.ru/vacancy/97703541', 'relations': [], 'employer': {'id': '4700749', 'name': 'Монолит', 'url': 'https://api.hh.ru/employers/4700749', 'alternate_url': 'https://hh.ru/employer/4700749', 'logo_urls': None, 'vacancies_url': 'https://api.hh.ru/vacancies?employer_id=4700749', 'accredited_it_employer': False, 'trusted': True}, 'snippet': {'requirement': 'Средне-специальное и/или Высшее образование. Обязателен опыт работы с маркетплейсом Вайлдберриз (продвижение товара и аналитика). Обязательно предоставлять ссылки на...', 'responsibility': 'Работа с товарной категорией Дом-Кухня- посуда и кухонный инвентарь. Составление ТЗ для ассистента по заполнению карточек товаров (фото, видео...'}, 'contacts': None, 'schedule': {'id': 'fullDay', 'name': 'Полный день'}, 'working_days': [], 'working_time_intervals': [], 'working_time_modes': [], 'accept_temporary': False, 'professional_roles': [{'id': '70', 'name': 'Менеджер по продажам, менеджер по работе с клиентами'}], 'accept_incomplete_resumes': False, 'experience': {'id': 'between1And3', 'name': 'От 1 года до 3 лет'}, 'employment': {'id': 'full', 'name': 'Полная занятость'}, 'adv_response_url': None, 'is_adv_vacancy': False, 'adv_context': None}, {'id': '98810636', 'premium': False, 'name': 'Руководитель отдела продаж / Директор по продажам', 'department': None, 'has_test': False, 'response_letter_required': False, 'area': {'id': '1', 'name': 'Москва', 'url': 'https://api.hh.ru/areas/1'}, 'salary': None, 'type': {'id': 'open', 'name': 'Открытая'}, 'address': {'city': 'Москва', 'street': 'улица Правды', 'building': '21с1', 'lat': 55.788429, 'lng': 37.581137, 'description': None, 'raw': 'Москва, улица Правды, 21с1', 'metro': None, 'metro_stations': [], 'id': '15661286'}, 'response_url': None, 'sort_point_distance': None, 'published_at': '2024-05-13T15:01:05+0300', 'created_at': '2024-05-13T15:01:05+0300', 'archived': False, 'apply_alternate_url': 'https://hh.ru/applicant/vacancy_response?vacancyId=98810636', 'show_logo_in_search': None, 'insider_interview': None, 'url': 'https://api.hh.ru/vacancies/98810636?host=hh.ru', 'alternate_url': 'https://hh.ru/vacancy/98810636', 'relations': [], 'employer': {'id': '3586115', 'name': 'Кулинарная студия Юлии Высоцкой', 'url': 'https://api.hh.ru/employers/3586115', 'alternate_url': 'https://hh.ru/employer/3586115', 'logo_urls': {'original': 'https://img.hhcdn.ru/employer-logo-original/1015301.jpg', '90': 'https://img.hhcdn.ru/employer-logo/5681972.jpeg', '240': 'https://img.hhcdn.ru/employer-logo/5681973.jpeg'}, 'vacancies_url': 'https://api.hh.ru/vacancies?employer_id=3586115', 'accredited_it_employer': False, 'trusted': True}, 'snippet': {'requirement': 'Высшее профессиональное образование (желательно экономическое). Опыт в сфере активных продаж услуг не менее 5 лет. Опыт привлечения и развития крупных...', 'responsibility': 'Составление и контроль выполнение плана продаж, анализ продаж. Оптимизация и развитие каналов привлечения клиентов. Внедрение и стандартизация активных продаж В...'}, 'contacts': None, 'schedule': {'id': 'fullDay', 'name': 'Полный день'}, 'working_days': [], 'working_time_intervals': [], 'working_time_modes': [], 'accept_temporary': False, 'professional_roles': [{'id': '106', 'name': 'Руководитель отдела продаж'}], 'accept_incomplete_resumes': False, 'experience': {'id': 'between3And6', 'name': 'От 3 до 6 лет'}, 'employment': {'id': 'full', 'name': 'Полная занятость'}, 'adv_response_url': None, 'is_adv_vacancy': False, 'adv_context': None}, {'id': '91737983', 'premium': False, 'name': 'Продавец в кафе', 'department': None, 'has_test': False, 'response_letter_required': False, 'area': {'id': '1', 'name': 'Москва', 'url': 'https://api.hh.ru/areas/1'}, 'salary': {'from': 50000, 'to': 85000, 'currency': 'RUR', 'gross': False}, 'type': {'id': 'open', 'name': 'Открытая'}, 'address': {'city': 'Москва', 'street': 'улица Маросейка', 'building': '8', 'lat': 55.757592, 'lng': 37.636437, 'description': None, 'raw': 'Москва, улица Маросейка, 8', 'metro': {'station_name': 'Китай-город', 'line_name': 'Калужско-Рижская', 'station_id': '6.50', 'line_id': '6', 'lat': 55.756498, 'lng': 37.631326}, 'metro_stations': [{'station_name': 'Китай-город', 'line_name': 'Калужско-Рижская', 'station_id': '6.50', 'line_id': '6', 'lat': 55.756498, 'lng': 37.631326}, {'station_name': 'Китай-город', 'line_name': 'Таганско-Краснопресненская', 'station_id': '7.51', 'line_id': '7', 'lat': 55.75436, 'lng': 37.633877}], 'id': '907651'}, 'response_url': None, 'sort_point_distance': None, 'published_at': '2024-04-24T15:41:52+0300', 'created_at': '2024-04-24T15:41:52+0300', 'archived': False, 'apply_alternate_url': 'https://hh.ru/applicant/vacancy_response?vacancyId=91737983', 'branding': {'type': 'CONSTRUCTOR', 'tariff': 'BASIC'}, 'show_logo_in_search': True, 'insider_interview': None, 'url': 'https://api.hh.ru/vacancies/91737983?host=hh.ru', 'alternate_url': 'https://hh.ru/vacancy/91737983', 'relations': [], 'employer': {'id': '2640137', 'name': 'Брусника', 'url': 'https://api.hh.ru/employers/2640137', 'alternate_url': 'https://hh.ru/employer/2640137', 'logo_urls': {'90': 'https://img.hhcdn.ru/employer-logo/3754443.jpeg', '240': 'https://img.hhcdn.ru/employer-logo/3754444.jpeg', 'original': 'https://img.hhcdn.ru/employer-logo-original/828390.jpeg'}, 'vacancies_url': 'https://api.hh.ru/vacancies?employer_id=2640137', 'accredited_it_employer': False, 'trusted': True}, 'snippet': {'requirement': 'Доброжелательность, коммуникабельность, желание развиваться и обучаться. Ответственность, пунктуальность и амбициозность. Опыт работы не важен, всему научим, покажем и расскажем.', 'responsibility': 'Предпродажная подготовка и выкладка товаров. Помощь в выборе блюд. Расчет на кассе. Поддержание чистоты рабочего места. Контроль и пополнение ассортимента.'}, 'contacts': None, 'schedule': {'id': 'fullDay', 'name': 'Полный день'}, 'working_days': [], 'working_time_intervals': [{'id': 'from_four_to_six_hours_in_a_day', 'name': 'Можно работать сменами по\\xa04–6 часов в\\xa0день'}], 'working_time_modes': [{'id': 'start_after_sixteen', 'name': 'Можно начинать работать после 16:00'}], 'accept_temporary': False, 'professional_roles': [{'id': '97', 'name': 'Продавец-консультант, продавец-кассир'}], 'accept_incomplete_resumes': True, 'experience': {'id': 'noExperience', 'name': 'Нет опыта'}, 'employment': {'id': 'part', 'name': 'Частичная занятость'}, 'adv_response_url': None, 'is_adv_vacancy': False, 'adv_context': None}, {'id': '98769100', 'premium': False, 'name': 'Координатор отдела продаж', 'department': None, 'has_test': False, 'response_letter_required': False, 'area': {'id': '1', 'name': 'Москва', 'url': 'https://api.hh.ru/areas/1'}, 'salary': {'from': 100000, 'to': None, 'currency': 'RUR', 'gross': False}, 'type': {'id': 'open', 'name': 'Открытая'}, 'address': {'city': 'Москва', 'street': 'Волоколамское шоссе', 'building': '114к1', 'lat': 55.829335, 'lng': 37.415613, 'description': None, 'raw': 'Москва, Волоколамское шоссе, 114к1', 'metro': {'station_name': 'Тушинская', 'line_name': 'Таганско-Краснопресненская', 'station_id': '7.145', 'line_id': '7', 'lat': 55.825479, 'lng': 37.437024}, 'metro_stations': [{'station_name': 'Тушинская', 'line_name': 'Таганско-Краснопресненская', 'station_id': '7.145', 'line_id': '7', 'lat': 55.825479, 'lng': 37.437024}], 'id': '353549'}, 'response_url': None, 'sort_point_distance': None, 'published_at': '2024-05-14T15:30:46+0300', 'created_at': '2024-05-14T15:30:46+0300', 'archived': False, 'apply_alternate_url': 'https://hh.ru/applicant/vacancy_response?vacancyId=98769100', 'show_logo_in_search': None, 'insider_interview': None, 'url': 'https://api.hh.ru/vacancies/98769100?host=hh.ru', 'alternate_url': 'https://hh.ru/vacancy/98769100', 'relations': [], 'employer': {'id': '1160796', 'name': 'Компания Время', 'url': 'https://api.hh.ru/employers/1160796', 'alternate_url': 'https://hh.ru/employer/1160796', 'logo_urls': {'original': 'https://img.hhcdn.ru/employer-logo-original/1032728.jpg', '240': 'https://img.hhcdn.ru/employer-logo/5751673.jpeg', '90': 'https://img.hhcdn.ru/employer-logo/5751672.jpeg'}, 'vacancies_url': 'https://api.hh.ru/vacancies?employer_id=1160796', 'accredited_it_employer': False, 'trusted': True}, 'snippet': {'requirement': 'Уверенный пользователь ПК, знание 1С. Заинтересованы в карьерном росте. Ориентированы на результат, аккуратны, исполнительны, внимательны, коммуникабельны. В работе Вам...', 'responsibility': 'Работа с действующими клиентами. Документальное сопровождение продаж, прием и оформление заказов. Составление отчетов. Активная работа в 1С. '}, 'contacts': None, 'schedule': {'id': 'fullDay', 'name': 'Полный день'}, 'working_days': [], 'working_time_intervals': [], 'working_time_modes': [], 'accept_temporary': False, 'professional_roles': [{'id': '54', 'name': 'Координатор отдела продаж'}], 'accept_incomplete_resumes': False, 'experience': {'id': 'between1And3', 'name': 'От 1 года до 3 лет'}, 'employment': {'id': 'full', 'name': 'Полная занятость'}, 'adv_response_url': None, 'is_adv_vacancy': False, 'adv_context': None}, {'id': '98706626', 'premium': False, 'name': 'Шеф-повар', 'department': None, 'has_test': False, 'response_letter_required': True, 'area': {'id': '1', 'name': 'Москва', 'url': 'https://api.hh.ru/areas/1'}, 'salary': {'from': 130000, 'to': 160000, 'currency': 'RUR', 'gross': True}, 'type': {'id': 'open', 'name': 'Открытая'}, 'address': {'city': 'Москва', 'street': 'Мосфильмовская улица', 'building': '98к2', 'lat': 55.698026, 'lng': 37.474435, 'description': None, 'raw': 'Москва, Мосфильмовская улица, 98к2', 'metro': None, 'metro_stations': [], 'id': '14731299'}, 'response_url': None, 'sort_point_distance': None, 'published_at': '2024-05-11T17:21:45+0300', 'created_at': '2024-05-11T17:21:45+0300', 'archived': False, 'apply_alternate_url': 'https://hh.ru/applicant/vacancy_response?vacancyId=98706626', 'show_logo_in_search': None, 'insider_interview': None, 'url': 'https://api.hh.ru/vacancies/98706626?host=hh.ru', 'alternate_url': 'https://hh.ru/vacancy/98706626', 'relations': [], 'employer': {'id': '9169359', 'name': 'Талисман Огни', 'url': 'https://api.hh.ru/employers/9169359', 'alternate_url': 'https://hh.ru/employer/9169359', 'logo_urls': {'original': 'https://img.hhcdn.ru/employer-logo-original/1038961.png', '240': 'https://img.hhcdn.ru/employer-logo/5776601.png', '90': 'https://img.hhcdn.ru/employer-logo/5776600.png'}, 'vacancies_url': 'https://api.hh.ru/vacancies?employer_id=9169359', 'accredited_it_employer': False, 'trusted': True}, 'snippet': {'requirement': 'Опыт работы в заведениях с 0. Направление знаний по <highlighttext>кулинарии</highlighttext>: комфорт-фуд, Азия, европейская. Опыт работы в аналогичной должности бренд...', 'responsibility': 'Разработка штатного расписания и графика работы персонала кухни, оптимизация структуры подразделений кухни. Разработка меню с предоставлением технологических карт (с учетом...'}, 'contacts': None, 'schedule': {'id': 'fullDay', 'name': 'Полный день'}, 'working_days': [], 'working_time_intervals': [], 'working_time_modes': [], 'accept_temporary': False, 'professional_roles': [{'id': '94', 'name': 'Повар, пекарь, кондитер'}], 'accept_incomplete_resumes': False, 'experience': {'id': 'noExperience', 'name': 'Нет опыта'}, 'employment': {'id': 'full', 'name': 'Полная занятость'}, 'adv_response_url': None, 'is_adv_vacancy': False, 'adv_context': None}, {'id': '98754361', 'premium': False, 'name': 'Помощник повара в закрытую столовую офиса', 'department': None, 'has_test': False, 'response_letter_required': False, 'area': {'id': '1', 'name': 'Москва', 'url': 'https://api.hh.ru/areas/1'}, 'salary': {'from': 68300, 'to': 74500, 'currency': 'RUR', 'gross': True}, 'type': {'id': 'open', 'name': 'Открытая'}, 'address': {'city': 'Москва', 'street': 'Замоскворецкая линия', 'building': 'метро Белорусская', 'lat': 55.777393, 'lng': 37.582215, 'description': None, 'raw': 'Москва, Замоскворецкая линия, метро Белорусская', 'metro': None, 'metro_stations': [], 'id': '15603192'}, 'response_url': None, 'sort_point_distance': None, 'published_at': '2024-05-13T08:30:05+0300', 'created_at': '2024-05-13T08:30:05+0300', 'archived': False, 'apply_alternate_url': 'https://hh.ru/applicant/vacancy_response?vacancyId=98754361', 'show_logo_in_search': None, 'insider_interview': None, 'url': 'https://api.hh.ru/vacancies/98754361?host=hh.ru', 'alternate_url': 'https://hh.ru/vacancy/98754361', 'relations': [], 'employer': {'id': '10654070', 'name': 'Аутсорсинг Групп', 'url': 'https://api.hh.ru/employers/10654070', 'alternate_url': 'https://hh.ru/employer/10654070', 'logo_urls': {'original': 'https://img.hhcdn.ru/employer-logo-original/1211891.jpg', '240': 'https://img.hhcdn.ru/employer-logo/6468014.jpeg', '90': 'https://img.hhcdn.ru/employer-logo/6468013.jpeg'}, 'vacancies_url': 'https://api.hh.ru/vacancies?employer_id=10654070', 'accredited_it_employer': False, 'trusted': True}, 'snippet': {'requirement': 'Принимаем на обучение без опыта.', 'responsibility': 'Приготовление различных блюд согласно технологическим картам.'}, 'contacts': None, 'schedule': {'id': 'shift', 'name': 'Сменный график'}, 'working_days': [], 'working_time_intervals': [], 'working_time_modes': [], 'accept_temporary': False, 'professional_roles': [{'id': '94', 'name': 'Повар, пекарь, кондитер'}], 'accept_incomplete_resumes': False, 'experience': {'id': 'noExperience', 'name': 'Нет опыта'}, 'employment': {'id': 'full', 'name': 'Полная занятость'}, 'adv_response_url': None, 'is_adv_vacancy': False, 'adv_context': None}, {'id': '97213024', 'premium': False, 'name': 'Флорист', 'department': None, 'has_test': False, 'response_letter_required': False, 'area': {'id': '1', 'name': 'Москва', 'url': 'https://api.hh.ru/areas/1'}, 'salary': {'from': 80000, 'to': None, 'currency': 'RUR', 'gross': False}, 'type': {'id': 'open', 'name': 'Открытая'}, 'address': {'city': 'Москва', 'street': 'проспект Мира', 'building': '46', 'lat': 55.781322, 'lng': 37.634083, 'description': None, 'raw': 'Москва, проспект Мира, 46', 'metro': {'station_name': 'Площадь трёх вокзалов', 'line_name': 'МЦД-4', 'station_id': '136.890', 'line_id': '136', 'lat': 55.776667, 'lng': 37.651111}, 'metro_stations': [{'station_name': 'Площадь трёх вокзалов', 'line_name': 'МЦД-4', 'station_id': '136.890', 'line_id': '136', 'lat': 55.776667, 'lng': 37.651111}, {'station_name': 'Проспект Мира', 'line_name': 'Кольцевая', 'station_id': '5.119', 'line_id': '5', 'lat': 55.779584, 'lng': 37.633646}, {'station_name': 'Проспект Мира', 'line_name': 'Калужско-Рижская', 'station_id': '6.120', 'line_id': '6', 'lat': 55.781827, 'lng': 37.633199}, {'station_name': 'Сухаревская', 'line_name': 'Калужско-Рижская', 'station_id': '6.137', 'line_id': '6', 'lat': 55.772315, 'lng': 37.63285}], 'id': '15549690'}, 'response_url': None, 'sort_point_distance': None, 'published_at': '2024-04-17T12:10:13+0300', 'created_at': '2024-04-17T12:10:13+0300', 'archived': False, 'apply_alternate_url': 'https://hh.ru/applicant/vacancy_response?vacancyId=97213024', 'insider_interview': None, 'url': 'https://api.hh.ru/vacancies/97213024?host=hh.ru', 'alternate_url': 'https://hh.ru/vacancy/97213024', 'relations': [], 'employer': {'id': '10985758', 'name': 'Purpur', 'url': 'https://api.hh.ru/employers/10985758', 'alternate_url': 'https://hh.ru/employer/10985758', 'logo_urls': None, 'vacancies_url': 'https://api.hh.ru/vacancies?employer_id=10985758', 'accredited_it_employer': False, 'trusted': True}, 'snippet': {'requirement': 'Творческий подход к работе, аккуратность, доброжелательность, порядочность. Опыт работы желателен. Если у вас есть опыт, пишите сразу в WhatsApp или...', 'responsibility': 'Уверенная, качественная сборка букетов и композиций. Составление букетов и композиций различной сложности, в том числе по фото. Продажа, консультация клиентов. '}, 'contacts': None, 'schedule': {'id': 'shift', 'name': 'Сменный график'}, 'working_days': [], 'working_time_intervals': [], 'working_time_modes': [], 'accept_temporary': True, 'professional_roles': [{'id': '97', 'name': 'Продавец-консультант, продавец-кассир'}], 'accept_incomplete_resumes': True, 'experience': {'id': 'noExperience', 'name': 'Нет опыта'}, 'employment': {'id': 'full', 'name': 'Полная занятость'}, 'adv_response_url': None, 'is_adv_vacancy': False, 'adv_context': None}, {'id': '95460316', 'premium': False, 'name': 'Помощник флориста', 'department': None, 'has_test': False, 'response_letter_required': False, 'area': {'id': '1', 'name': 'Москва', 'url': 'https://api.hh.ru/areas/1'}, 'salary': {'from': 60000, 'to': None, 'currency': 'RUR', 'gross': False}, 'type': {'id': 'open', 'name': 'Открытая'}, 'address': {'city': 'поселение Сосенское', 'street': 'Прокшинский проспект', 'building': '9', 'lat': 55.591599, 'lng': 37.42916, 'description': None, 'raw': 'поселение Сосенское, Прокшинский проспект, 9', 'metro': None, 'metro_stations': [], 'id': '15393801'}, 'response_url': None, 'sort_point_distance': None, 'published_at': '2024-05-06T15:04:05+0300', 'created_at': '2024-05-06T15:04:05+0300', 'archived': False, 'apply_alternate_url': 'https://hh.ru/applicant/vacancy_response?vacancyId=95460316', 'show_logo_in_search': None, 'insider_interview': None, 'url': 'https://api.hh.ru/vacancies/95460316?host=hh.ru', 'alternate_url': 'https://hh.ru/vacancy/95460316', 'relations': [], 'employer': {'id': '10703367', 'name': 'Bouquet’s_LAB', 'url': 'https://api.hh.ru/employers/10703367', 'alternate_url': 'https://hh.ru/employer/10703367', 'logo_urls': {'original': 'https://img.hhcdn.ru/employer-logo-original/1253587.png', '90': 'https://img.hhcdn.ru/employer-logo/6634777.png', '240': 'https://img.hhcdn.ru/employer-logo/6634778.png'}, 'vacancies_url': 'https://api.hh.ru/vacancies?employer_id=10703367', 'accredited_it_employer': False, 'trusted': True}, 'snippet': {'requirement': 'Опыт от 3 месяцев, либо желание научиться. Любовь к цветам и инициативность.', 'responsibility': 'создание современных букетов, компoзиций. -Работа с Горшечными растениями (уход, пересадка). -пpиём, обрaбoткa цветoчнoй пocтaвки. -обработка заказов онлайн, и через Flowwow. -'}, 'contacts': None, 'schedule': {'id': 'shift', 'name': 'Сменный график'}, 'working_days': [], 'working_time_intervals': [], 'working_time_modes': [], 'accept_temporary': True, 'professional_roles': [{'id': '40', 'name': 'Другое'}], 'accept_incomplete_resumes': True, 'experience': {'id': 'noExperience', 'name': 'Нет опыта'}, 'employment': {'id': 'full', 'name': 'Полная занятость'}, 'adv_response_url': None, 'is_adv_vacancy': False, 'adv_context': None}, {'id': '97979983', 'premium': False, 'name': 'Помощник флориста', 'department': None, 'has_test': False, 'response_letter_required': False, 'area': {'id': '1', 'name': 'Москва', 'url': 'https://api.hh.ru/areas/1'}, 'salary': {'from': 42000, 'to': 48000, 'currency': 'RUR', 'gross': False}, 'type': {'id': 'open', 'name': 'Открытая'}, 'address': {'city': 'Москва', 'street': 'Трёхпрудный переулок', 'building': None, 'lat': 55.76574418960276, 'lng': 37.596579832995225, 'description': None, 'raw': 'Москва, Трёхпрудный переулок', 'metro': {'station_name': 'Маяковская', 'line_name': 'Замоскворецкая', 'station_id': '2.80', 'line_id': '2', 'lat': 55.769808, 'lng': 37.596192}, 'metro_stations': [{'station_name': 'Маяковская', 'line_name': 'Замоскворецкая', 'station_id': '2.80', 'line_id': '2', 'lat': 55.769808, 'lng': 37.596192}, {'station_name': 'Пушкинская', 'line_name': 'Таганско-Краснопресненская', 'station_id': '7.124', 'line_id': '7', 'lat': 55.765607, 'lng': 37.604356}, {'station_name': 'Тверская', 'line_name': 'Замоскворецкая', 'station_id': '2.122', 'line_id': '2', 'lat': 55.765343, 'lng': 37.603918}], 'id': '5888201'}, 'response_url': None, 'sort_point_distance': None, 'published_at': '2024-05-14T11:25:11+0300', 'created_at': '2024-05-14T11:25:11+0300', 'archived': False, 'apply_alternate_url': 'https://hh.ru/applicant/vacancy_response?vacancyId=97979983', 'branding': {'type': 'CONSTRUCTOR', 'tariff': 'BASIC'}, 'show_logo_in_search': True, 'insider_interview': None, 'url': 'https://api.hh.ru/vacancies/97979983?host=hh.ru', 'alternate_url': 'https://hh.ru/vacancy/97979983', 'relations': [], 'employer': {'id': '2845639', 'name': 'Why not?', 'url': 'https://api.hh.ru/employers/2845639', 'alternate_url': 'https://hh.ru/employer/2845639', 'logo_urls': {'original': 'https://img.hhcdn.ru/employer-logo-original/1258590.png', '90': 'https://img.hhcdn.ru/employer-logo/6654690.png', '240': 'https://img.hhcdn.ru/employer-logo/6654691.png'}, 'vacancies_url': 'https://api.hh.ru/vacancies?employer_id=2845639', 'accredited_it_employer': False, 'trusted': True}, 'snippet': {'requirement': 'Желание стать частью дружного и ответственного коллектива с тонким вкусом. Фото портфолио собранных букетов, если у тебя есть опыт. ', 'responsibility': 'Помогать <highlighttext>флористу</highlighttext> и администратору. Чистить цветы и принимать поставку цветов. Собирать простые букеты. Упаковывать заказы. Поддерживать чистоту в цветочном салоне. '}, 'contacts': None, 'schedule': {'id': 'shift', 'name': 'Сменный график'}, 'working_days': [], 'working_time_intervals': [], 'working_time_modes': [], 'accept_temporary': False, 'professional_roles': [{'id': '40', 'name': 'Другое'}], 'accept_incomplete_resumes': False, 'experience': {'id': 'noExperience', 'name': 'Нет опыта'}, 'employment': {'id': 'full', 'name': 'Полная занятость'}, 'adv_response_url': None, 'is_adv_vacancy': False, 'adv_context': None}, {'id': '98124276', 'premium': False, 'name': 'Управляющий-администратор в цветочный интернет магазин', 'department': None, 'has_test': False, 'response_letter_required': False, 'area': {'id': '1', 'name': 'Москва', 'url': 'https://api.hh.ru/areas/1'}, 'salary': {'from': 80000, 'to': 120000, 'currency': 'RUR', 'gross': False}, 'type': {'id': 'open', 'name': 'Открытая'}, 'address': {'city': 'Москва', 'street': 'улица Госпитальный Вал', 'building': '3к2', 'lat': 55.771823, 'lng': 37.705194, 'description': None, 'raw': 'Москва, улица Госпитальный Вал, 3к2', 'metro': None, 'metro_stations': [], 'id': '5743045'}, 'response_url': None, 'sort_point_distance': None, 'published_at': '2024-04-29T07:15:53+0300', 'created_at': '2024-04-29T07:15:53+0300', 'archived': False, 'apply_alternate_url': 'https://hh.ru/applicant/vacancy_response?vacancyId=98124276', 'show_logo_in_search': None, 'insider_interview': None, 'url': 'https://api.hh.ru/vacancies/98124276?host=hh.ru', 'alternate_url': 'https://hh.ru/vacancy/98124276', 'relations': [], 'employer': {'id': '1693608', 'name': 'Повод найдется', 'url': 'https://api.hh.ru/employers/1693608', 'alternate_url': 'https://hh.ru/employer/1693608', 'logo_urls': {'90': 'https://img.hhcdn.ru/employer-logo/3291256.png', '240': 'https://img.hhcdn.ru/employer-logo/3291257.png', 'original': 'https://img.hhcdn.ru/employer-logo-original/712535.png'}, 'vacancies_url': 'https://api.hh.ru/vacancies?employer_id=1693608', 'accredited_it_employer': False, 'trusted': True}, 'snippet': {'requirement': 'Что мы ждем от вас:- Релевантный опыт работы руководителем в цветочных интернет-магазинах от 3 х лет. - Нацеленность на коммерческий...', 'responsibility': 'Что вам предстоит делать:* Управление командой <highlighttext>флористов</highlighttext> ( 4 человека в подчинении);* Рассчитывать закупку, выводить из ассортимента неликвидный товар.;* Контроль за...'}, 'contacts': None, 'schedule': {'id': 'shift', 'name': 'Сменный график'}, 'working_days': [], 'working_time_intervals': [], 'working_time_modes': [], 'accept_temporary': False, 'professional_roles': [{'id': '9', 'name': 'Администратор магазина, администратор торгового зала'}], 'accept_incomplete_resumes': False, 'experience': {'id': 'between3And6', 'name': 'От 3 до 6 лет'}, 'employment': {'id': 'full', 'name': 'Полная занятость'}, 'adv_response_url': None, 'is_adv_vacancy': False, 'adv_context': None}, {'id': '98683049', 'premium': False, 'name': 'Помощник флориста', 'department': None, 'has_test': False, 'response_letter_required': False, 'area': {'id': '1', 'name': 'Москва', 'url': 'https://api.hh.ru/areas/1'}, 'salary': {'from': 40500, 'to': None, 'currency': 'RUR', 'gross': False}, 'type': {'id': 'open', 'name': 'Открытая'}, 'address': {'city': 'Москва', 'street': 'Банный переулок', 'building': '2с2', 'lat': 55.785766, 'lng': 37.636689, 'description': None, 'raw': 'Москва, Банный переулок, 2с2', 'metro': {'station_name': 'Проспект Мира', 'line_name': 'Кольцевая', 'station_id': '5.119', 'line_id': '5', 'lat': 55.779584, 'lng': 37.633646}, 'metro_stations': [{'station_name': 'Проспект Мира', 'line_name': 'Кольцевая', 'station_id': '5.119', 'line_id': '5', 'lat': 55.779584, 'lng': 37.633646}, {'station_name': 'Проспект Мира', 'line_name': 'Калужско-Рижская', 'station_id': '6.120', 'line_id': '6', 'lat': 55.781827, 'lng': 37.633199}], 'id': '14673303'}, 'response_url': None, 'sort_point_distance': None, 'published_at': '2024-05-13T16:43:31+0300', 'created_at': '2024-05-13T16:43:31+0300', 'archived': False, 'apply_alternate_url': 'https://hh.ru/applicant/vacancy_response?vacancyId=98683049', 'insider_interview': None, 'url': 'https://api.hh.ru/vacancies/98683049?host=hh.ru', 'alternate_url': 'https://hh.ru/vacancy/98683049', 'relations': [], 'employer': {'id': '5977032', 'name': 'Монобукет', 'url': 'https://api.hh.ru/employers/5977032', 'alternate_url': 'https://hh.ru/employer/5977032', 'logo_urls': None, 'vacancies_url': 'https://api.hh.ru/vacancies?employer_id=5977032', 'accredited_it_employer': False, 'trusted': True}, 'snippet': {'requirement': 'Ищем активного, ответственного и трудолюбивого человека с хорошим вкусом и большим желанием учиться! Минимальный опыт работы помощником <highlighttext>флориста</highlighttext>, или флористические...', 'responsibility': '...точечная закупка, помощь <highlighttext>флористу</highlighttext> в сборке композиций и букетов, поддержание чистоты в мастерской и холодильнике, выполнение прочих профессиональных поручений <highlighttext>флориста</highlighttext>.'}, 'contacts': None, 'schedule': {'id': 'shift', 'name': 'Сменный график'}, 'working_days': [], 'working_time_intervals': [], 'working_time_modes': [], 'accept_temporary': True, 'professional_roles': [{'id': '40', 'name': 'Другое'}], 'accept_incomplete_resumes': True, 'experience': {'id': 'noExperience', 'name': 'Нет опыта'}, 'employment': {'id': 'full', 'name': 'Полная занятость'}, 'adv_response_url': None, 'is_adv_vacancy': False, 'adv_context': None}, {'id': '98428582', 'premium': False, 'name': 'Помощник в цветочный магазин', 'department': None, 'has_test': False, 'response_letter_required': False, 'area': {'id': '1', 'name': 'Москва', 'url': 'https://api.hh.ru/areas/1'}, 'salary': {'from': None, 'to': 50000, 'currency': 'RUR', 'gross': False}, 'type': {'id': 'open', 'name': 'Открытая'}, 'address': {'city': 'Москва', 'street': '2-я Песчаная улица', 'building': '2к2', 'lat': 55.794032, 'lng': 37.518353, 'description': None, 'raw': 'Москва, 2-я Песчаная улица, 2к2', 'metro': {'station_name': 'Аэропорт', 'line_name': 'Замоскворецкая', 'station_id': '2.12', 'line_id': '2', 'lat': 55.800441, 'lng': 37.530477}, 'metro_stations': [{'station_name': 'Аэропорт', 'line_name': 'Замоскворецкая', 'station_id': '2.12', 'line_id': '2', 'lat': 55.800441, 'lng': 37.530477}, {'station_name': 'Зорге', 'line_name': 'МЦК', 'station_id': '95.540', 'line_id': '95', 'lat': 55.787778, 'lng': 37.504444}, {'station_name': 'Сокол', 'line_name': 'Замоскворецкая', 'station_id': '2.133', 'line_id': '2', 'lat': 55.805564, 'lng': 37.515245}], 'id': '13221134'}, 'response_url': None, 'sort_point_distance': None, 'published_at': '2024-05-06T07:57:59+0300', 'created_at': '2024-05-06T07:57:59+0300', 'archived': False, 'apply_alternate_url': 'https://hh.ru/applicant/vacancy_response?vacancyId=98428582', 'insider_interview': None, 'url': 'https://api.hh.ru/vacancies/98428582?host=hh.ru', 'alternate_url': 'https://hh.ru/vacancy/98428582', 'relations': [], 'employer': {'id': '4704432', 'name': 'Королевство праздника', 'url': 'https://api.hh.ru/employers/4704432', 'alternate_url': 'https://hh.ru/employer/4704432', 'logo_urls': None, 'vacancies_url': 'https://api.hh.ru/vacancies?employer_id=4704432', 'accredited_it_employer': False, 'trusted': True}, 'snippet': {'requirement': 'Пунктуальность. Вежливость. Внимание к деталям.', 'responsibility': 'Помощь в приемке, обработке срезанных растений. Смена воды в вазах, поддерживание порядка на рабочем месте и в холодильнике. '}, 'contacts': None, 'schedule': {'id': 'shift', 'name': 'Сменный график'}, 'working_days': [], 'working_time_intervals': [], 'working_time_modes': [], 'accept_temporary': False, 'professional_roles': [{'id': '40', 'name': 'Другое'}], 'accept_incomplete_resumes': True, 'experience': {'id': 'noExperience', 'name': 'Нет опыта'}, 'employment': {'id': 'full', 'name': 'Полная занятость'}, 'adv_response_url': None, 'is_adv_vacancy': False, 'adv_context': None}, {'id': '97885005', 'premium': False, 'name': 'Упаковщик флорист', 'department': None, 'has_test': False, 'response_letter_required': False, 'area': {'id': '1', 'name': 'Москва', 'url': 'https://api.hh.ru/areas/1'}, 'salary': {'from': 50000, 'to': 65000, 'currency': 'RUR', 'gross': False}, 'type': {'id': 'open', 'name': 'Открытая'}, 'address': {'city': 'Москва', 'street': 'Машкова улица', 'building': '28/20', 'lat': 55.764713, 'lng': 37.654691, 'description': None, 'raw': 'Москва, Машкова улица, 28/20', 'metro': None, 'metro_stations': [], 'id': '13995207'}, 'response_url': None, 'sort_point_distance': None, 'published_at': '2024-04-25T11:04:52+0300', 'created_at': '2024-04-25T11:04:52+0300', 'archived': False, 'apply_alternate_url': 'https://hh.ru/applicant/vacancy_response?vacancyId=97885005', 'show_logo_in_search': None, 'insider_interview': None, 'url': 'https://api.hh.ru/vacancies/97885005?host=hh.ru', 'alternate_url': 'https://hh.ru/vacancy/97885005', 'relations': [], 'employer': {'id': '5540916', 'name': 'Цветочный Кондитер', 'url': 'https://api.hh.ru/employers/5540916', 'alternate_url': 'https://hh.ru/employer/5540916', 'logo_urls': {'240': 'https://img.hhcdn.ru/employer-logo/3946192.png', '90': 'https://img.hhcdn.ru/employer-logo/3946191.png', 'original': 'https://img.hhcdn.ru/employer-logo-original/876329.png'}, 'vacancies_url': 'https://api.hh.ru/vacancies?employer_id=5540916', 'accredited_it_employer': False, 'trusted': True}, 'snippet': {'requirement': 'Аккуратность. Чистоплотность. Коммуникабельность.', 'responsibility': 'Упаковка кондитерских изделий. Подготовка печатной продукции. Аккуратная сборка и контроль за сроком изготовления изделий. Контроль за наличием упаковочных материалов. '}, 'contacts': None, 'schedule': {'id': 'shift', 'name': 'Сменный график'}, 'working_days': [], 'working_time_intervals': [], 'working_time_modes': [], 'accept_temporary': True, 'professional_roles': [{'id': '40', 'name': 'Другое'}], 'accept_incomplete_resumes': False, 'experience': {'id': 'noExperience', 'name': 'Нет опыта'}, 'employment': {'id': 'full', 'name': 'Полная занятость'}, 'adv_response_url': None, 'is_adv_vacancy': False, 'adv_context': None}, {'id': '97428191', 'premium': False, 'name': 'Менеджер по обработке заказов в цветочную мастерскую', 'department': None, 'has_test': False, 'response_letter_required': False, 'area': {'id': '1', 'name': 'Москва', 'url': 'https://api.hh.ru/areas/1'}, 'salary': {'from': 100000, 'to': 120000, 'currency': 'RUR', 'gross': False}, 'type': {'id': 'open', 'name': 'Открытая'}, 'address': {'city': 'Москва', 'street': 'улица Гиляровского', 'building': '65с1', 'lat': 55.78973390612452, 'lng': 37.632741351356884, 'description': None, 'raw': 'Москва, улица Гиляровского, 65с1', 'metro': {'station_name': 'Проспект Мира', 'line_name': 'Калужско-Рижская', 'station_id': '6.120', 'line_id': '6', 'lat': 55.781827, 'lng': 37.633199}, 'metro_stations': [{'station_name': 'Проспект Мира', 'line_name': 'Калужско-Рижская', 'station_id': '6.120', 'line_id': '6', 'lat': 55.781827, 'lng': 37.633199}, {'station_name': 'Рижская', 'line_name': 'Калужско-Рижская', 'station_id': '6.126', 'line_id': '6', 'lat': 55.792494, 'lng': 37.636114}, {'station_name': 'Рижская', 'line_name': 'Большая кольцевая линия', 'station_id': '97.822', 'line_id': '97', 'lat': 55.792222, 'lng': 37.633889}, {'station_name': 'Рижская', 'line_name': 'МЦД-2', 'station_id': '132.724', 'line_id': '132', 'lat': 55.792494, 'lng': 37.636114}], 'id': '13598980'}, 'response_url': None, 'sort_point_distance': None, 'published_at': '2024-05-13T13:18:19+0300', 'created_at': '2024-05-13T13:18:19+0300', 'archived': False, 'apply_alternate_url': 'https://hh.ru/applicant/vacancy_response?vacancyId=97428191', 'show_logo_in_search': None, 'insider_interview': None, 'url': 'https://api.hh.ru/vacancies/97428191?host=hh.ru', 'alternate_url': 'https://hh.ru/vacancy/97428191', 'relations': [], 'employer': {'id': '9500315', 'name': 'Цветочный Мир', 'url': 'https://api.hh.ru/employers/9500315', 'alternate_url': 'https://hh.ru/employer/9500315', 'logo_urls': {'original': 'https://img.hhcdn.ru/employer-logo-original/1126939.jpeg', '90': 'https://img.hhcdn.ru/employer-logo/6128345.jpeg', '240': 'https://img.hhcdn.ru/employer-logo/6128346.jpeg'}, 'vacancies_url': 'https://api.hh.ru/vacancies?employer_id=9500315', 'accredited_it_employer': False, 'trusted': True}, 'snippet': {'requirement': 'Опыт работы с цветами будет преимуществом. Опыт работы в сфере продаж, техника продаж, умение работать с чеком и возражениями. ', 'responsibility': 'Внесения информации о заказе в CRM систему. Доп продажи (шарики, мягкие игрушки). Контроль выполнения заказа <highlighttext>флористом</highlighttext>. Работа с кассой, соблюдение...'}, 'contacts': None, 'schedule': {'id': 'shift', 'name': 'Сменный график'}, 'working_days': [], 'working_time_intervals': [], 'working_time_modes': [], 'accept_temporary': False, 'professional_roles': [{'id': '70', 'name': 'Менеджер по продажам, менеджер по работе с клиентами'}], 'accept_incomplete_resumes': True, 'experience': {'id': 'between1And3', 'name': 'От 1 года до 3 лет'}, 'employment': {'id': 'full', 'name': 'Полная занятость'}, 'adv_response_url': None, 'is_adv_vacancy': False, 'adv_context': None}, {'id': '98179178', 'premium': False, 'name': 'Помощник флориста', 'department': None, 'has_test': False, 'response_letter_required': False, 'area': {'id': '1', 'name': 'Москва', 'url': 'https://api.hh.ru/areas/1'}, 'salary': {'from': 30000, 'to': 45000, 'currency': 'RUR', 'gross': False}, 'type': {'id': 'open', 'name': 'Открытая'}, 'address': {'city': 'Москва', 'street': 'Ленинский проспект', 'building': '109', 'lat': 55.663842, 'lng': 37.511445, 'description': None, 'raw': 'Москва, Ленинский проспект, 109', 'metro': None, 'metro_stations': [], 'id': '4702407'}, 'response_url': None, 'sort_point_distance': None, 'published_at': '2024-05-01T12:36:03+0300', 'created_at': '2024-05-01T12:36:03+0300', 'archived': False, 'apply_alternate_url': 'https://hh.ru/applicant/vacancy_response?vacancyId=98179178', 'insider_interview': None, 'url': 'https://api.hh.ru/vacancies/98179178?host=hh.ru', 'alternate_url': 'https://hh.ru/vacancy/98179178', 'relations': [], 'employer': {'id': '4538984', 'name': 'Выстрелков Вениамин Борисович', 'url': 'https://api.hh.ru/employers/4538984', 'alternate_url': 'https://hh.ru/employer/4538984', 'logo_urls': None, 'vacancies_url': 'https://api.hh.ru/vacancies?employer_id=4538984', 'accredited_it_employer': False, 'trusted': True}, 'snippet': {'requirement': 'Аккуратность. Ответственность. Трудолюбие. Любовь к цветам.', 'responsibility': 'Составление букетов и цветочных композиций на флористической губке. Оформление витрины. Прием поставки (только чистить и ставить на воду, носить коробки...'}, 'contacts': None, 'schedule': {'id': 'flexible', 'name': 'Гибкий график'}, 'working_days': [], 'working_time_intervals': [{'id': 'from_four_to_six_hours_in_a_day', 'name': 'Можно работать сменами по\\xa04–6 часов в\\xa0день'}], 'working_time_modes': [{'id': 'start_after_sixteen', 'name': 'Можно начинать работать после 16:00'}], 'accept_temporary': True, 'professional_roles': [{'id': '40', 'name': 'Другое'}], 'accept_incomplete_resumes': False, 'experience': {'id': 'noExperience', 'name': 'Нет опыта'}, 'employment': {'id': 'part', 'name': 'Частичная занятость'}, 'adv_response_url': None, 'is_adv_vacancy': False, 'adv_context': None}, {'id': '98953525', 'premium': False, 'name': 'Учитель-стажёр в классы начальной школы «Дети и Наука: классы»', 'department': None, 'has_test': False, 'response_letter_required': False, 'area': {'id': '1', 'name': 'Москва', 'url': 'https://api.hh.ru/areas/1'}, 'salary': {'from': 45000, 'to': 100000, 'currency': 'RUR', 'gross': False}, 'type': {'id': 'open', 'name': 'Открытая'}, 'address': {'city': 'Москва', 'street': 'улица Земляной Вал', 'building': '7', 'lat': 55.762287, 'lng': 37.657772, 'description': None, 'raw': 'Москва, улица Земляной Вал, 7', 'metro': {'station_name': 'Курская', 'line_name': 'Арбатско-Покровская', 'station_id': '3.70', 'line_id': '3', 'lat': 55.758564, 'lng': 37.659039}, 'metro_stations': [{'station_name': 'Курская', 'line_name': 'Арбатско-Покровская', 'station_id': '3.70', 'line_id': '3', 'lat': 55.758564, 'lng': 37.659039}], 'id': '13853881'}, 'response_url': None, 'sort_point_distance': None, 'published_at': '2024-05-14T17:39:00+0300', 'created_at': '2024-05-14T17:39:00+0300', 'archived': False, 'apply_alternate_url': 'https://hh.ru/applicant/vacancy_response?vacancyId=98953525', 'show_logo_in_search': None, 'insider_interview': None, 'url': 'https://api.hh.ru/vacancies/98953525?host=hh.ru', 'alternate_url': 'https://hh.ru/vacancy/98953525', 'relations': [], 'employer': {'id': '1910906', 'name': 'Дети и наука', 'url': 'https://api.hh.ru/employers/1910906', 'alternate_url': 'https://hh.ru/employer/1910906', 'logo_urls': {'original': 'https://img.hhcdn.ru/employer-logo-original/1208651.png', '240': 'https://img.hhcdn.ru/employer-logo/6455054.png', '90': 'https://img.hhcdn.ru/employer-logo/6455053.png'}, 'vacancies_url': 'https://api.hh.ru/vacancies?employer_id=1910906', 'accredited_it_employer': False, 'trusted': True}, 'snippet': {'requirement': '...вечное и готов сменить профессию на <highlighttext>учителя</highlighttext> начальной / средней школы <highlighttext>по</highlighttext> русскому языку, <highlighttext>математике</highlighttext>, основам естествознания. У вас будет отличный...', 'responsibility': 'После этапа стажировки под руководством <highlighttext>педагога</highlighttext> вы перейдете к преподаванию в качестве <highlighttext>педагога</highlighttext>-стажера - будете самостоятельно составлять план урока и...'}, 'contacts': None, 'schedule': {'id': 'fullDay', 'name': 'Полный день'}, 'working_days': [], 'working_time_intervals': [], 'working_time_modes': [], 'accept_temporary': True, 'professional_roles': [{'id': '132', 'name': 'Учитель, преподаватель, педагог'}], 'accept_incomplete_resumes': False, 'experience': {'id': 'noExperience', 'name': 'Нет опыта'}, 'employment': {'id': 'probation', 'name': 'Стажировка'}, 'adv_response_url': None, 'is_adv_vacancy': False, 'adv_context': None}, {'id': '98923992', 'premium': False, 'name': 'Учитель начальных классов', 'department': None, 'has_test': False, 'response_letter_required': False, 'area': {'id': '1', 'name': 'Москва', 'url': 'https://api.hh.ru/areas/1'}, 'salary': {'from': 104500, 'to': 104500, 'currency': 'RUR', 'gross': False}, 'type': {'id': 'open', 'name': 'Открытая'}, 'address': {'city': 'Москва', 'street': 'Паперника', 'building': '6, к.2', 'lat': 55.719399, 'lng': 37.789447, 'description': None, 'raw': 'Москва, Паперника, 6, к.2', 'metro': {'station_name': 'Рязанский проспект', 'line_name': 'Таганско-Краснопресненская', 'station_id': '7.127', 'line_id': '7', 'lat': 55.716139, 'lng': 37.792694}, 'metro_stations': [{'station_name': 'Рязанский проспект', 'line_name': 'Таганско-Краснопресненская', 'station_id': '7.127', 'line_id': '7', 'lat': 55.716139, 'lng': 37.792694}], 'id': '115267'}, 'response_url': None, 'sort_point_distance': None, 'published_at': '2024-05-14T13:13:42+0300', 'created_at': '2024-05-14T13:13:42+0300', 'archived': False, 'apply_alternate_url': 'https://hh.ru/applicant/vacancy_response?vacancyId=98923992', 'show_logo_in_search': None, 'insider_interview': None, 'url': 'https://api.hh.ru/vacancies/98923992?host=hh.ru', 'alternate_url': 'https://hh.ru/vacancy/98923992', 'relations': [], 'employer': {'id': '43793', 'name': 'Личность, школа-детский сад', 'url': 'https://api.hh.ru/employers/43793', 'alternate_url': 'https://hh.ru/employer/43793', 'logo_urls': {'90': 'https://img.hhcdn.ru/employer-logo/509023.jpeg', '240': 'https://img.hhcdn.ru/employer-logo/509024.jpeg', 'original': 'https://img.hhcdn.ru/employer-logo-original/222786.jpg'}, 'vacancies_url': 'https://api.hh.ru/vacancies?employer_id=43793', 'accredited_it_employer': False, 'trusted': True}, 'snippet': {'requirement': 'Высшее образование. Опыт работы не менее 5 лет.', 'responsibility': 'Проведение уроков труда в начальной школе. Проведение занятий <highlighttext>по</highlighttext> <highlighttext>математике</highlighttext>, расширению кругозора и конструированию в старшей и подготовительной группах детского...'}, 'contacts': None, 'schedule': {'id': 'fullDay', 'name': 'Полный день'}, 'working_days': [], 'working_time_intervals': [], 'working_time_modes': [], 'accept_temporary': False, 'professional_roles': [{'id': '132', 'name': 'Учитель, преподаватель, педагог'}], 'accept_incomplete_resumes': False, 'experience': {'id': 'between3And6', 'name': 'От 3 до 6 лет'}, 'employment': {'id': 'full', 'name': 'Полная занятость'}, 'adv_response_url': None, 'is_adv_vacancy': False, 'adv_context': None}, {'id': '97603539', 'premium': False, 'name': 'Преподаватель по программе СПО 09.02.07', 'department': None, 'has_test': False, 'response_letter_required': False, 'area': {'id': '1', 'name': 'Москва', 'url': 'https://api.hh.ru/areas/1'}, 'salary': {'from': 100000, 'to': 120000, 'currency': 'RUR', 'gross': True}, 'type': {'id': 'open', 'name': 'Открытая'}, 'address': {'city': 'Москва', 'street': 'улица Паршина', 'building': '8', 'lat': 55.789608, 'lng': 37.459119, 'description': None, 'raw': 'Москва, улица Паршина, 8', 'metro': None, 'metro_stations': [], 'id': '14060452'}, 'response_url': None, 'sort_point_distance': None, 'published_at': '2024-05-07T13:09:04+0300', 'created_at': '2024-05-07T13:09:04+0300', 'archived': False, 'apply_alternate_url': 'https://hh.ru/applicant/vacancy_response?vacancyId=97603539', 'insider_interview': None, 'url': 'https://api.hh.ru/vacancies/97603539?host=hh.ru', 'alternate_url': 'https://hh.ru/vacancy/97603539', 'relations': [], 'employer': {'id': '4164701', 'name': 'ГБПОУ Московский Технологический Колледж', 'url': 'https://api.hh.ru/employers/4164701', 'alternate_url': 'https://hh.ru/employer/4164701', 'logo_urls': None, 'vacancies_url': 'https://api.hh.ru/vacancies?employer_id=4164701', 'accredited_it_employer': False, 'trusted': True}, 'snippet': {'requirement': 'Элементы высшей <highlighttext>математики</highlighttext>. Численные методы. - Высшее профессиональное образование в области, соответствующей преподаваемому предмету и дополнительное профессиональное образование <highlighttext>по</highlighttext> направлению \"Образование...', 'responsibility': 'Москвы «Московский технологический колледж» (площадка <highlighttext>по</highlighttext> адресу ул. Паршина д.8) <highlighttext>по</highlighttext> программе СПО 09.02.07: Операционные системы и...'}, 'contacts': None, 'schedule': {'id': 'fullDay', 'name': 'Полный день'}, 'working_days': [], 'working_time_intervals': [], 'working_time_modes': [], 'accept_temporary': False, 'professional_roles': [{'id': '132', 'name': 'Учитель, преподаватель, педагог'}], 'accept_incomplete_resumes': False, 'experience': {'id': 'between1And3', 'name': 'От 1 года до 3 лет'}, 'employment': {'id': 'full', 'name': 'Полная занятость'}, 'adv_response_url': None, 'is_adv_vacancy': False, 'adv_context': None}, {'id': '98451942', 'premium': False, 'name': 'Учитель химии', 'department': None, 'has_test': False, 'response_letter_required': False, 'area': {'id': '1', 'name': 'Москва', 'url': 'https://api.hh.ru/areas/1'}, 'salary': {'from': None, 'to': 110000, 'currency': 'RUR', 'gross': True}, 'type': {'id': 'open', 'name': 'Открытая'}, 'address': {'city': 'Москва', 'street': 'улица Острякова', 'building': '15А', 'lat': 55.79853, 'lng': 37.523303, 'description': None, 'raw': 'Москва, улица Острякова, 15А', 'metro': None, 'metro_stations': [], 'id': '7599463'}, 'response_url': None, 'sort_point_distance': None, 'published_at': '2024-05-06T11:24:58+0300', 'created_at': '2024-05-06T11:24:58+0300', 'archived': False, 'apply_alternate_url': 'https://hh.ru/applicant/vacancy_response?vacancyId=98451942', 'show_logo_in_search': None, 'insider_interview': None, 'url': 'https://api.hh.ru/vacancies/98451942?host=hh.ru', 'alternate_url': 'https://hh.ru/vacancy/98451942', 'relations': [], 'employer': {'id': '1758170', 'name': 'Московский авиационный институт (национальный исследовательский университет)', 'url': 'https://api.hh.ru/employers/1758170', 'alternate_url': 'https://hh.ru/employer/1758170', 'logo_urls': {'90': 'https://img.hhcdn.ru/employer-logo/1617030.png', 'original': 'https://img.hhcdn.ru/employer-logo-original/293660.gif', '240': 'https://img.hhcdn.ru/employer-logo/1617031.png'}, 'vacancies_url': 'https://api.hh.ru/vacancies?employer_id=1758170', 'accredited_it_employer': False, 'trusted': True}, 'snippet': {'requirement': '...<highlighttext>математика</highlighttext>, информатика и физика. В учебных группах строго до 24 человек. Персональные расписания и деление учеников на группы <highlighttext>по</highlighttext> <highlighttext>математике</highlighttext>...', 'responsibility': 'Подготовка и проведение уроков <highlighttext>по</highlighttext> химии в группах, не превышающих 24 человека. Внесение данных в системы. Разработка и внедрение неклассических...'}, 'contacts': None, 'schedule': {'id': 'fullDay', 'name': 'Полный день'}, 'working_days': [], 'working_time_intervals': [], 'working_time_modes': [], 'accept_temporary': False, 'professional_roles': [{'id': '132', 'name': 'Учитель, преподаватель, педагог'}], 'accept_incomplete_resumes': False, 'experience': {'id': 'between1And3', 'name': 'От 1 года до 3 лет'}, 'employment': {'id': 'full', 'name': 'Полная занятость'}, 'adv_response_url': None, 'is_adv_vacancy': False, 'adv_context': None}, {'id': '97260134', 'premium': False, 'name': 'Учитель математики удаленно', 'department': None, 'has_test': False, 'response_letter_required': False, 'area': {'id': '1', 'name': 'Москва', 'url': 'https://api.hh.ru/areas/1'}, 'salary': {'from': 100000, 'to': 150000, 'currency': 'RUR', 'gross': False}, 'type': {'id': 'open', 'name': 'Открытая'}, 'address': {'city': 'Москва', 'street': None, 'building': None, 'lat': 55.749646, 'lng': 37.62368, 'description': None, 'raw': 'Москва', 'metro': {'station_name': 'Библиотека им.Ленина', 'line_name': 'Сокольническая', 'station_id': '1.4', 'line_id': '1', 'lat': 55.752123, 'lng': 37.610388}, 'metro_stations': [{'station_name': 'Библиотека им.Ленина', 'line_name': 'Сокольническая', 'station_id': '1.4', 'line_id': '1', 'lat': 55.752123, 'lng': 37.610388}, {'station_name': 'Китай-город', 'line_name': 'Таганско-Краснопресненская', 'station_id': '7.51', 'line_id': '7', 'lat': 55.75436, 'lng': 37.633877}, {'station_name': 'Новокузнецкая', 'line_name': 'Замоскворецкая', 'station_id': '2.89', 'line_id': '2', 'lat': 55.742391, 'lng': 37.62928}, {'station_name': 'Площадь Революции', 'line_name': 'Арбатско-Покровская', 'station_id': '3.100', 'line_id': '3', 'lat': 55.756741, 'lng': 37.62236}], 'id': '15534648'}, 'response_url': None, 'sort_point_distance': None, 'published_at': '2024-04-17T20:27:35+0300', 'created_at': '2024-04-17T20:27:35+0300', 'archived': False, 'apply_alternate_url': 'https://hh.ru/applicant/vacancy_response?vacancyId=97260134', 'show_logo_in_search': None, 'insider_interview': None, 'url': 'https://api.hh.ru/vacancies/97260134?host=hh.ru', 'alternate_url': 'https://hh.ru/vacancy/97260134', 'relations': [], 'employer': {'id': '10663450', 'name': 'Клемань Константин Владиславович', 'url': 'https://api.hh.ru/employers/10663450', 'alternate_url': 'https://hh.ru/employer/10663450', 'logo_urls': {'90': 'https://img.hhcdn.ru/employer-logo/6549257.jpeg', '240': 'https://img.hhcdn.ru/employer-logo/6549258.jpeg', 'original': 'https://img.hhcdn.ru/employer-logo-original/1232204.jpg'}, 'vacancies_url': 'https://api.hh.ru/vacancies?employer_id=10663450', 'accredited_it_employer': False, 'trusted': True}, 'snippet': {'requirement': None, 'responsibility': None}, 'contacts': None, 'schedule': {'id': 'fullDay', 'name': 'Полный день'}, 'working_days': [], 'working_time_intervals': [], 'working_time_modes': [], 'accept_temporary': True, 'professional_roles': [{'id': '132', 'name': 'Учитель, преподаватель, педагог'}], 'accept_incomplete_resumes': True, 'experience': {'id': 'between1And3', 'name': 'От 1 года до 3 лет'}, 'employment': {'id': 'full', 'name': 'Полная занятость'}, 'adv_response_url': None, 'is_adv_vacancy': False, 'adv_context': None}, {'id': '98196692', 'premium': False, 'name': 'AI-тренер / Тренер искусственного интеллекта', 'department': {'id': 'mts-3776-main', 'name': '«МТС» '}, 'has_test': False, 'response_letter_required': False, 'area': {'id': '1', 'name': 'Москва', 'url': 'https://api.hh.ru/areas/1'}, 'salary': None, 'type': {'id': 'open', 'name': 'Открытая'}, 'address': {'city': 'Москва', 'street': 'Подсосенский переулок', 'building': '23с5', 'lat': 55.75553, 'lng': 37.654754, 'description': None, 'raw': 'Москва, Подсосенский переулок, 23с5', 'metro': {'station_name': 'Курская', 'line_name': 'Арбатско-Покровская', 'station_id': '3.70', 'line_id': '3', 'lat': 55.758564, 'lng': 37.659039}, 'metro_stations': [{'station_name': 'Курская', 'line_name': 'Арбатско-Покровская', 'station_id': '3.70', 'line_id': '3', 'lat': 55.758564, 'lng': 37.659039}, {'station_name': 'Курская', 'line_name': 'МЦД-2', 'station_id': '132.726', 'line_id': '132', 'lat': 55.757622, 'lng': 37.660767}, {'station_name': 'Чкаловская', 'line_name': 'Люблинско-Дмитровская', 'station_id': '10.72', 'line_id': '10', 'lat': 55.755951, 'lng': 37.659293}], 'id': '7057162'}, 'response_url': None, 'sort_point_distance': None, 'published_at': '2024-05-02T06:41:38+0300', 'created_at': '2024-05-02T06:41:38+0300', 'archived': False, 'apply_alternate_url': 'https://hh.ru/applicant/vacancy_response?vacancyId=98196692', 'branding': {'type': 'MAKEUP', 'tariff': None}, 'show_logo_in_search': True, 'insider_interview': None, 'url': 'https://api.hh.ru/vacancies/98196692?host=hh.ru', 'alternate_url': 'https://hh.ru/vacancy/98196692', 'relations': [], 'employer': {'id': '3776', 'name': 'МТС', 'url': 'https://api.hh.ru/employers/3776', 'alternate_url': 'https://hh.ru/employer/3776', 'logo_urls': {'original': 'https://img.hhcdn.ru/employer-logo-original/1077164.png', '240': 'https://img.hhcdn.ru/employer-logo/5929286.png', '90': 'https://img.hhcdn.ru/employer-logo/5929285.png'}, 'vacancies_url': 'https://api.hh.ru/vacancies?employer_id=3776', 'accredited_it_employer': True, 'trusted': True}, 'snippet': {'requirement': 'Опыт работы в качестве <highlighttext>учителя</highlighttext>, <highlighttext>преподавателя</highlighttext>, копирайтера, переводчика, технического писателя, журналиста, редактора, контент-менеджера или в другой сфере, связанной с...', 'responsibility': 'Составление и редактирование текстов для ИИ. Анализ информации на достоверность и выявление сомнительных источников. Оценивание ответов ИИ.'}, 'contacts': None, 'schedule': {'id': 'remote', 'name': 'Удаленная работа'}, 'working_days': [], 'working_time_intervals': [], 'working_time_modes': [], 'accept_temporary': False, 'professional_roles': [{'id': '55', 'name': 'Копирайтер, редактор, корректор'}], 'accept_incomplete_resumes': False, 'experience': {'id': 'between1And3', 'name': 'От 1 года до 3 лет'}, 'employment': {'id': 'full', 'name': 'Полная занятость'}, 'adv_response_url': None, 'is_adv_vacancy': False, 'adv_context': None}]\n"
          ]
        }
      ]
    },
    {
      "cell_type": "markdown",
      "source": [
        "(1 балл) Постройте график в координатах \"широта-долгота\" для отображения вакансий внутри МКАД (не забывайте прописать прозрачность, чтобы увидеть скопления):"
      ],
      "metadata": {
        "id": "4LCb9IL_bgB_"
      }
    },
    {
      "cell_type": "code",
      "source": [
        "import matplotlib.pyplot as plt\n",
        "\n",
        "lats = [i[\"address\"][\"lat\"] for i in vacancies_with_address]\n",
        "lons = [i[\"address\"][\"lng\"] for i in vacancies_with_address]\n",
        "\n",
        "plt.figure(figsize=(10, 6))\n",
        "plt.scatter(lons, lats, c='r', marker='o', alpha=0.2)  # c - цвет точек, marker - форма маркера\n",
        "plt.xlabel('Долгота')\n",
        "plt.ylabel('Широта')\n",
        "plt.grid(True)\n",
        "plt.show()\n"
      ],
      "metadata": {
        "id": "6ogiXDvKcDV8",
        "outputId": "162ede66-a8bb-4243-8266-0f431d456eb0",
        "colab": {
          "base_uri": "https://localhost:8080/",
          "height": 542
        }
      },
      "execution_count": null,
      "outputs": [
        {
          "output_type": "display_data",
          "data": {
            "text/plain": [
              "<Figure size 1000x600 with 1 Axes>"
            ],
            "image/png": "[encoded data removed]"
          },
          "metadata": {}
        }
      ]
    },
    {
      "cell_type": "markdown",
      "source": [
        "(1 балл) Нанесите все точки вакансий на карту (для этого вам поможет данная <a target=\"_blank\" href=\"https://plotly.com/python/mapbox-layers/\">документации</a>, не забудьте про прозрачность и центрирование по Москве):"
      ],
      "metadata": {
        "id": "YvS8b7eqt214"
      }
    },
    {
      "cell_type": "code",
      "source": [
        "import plotly.express as px\n",
        "import plotly.graph_objects as go\n",
        "\n",
        "\n",
        "moscow = [55.73861111, 37.61222222]\n",
        "fig = px.scatter_mapbox(\n",
        "    zip(lats, lons),\n",
        "    lat=0,\n",
        "    lon=1,\n",
        "    center=go.layout.mapbox.Center(lat=moscow[0], lon=moscow[1]),\n",
        "    color_discrete_sequence=[\"fuchsia\"],\n",
        "    zoom=8,\n",
        "    height=500,\n",
        ")\n",
        "fig.update_layout(mapbox_style=\"open-street-map\")\n",
        "fig.show()\n"
      ],
      "metadata": {
        "id": "1ceHEBdAys8o",
        "outputId": "8eb57c3b-ca01-4fa7-e40a-91e65bb4a070",
        "colab": {
          "base_uri": "https://localhost:8080/",
          "height": 517
        }
      },
      "execution_count": null,
      "outputs": [
        {
          "output_type": "display_data",
          "data": {
            "text/html": [
              "<html>\n",
              "<head><meta charset=\"utf-8\" /></head>\n",
              "<body>\n",
              "    <div>            <script src=\"https://cdnjs.cloudflare.com/ajax/libs/mathjax/2.7.5/MathJax.js?config=TeX-AMS-MML_SVG\"></script><script type=\"text/javascript\">if (window.MathJax && window.MathJax.Hub && window.MathJax.Hub.Config) {window.MathJax.Hub.Config({SVG: {font: \"STIX-Web\"}});}</script>                <script type=\"text/javascript\">window.PlotlyConfig = {MathJaxConfig: 'local'};</script>\n",
              "        <script charset=\"utf-8\" src=\"https://cdn.plot.ly/plotly-2.24.1.min.js\"></script>                <div id=\"a5af9a2e-a7e3-44b9-b85d-9546bb5ca44a\" class=\"plotly-graph-div\" style=\"height:500px; width:100%;\"></div>            <script type=\"text/javascript\">                                    window.PLOTLYENV=window.PLOTLYENV || {};                                    if (document.getElementById(\"a5af9a2e-a7e3-44b9-b85d-9546bb5ca44a\")) {                    Plotly.newPlot(                        \"a5af9a2e-a7e3-44b9-b85d-9546bb5ca44a\",                        [{\"hovertemplate\":\"0=%{lat}\\u003cbr\\u003e1=%{lon}\\u003cextra\\u003e\\u003c\\u002fextra\\u003e\",\"lat\":[55.749632535782084,55.754203,55.785129,55.695022,55.829102,55.79103,55.738596,55.792129,55.669625,55.70786541534598,55.755829,55.797862,55.781727,55.748787,55.77552283957804,55.778699,55.717939,55.743325,55.788429,55.757592,55.829335,55.698026,55.777393,55.781322,55.591599,55.76574418960276,55.771823,55.785766,55.794032,55.764713,55.78973390612452,55.663842,55.762287,55.719399,55.789608,55.79853,34.695844,55.749646,55.75553],\"legendgroup\":\"\",\"lon\":[37.535292357085595,37.556388,37.579601,37.66274,37.493344,37.808761,37.588593,37.660135,37.50213,37.62485408542719,37.656739,37.54966,37.584128,37.66601,37.62732108101994,37.512371,37.120499,37.650532,37.581137,37.636437,37.415613,37.474435,37.582215,37.634083,37.42916,37.596579832995225,37.705194,37.636689,37.518353,37.654691,37.632741351356884,37.511445,37.657772,37.789447,37.459119,37.523303,33.031547,37.62368,37.654754],\"marker\":{\"color\":\"fuchsia\"},\"mode\":\"markers\",\"name\":\"\",\"showlegend\":false,\"subplot\":\"mapbox\",\"type\":\"scattermapbox\"}],                        {\"template\":{\"data\":{\"histogram2dcontour\":[{\"type\":\"histogram2dcontour\",\"colorbar\":{\"outlinewidth\":0,\"ticks\":\"\"},\"colorscale\":[[0.0,\"#0d0887\"],[0.1111111111111111,\"#46039f\"],[0.2222222222222222,\"#7201a8\"],[0.3333333333333333,\"#9c179e\"],[0.4444444444444444,\"#bd3786\"],[0.5555555555555556,\"#d8576b\"],[0.6666666666666666,\"#ed7953\"],[0.7777777777777778,\"#fb9f3a\"],[0.8888888888888888,\"#fdca26\"],[1.0,\"#f0f921\"]]}],\"choropleth\":[{\"type\":\"choropleth\",\"colorbar\":{\"outlinewidth\":0,\"ticks\":\"\"}}],\"histogram2d\":[{\"type\":\"histogram2d\",\"colorbar\":{\"outlinewidth\":0,\"ticks\":\"\"},\"colorscale\":[[0.0,\"#0d0887\"],[0.1111111111111111,\"#46039f\"],[0.2222222222222222,\"#7201a8\"],[0.3333333333333333,\"#9c179e\"],[0.4444444444444444,\"#bd3786\"],[0.5555555555555556,\"#d8576b\"],[0.6666666666666666,\"#ed7953\"],[0.7777777777777778,\"#fb9f3a\"],[0.8888888888888888,\"#fdca26\"],[1.0,\"#f0f921\"]]}],\"heatmap\":[{\"type\":\"heatmap\",\"colorbar\":{\"outlinewidth\":0,\"ticks\":\"\"},\"colorscale\":[[0.0,\"#0d0887\"],[0.1111111111111111,\"#46039f\"],[0.2222222222222222,\"#7201a8\"],[0.3333333333333333,\"#9c179e\"],[0.4444444444444444,\"#bd3786\"],[0.5555555555555556,\"#d8576b\"],[0.6666666666666666,\"#ed7953\"],[0.7777777777777778,\"#fb9f3a\"],[0.8888888888888888,\"#fdca26\"],[1.0,\"#f0f921\"]]}],\"heatmapgl\":[{\"type\":\"heatmapgl\",\"colorbar\":{\"outlinewidth\":0,\"ticks\":\"\"},\"colorscale\":[[0.0,\"#0d0887\"],[0.1111111111111111,\"#46039f\"],[0.2222222222222222,\"#7201a8\"],[0.3333333333333333,\"#9c179e\"],[0.4444444444444444,\"#bd3786\"],[0.5555555555555556,\"#d8576b\"],[0.6666666666666666,\"#ed7953\"],[0.7777777777777778,\"#fb9f3a\"],[0.8888888888888888,\"#fdca26\"],[1.0,\"#f0f921\"]]}],\"contourcarpet\":[{\"type\":\"contourcarpet\",\"colorbar\":{\"outlinewidth\":0,\"ticks\":\"\"}}],\"contour\":[{\"type\":\"contour\",\"colorbar\":{\"outlinewidth\":0,\"ticks\":\"\"},\"colorscale\":[[0.0,\"#0d0887\"],[0.1111111111111111,\"#46039f\"],[0.2222222222222222,\"#7201a8\"],[0.3333333333333333,\"#9c179e\"],[0.4444444444444444,\"#bd3786\"],[0.5555555555555556,\"#d8576b\"],[0.6666666666666666,\"#ed7953\"],[0.7777777777777778,\"#fb9f3a\"],[0.8888888888888888,\"#fdca26\"],[1.0,\"#f0f921\"]]}],\"surface\":[{\"type\":\"surface\",\"colorbar\":{\"outlinewidth\":0,\"ticks\":\"\"},\"colorscale\":[[0.0,\"#0d0887\"],[0.1111111111111111,\"#46039f\"],[0.2222222222222222,\"#7201a8\"],[0.3333333333333333,\"#9c179e\"],[0.4444444444444444,\"#bd3786\"],[0.5555555555555556,\"#d8576b\"],[0.6666666666666666,\"#ed7953\"],[0.7777777777777778,\"#fb9f3a\"],[0.8888888888888888,\"#fdca26\"],[1.0,\"#f0f921\"]]}],\"mesh3d\":[{\"type\":\"mesh3d\",\"colorbar\":{\"outlinewidth\":0,\"ticks\":\"\"}}],\"scatter\":[{\"fillpattern\":{\"fillmode\":\"overlay\",\"size\":10,\"solidity\":0.2},\"type\":\"scatter\"}],\"parcoords\":[{\"type\":\"parcoords\",\"line\":{\"colorbar\":{\"outlinewidth\":0,\"ticks\":\"\"}}}],\"scatterpolargl\":[{\"type\":\"scatterpolargl\",\"marker\":{\"colorbar\":{\"outlinewidth\":0,\"ticks\":\"\"}}}],\"bar\":[{\"error_x\":{\"color\":\"#2a3f5f\"},\"error_y\":{\"color\":\"#2a3f5f\"},\"marker\":{\"line\":{\"color\":\"#E5ECF6\",\"width\":0.5},\"pattern\":{\"fillmode\":\"overlay\",\"size\":10,\"solidity\":0.2}},\"type\":\"bar\"}],\"scattergeo\":[{\"type\":\"scattergeo\",\"marker\":{\"colorbar\":{\"outlinewidth\":0,\"ticks\":\"\"}}}],\"scatterpolar\":[{\"type\":\"scatterpolar\",\"marker\":{\"colorbar\":{\"outlinewidth\":0,\"ticks\":\"\"}}}],\"histogram\":[{\"marker\":{\"pattern\":{\"fillmode\":\"overlay\",\"size\":10,\"solidity\":0.2}},\"type\":\"histogram\"}],\"scattergl\":[{\"type\":\"scattergl\",\"marker\":{\"colorbar\":{\"outlinewidth\":0,\"ticks\":\"\"}}}],\"scatter3d\":[{\"type\":\"scatter3d\",\"line\":{\"colorbar\":{\"outlinewidth\":0,\"ticks\":\"\"}},\"marker\":{\"colorbar\":{\"outlinewidth\":0,\"ticks\":\"\"}}}],\"scattermapbox\":[{\"type\":\"scattermapbox\",\"marker\":{\"colorbar\":{\"outlinewidth\":0,\"ticks\":\"\"}}}],\"scatterternary\":[{\"type\":\"scatterternary\",\"marker\":{\"colorbar\":{\"outlinewidth\":0,\"ticks\":\"\"}}}],\"scattercarpet\":[{\"type\":\"scattercarpet\",\"marker\":{\"colorbar\":{\"outlinewidth\":0,\"ticks\":\"\"}}}],\"carpet\":[{\"aaxis\":{\"endlinecolor\":\"#2a3f5f\",\"gridcolor\":\"white\",\"linecolor\":\"white\",\"minorgridcolor\":\"white\",\"startlinecolor\":\"#2a3f5f\"},\"baxis\":{\"endlinecolor\":\"#2a3f5f\",\"gridcolor\":\"white\",\"linecolor\":\"white\",\"minorgridcolor\":\"white\",\"startlinecolor\":\"#2a3f5f\"},\"type\":\"carpet\"}],\"table\":[{\"cells\":{\"fill\":{\"color\":\"#EBF0F8\"},\"line\":{\"color\":\"white\"}},\"header\":{\"fill\":{\"color\":\"#C8D4E3\"},\"line\":{\"color\":\"white\"}},\"type\":\"table\"}],\"barpolar\":[{\"marker\":{\"line\":{\"color\":\"#E5ECF6\",\"width\":0.5},\"pattern\":{\"fillmode\":\"overlay\",\"size\":10,\"solidity\":0.2}},\"type\":\"barpolar\"}],\"pie\":[{\"automargin\":true,\"type\":\"pie\"}]},\"layout\":{\"autotypenumbers\":\"strict\",\"colorway\":[\"#636efa\",\"#EF553B\",\"#00cc96\",\"#ab63fa\",\"#FFA15A\",\"#19d3f3\",\"#FF6692\",\"#B6E880\",\"#FF97FF\",\"#FECB52\"],\"font\":{\"color\":\"#2a3f5f\"},\"hovermode\":\"closest\",\"hoverlabel\":{\"align\":\"left\"},\"paper_bgcolor\":\"white\",\"plot_bgcolor\":\"#E5ECF6\",\"polar\":{\"bgcolor\":\"#E5ECF6\",\"angularaxis\":{\"gridcolor\":\"white\",\"linecolor\":\"white\",\"ticks\":\"\"},\"radialaxis\":{\"gridcolor\":\"white\",\"linecolor\":\"white\",\"ticks\":\"\"}},\"ternary\":{\"bgcolor\":\"#E5ECF6\",\"aaxis\":{\"gridcolor\":\"white\",\"linecolor\":\"white\",\"ticks\":\"\"},\"baxis\":{\"gridcolor\":\"white\",\"linecolor\":\"white\",\"ticks\":\"\"},\"caxis\":{\"gridcolor\":\"white\",\"linecolor\":\"white\",\"ticks\":\"\"}},\"coloraxis\":{\"colorbar\":{\"outlinewidth\":0,\"ticks\":\"\"}},\"colorscale\":{\"sequential\":[[0.0,\"#0d0887\"],[0.1111111111111111,\"#46039f\"],[0.2222222222222222,\"#7201a8\"],[0.3333333333333333,\"#9c179e\"],[0.4444444444444444,\"#bd3786\"],[0.5555555555555556,\"#d8576b\"],[0.6666666666666666,\"#ed7953\"],[0.7777777777777778,\"#fb9f3a\"],[0.8888888888888888,\"#fdca26\"],[1.0,\"#f0f921\"]],\"sequentialminus\":[[0.0,\"#0d0887\"],[0.1111111111111111,\"#46039f\"],[0.2222222222222222,\"#7201a8\"],[0.3333333333333333,\"#9c179e\"],[0.4444444444444444,\"#bd3786\"],[0.5555555555555556,\"#d8576b\"],[0.6666666666666666,\"#ed7953\"],[0.7777777777777778,\"#fb9f3a\"],[0.8888888888888888,\"#fdca26\"],[1.0,\"#f0f921\"]],\"diverging\":[[0,\"#8e0152\"],[0.1,\"#c51b7d\"],[0.2,\"#de77ae\"],[0.3,\"#f1b6da\"],[0.4,\"#fde0ef\"],[0.5,\"#f7f7f7\"],[0.6,\"#e6f5d0\"],[0.7,\"#b8e186\"],[0.8,\"#7fbc41\"],[0.9,\"#4d9221\"],[1,\"#276419\"]]},\"xaxis\":{\"gridcolor\":\"white\",\"linecolor\":\"white\",\"ticks\":\"\",\"title\":{\"standoff\":15},\"zerolinecolor\":\"white\",\"automargin\":true,\"zerolinewidth\":2},\"yaxis\":{\"gridcolor\":\"white\",\"linecolor\":\"white\",\"ticks\":\"\",\"title\":{\"standoff\":15},\"zerolinecolor\":\"white\",\"automargin\":true,\"zerolinewidth\":2},\"scene\":{\"xaxis\":{\"backgroundcolor\":\"#E5ECF6\",\"gridcolor\":\"white\",\"linecolor\":\"white\",\"showbackground\":true,\"ticks\":\"\",\"zerolinecolor\":\"white\",\"gridwidth\":2},\"yaxis\":{\"backgroundcolor\":\"#E5ECF6\",\"gridcolor\":\"white\",\"linecolor\":\"white\",\"showbackground\":true,\"ticks\":\"\",\"zerolinecolor\":\"white\",\"gridwidth\":2},\"zaxis\":{\"backgroundcolor\":\"#E5ECF6\",\"gridcolor\":\"white\",\"linecolor\":\"white\",\"showbackground\":true,\"ticks\":\"\",\"zerolinecolor\":\"white\",\"gridwidth\":2}},\"shapedefaults\":{\"line\":{\"color\":\"#2a3f5f\"}},\"annotationdefaults\":{\"arrowcolor\":\"#2a3f5f\",\"arrowhead\":0,\"arrowwidth\":1},\"geo\":{\"bgcolor\":\"white\",\"landcolor\":\"#E5ECF6\",\"subunitcolor\":\"white\",\"showland\":true,\"showlakes\":true,\"lakecolor\":\"white\"},\"title\":{\"x\":0.05},\"mapbox\":{\"style\":\"light\"}}},\"mapbox\":{\"domain\":{\"x\":[0.0,1.0],\"y\":[0.0,1.0]},\"center\":{\"lat\":55.73861111,\"lon\":37.61222222},\"zoom\":8,\"style\":\"open-street-map\"},\"legend\":{\"tracegroupgap\":0},\"margin\":{\"t\":60},\"height\":500},                        {\"responsive\": true}                    ).then(function(){\n",
              "                            \n",
              "var gd = document.getElementById('a5af9a2e-a7e3-44b9-b85d-9546bb5ca44a');\n",
              "var x = new MutationObserver(function (mutations, observer) {{\n",
              "        var display = window.getComputedStyle(gd).display;\n",
              "        if (!display || display === 'none') {{\n",
              "            console.log([gd, 'removed!']);\n",
              "            Plotly.purge(gd);\n",
              "            observer.disconnect();\n",
              "        }}\n",
              "}});\n",
              "\n",
              "// Listen for the removal of the full notebook cells\n",
              "var notebookContainer = gd.closest('#notebook-container');\n",
              "if (notebookContainer) {{\n",
              "    x.observe(notebookContainer, {childList: true});\n",
              "}}\n",
              "\n",
              "// Listen for the clearing of the current output cell\n",
              "var outputEl = gd.closest('.output');\n",
              "if (outputEl) {{\n",
              "    x.observe(outputEl, {childList: true});\n",
              "}}\n",
              "\n",
              "                        })                };                            </script>        </div>\n",
              "</body>\n",
              "</html>"
            ]
          },
          "metadata": {}
        }
      ]
    },
    {
      "cell_type": "markdown",
      "source": [
        "(2 балла) **Сделайте выводы о проделанной работе:**"
      ],
      "metadata": {
        "id": "u-p3Llc361PN"
      }
    },
    {
      "cell_type": "markdown",
      "source": [
        ">*Подсказки для маленьких: Что вы можете сказать про районы Москвы? Что вы можете сказать про зарплаты? Что вы можете сказать про спрос?*"
      ],
      "metadata": {
        "id": "G1c3d-qALobz"
      }
    },
    {
      "cell_type": "markdown",
      "source": [
        "Работы проделанно не очень много, но можно понять, что на представители данных"
      ],
      "metadata": {
        "id": "gkPpbtBuVqwc"
      }
    },
    {
      "cell_type": "markdown",
      "source": [
        "## Задание 2. Анализ данных - 20 баллов"
      ],
      "metadata": {
        "id": "wVcCTF_Zz58q"
      }
    },
    {
      "cell_type": "markdown",
      "source": [
        "Вам предстоит проанализировать датасет, содержащий информацию об бриллианта, их стоимости и остальных характеристиках."
      ],
      "metadata": {
        "id": "lii5YFuucxR2"
      }
    },
    {
      "cell_type": "markdown",
      "source": [
        "\n",
        "\n",
        "Поясним значения хранящиеся в колонках:\n",
        "*   `cut` - огранка бриллианта (относится к одной из примерно 10 наиболее распространенных)\n",
        "*   `color` - цвет бриллианта, прозрачные бриллианты имеют градацию `D-Z`, \"более высокие\" буквы - более желтоватые, но часто имеют лучшие значения, поскольку цвет трудно определить один раз в кольце\n",
        "*   `clarity` - чистота бриллианта, наличие включений (внутренних дефектов), чем меньше и мельче, тем лучше\n",
        "*   `carat_weight` - масса бриллианта (слабо связана с размером бриллианта, т.к. огранка и качество огранки, как правило, играют большую роль)\n",
        "*   `cut_quality` - качество ограники по системе оценки GIA Cut\n",
        "*   `lab` - лаборатория оценивания\n",
        "*   `meas_length` - длина бриллианта\n",
        "*   `meas_width` - ширина бриллианта\n",
        "*   `meas_depth` - глубина бриллианта\n",
        "*   `total_sales_price` - цена бриллианта в долларах.\n",
        "*    **и прочие колонки**"
      ],
      "metadata": {
        "id": "CvEO3-NI0Gez"
      }
    },
    {
      "cell_type": "markdown",
      "source": [
        "Скачаем данные:"
      ],
      "metadata": {
        "id": "7mK1QntN6ZXh"
      }
    },
    {
      "cell_type": "code",
      "source": [
        "!gdown 10OJ30qlkE-7zK4JuVTDMY3U4nRB4tu_8"
      ],
      "metadata": {
        "id": "LnCK3gCoebjw",
        "outputId": "ad619c33-c93c-4be5-c724-d529aa6cfe0a",
        "colab": {
          "base_uri": "https://localhost:8080/"
        }
      },
      "execution_count": 4,
      "outputs": [
        {
          "output_type": "stream",
          "name": "stdout",
          "text": [
            "Downloading...\n",
            "From: https://drive.google.com/uc?id=10OJ30qlkE-7zK4JuVTDMY3U4nRB4tu_8\n",
            "To: /content/diamonds.csv\n",
            "100% 35.4M/35.4M [00:00<00:00, 173MB/s]\n"
          ]
        }
      ]
    },
    {
      "cell_type": "markdown",
      "source": [
        "Создадим DataFrame:"
      ],
      "metadata": {
        "id": "wfSqVYoIfi3-"
      }
    },
    {
      "cell_type": "code",
      "source": [
        "diamonds = pd.read_csv(\"diamonds.csv\")"
      ],
      "metadata": {
        "id": "cDgRJzRp6Ow4"
      },
      "execution_count": 5,
      "outputs": []
    },
    {
      "cell_type": "markdown",
      "source": [
        "(0.5 балла) Выведете первые 5 строк датасета:"
      ],
      "metadata": {
        "id": "vlw_3lXG6bhv"
      }
    },
    {
      "cell_type": "code",
      "source": [
        "diamonds.head(5)"
      ],
      "metadata": {
        "id": "gHA-AnSE6fth",
        "outputId": "7c0a2034-6fa3-44fb-e40e-463d7fa94ab4",
        "colab": {
          "base_uri": "https://localhost:8080/",
          "height": 359
        }
      },
      "execution_count": 6,
      "outputs": [
        {
          "output_type": "execute_result",
          "data": {
            "text/plain": [
              "   Unnamed: 0    cut color clarity  carat_weight cut_quality  lab   symmetry  \\\n",
              "0           0  Round     E    VVS2          0.09   Excellent  IGI  Very Good   \n",
              "1           1  Round     E    VVS2          0.09   Very Good  IGI  Very Good   \n",
              "2           2  Round     E    VVS2          0.09   Excellent  IGI  Very Good   \n",
              "3           3  Round     E    VVS2          0.09   Excellent  IGI  Very Good   \n",
              "4           4  Round     E    VVS2          0.09   Very Good  IGI  Very Good   \n",
              "\n",
              "      polish eye_clean  ... meas_depth girdle_min  girdle_max  fluor_color  \\\n",
              "0  Very Good   unknown  ...       1.79          M           M      unknown   \n",
              "1  Very Good   unknown  ...       1.78        STK         STK      unknown   \n",
              "2  Very Good   unknown  ...       1.77         TN           M      unknown   \n",
              "3  Very Good   unknown  ...       1.78          M         STK      unknown   \n",
              "4  Excellent   unknown  ...       1.82        STK         STK      unknown   \n",
              "\n",
              "   fluor_intensity  fancy_color_dominant_color  fancy_color_secondary_color  \\\n",
              "0              NaN                     unknown                      unknown   \n",
              "1              NaN                     unknown                      unknown   \n",
              "2              NaN                     unknown                      unknown   \n",
              "3              NaN                     unknown                      unknown   \n",
              "4              NaN                     unknown                      unknown   \n",
              "\n",
              "  fancy_color_overtone fancy_color_intensity total_sales_price  \n",
              "0              unknown               unknown               200  \n",
              "1              unknown               unknown               200  \n",
              "2              unknown               unknown               200  \n",
              "3              unknown               unknown               200  \n",
              "4              unknown               unknown               200  \n",
              "\n",
              "[5 rows x 26 columns]"
            ],
            "text/html": [
              "\n",
              "  <div id=\"df-2db5b589-4e46-4dc9-93db-c219fdb36ba4\" class=\"colab-df-container\">\n",
              "    <div>\n",
              "<style scoped>\n",
              "    .dataframe tbody tr th:only-of-type {\n",
              "        vertical-align: middle;\n",
              "    }\n",
              "\n",
              "    .dataframe tbody tr th {\n",
              "        vertical-align: top;\n",
              "    }\n",
              "\n",
              "    .dataframe thead th {\n",
              "        text-align: right;\n",
              "    }\n",
              "</style>\n",
              "<table border=\"1\" class=\"dataframe\">\n",
              "  <thead>\n",
              "    <tr style=\"text-align: right;\">\n",
              "      <th></th>\n",
              "      <th>Unnamed: 0</th>\n",
              "      <th>cut</th>\n",
              "      <th>color</th>\n",
              "      <th>clarity</th>\n",
              "      <th>carat_weight</th>\n",
              "      <th>cut_quality</th>\n",
              "      <th>lab</th>\n",
              "      <th>symmetry</th>\n",
              "      <th>polish</th>\n",
              "      <th>eye_clean</th>\n",
              "      <th>...</th>\n",
              "      <th>meas_depth</th>\n",
              "      <th>girdle_min</th>\n",
              "      <th>girdle_max</th>\n",
              "      <th>fluor_color</th>\n",
              "      <th>fluor_intensity</th>\n",
              "      <th>fancy_color_dominant_color</th>\n",
              "      <th>fancy_color_secondary_color</th>\n",
              "      <th>fancy_color_overtone</th>\n",
              "      <th>fancy_color_intensity</th>\n",
              "      <th>total_sales_price</th>\n",
              "    </tr>\n",
              "  </thead>\n",
              "  <tbody>\n",
              "    <tr>\n",
              "      <th>0</th>\n",
              "      <td>0</td>\n",
              "      <td>Round</td>\n",
              "      <td>E</td>\n",
              "      <td>VVS2</td>\n",
              "      <td>0.09</td>\n",
              "      <td>Excellent</td>\n",
              "      <td>IGI</td>\n",
              "      <td>Very Good</td>\n",
              "      <td>Very Good</td>\n",
              "      <td>unknown</td>\n",
              "      <td>...</td>\n",
              "      <td>1.79</td>\n",
              "      <td>M</td>\n",
              "      <td>M</td>\n",
              "      <td>unknown</td>\n",
              "      <td>NaN</td>\n",
              "      <td>unknown</td>\n",
              "      <td>unknown</td>\n",
              "      <td>unknown</td>\n",
              "      <td>unknown</td>\n",
              "      <td>200</td>\n",
              "    </tr>\n",
              "    <tr>\n",
              "      <th>1</th>\n",
              "      <td>1</td>\n",
              "      <td>Round</td>\n",
              "      <td>E</td>\n",
              "      <td>VVS2</td>\n",
              "      <td>0.09</td>\n",
              "      <td>Very Good</td>\n",
              "      <td>IGI</td>\n",
              "      <td>Very Good</td>\n",
              "      <td>Very Good</td>\n",
              "      <td>unknown</td>\n",
              "      <td>...</td>\n",
              "      <td>1.78</td>\n",
              "      <td>STK</td>\n",
              "      <td>STK</td>\n",
              "      <td>unknown</td>\n",
              "      <td>NaN</td>\n",
              "      <td>unknown</td>\n",
              "      <td>unknown</td>\n",
              "      <td>unknown</td>\n",
              "      <td>unknown</td>\n",
              "      <td>200</td>\n",
              "    </tr>\n",
              "    <tr>\n",
              "      <th>2</th>\n",
              "      <td>2</td>\n",
              "      <td>Round</td>\n",
              "      <td>E</td>\n",
              "      <td>VVS2</td>\n",
              "      <td>0.09</td>\n",
              "      <td>Excellent</td>\n",
              "      <td>IGI</td>\n",
              "      <td>Very Good</td>\n",
              "      <td>Very Good</td>\n",
              "      <td>unknown</td>\n",
              "      <td>...</td>\n",
              "      <td>1.77</td>\n",
              "      <td>TN</td>\n",
              "      <td>M</td>\n",
              "      <td>unknown</td>\n",
              "      <td>NaN</td>\n",
              "      <td>unknown</td>\n",
              "      <td>unknown</td>\n",
              "      <td>unknown</td>\n",
              "      <td>unknown</td>\n",
              "      <td>200</td>\n",
              "    </tr>\n",
              "    <tr>\n",
              "      <th>3</th>\n",
              "      <td>3</td>\n",
              "      <td>Round</td>\n",
              "      <td>E</td>\n",
              "      <td>VVS2</td>\n",
              "      <td>0.09</td>\n",
              "      <td>Excellent</td>\n",
              "      <td>IGI</td>\n",
              "      <td>Very Good</td>\n",
              "      <td>Very Good</td>\n",
              "      <td>unknown</td>\n",
              "      <td>...</td>\n",
              "      <td>1.78</td>\n",
              "      <td>M</td>\n",
              "      <td>STK</td>\n",
              "      <td>unknown</td>\n",
              "      <td>NaN</td>\n",
              "      <td>unknown</td>\n",
              "      <td>unknown</td>\n",
              "      <td>unknown</td>\n",
              "      <td>unknown</td>\n",
              "      <td>200</td>\n",
              "    </tr>\n",
              "    <tr>\n",
              "      <th>4</th>\n",
              "      <td>4</td>\n",
              "      <td>Round</td>\n",
              "      <td>E</td>\n",
              "      <td>VVS2</td>\n",
              "      <td>0.09</td>\n",
              "      <td>Very Good</td>\n",
              "      <td>IGI</td>\n",
              "      <td>Very Good</td>\n",
              "      <td>Excellent</td>\n",
              "      <td>unknown</td>\n",
              "      <td>...</td>\n",
              "      <td>1.82</td>\n",
              "      <td>STK</td>\n",
              "      <td>STK</td>\n",
              "      <td>unknown</td>\n",
              "      <td>NaN</td>\n",
              "      <td>unknown</td>\n",
              "      <td>unknown</td>\n",
              "      <td>unknown</td>\n",
              "      <td>unknown</td>\n",
              "      <td>200</td>\n",
              "    </tr>\n",
              "  </tbody>\n",
              "</table>\n",
              "<p>5 rows × 26 columns</p>\n",
              "</div>\n",
              "    <div class=\"colab-df-buttons\">\n",
              "\n",
              "  <div class=\"colab-df-container\">\n",
              "    <button class=\"colab-df-convert\" onclick=\"convertToInteractive('df-2db5b589-4e46-4dc9-93db-c219fdb36ba4')\"\n",
              "            title=\"Convert this dataframe to an interactive table.\"\n",
              "            style=\"display:none;\">\n",
              "\n",
              "  <svg xmlns=\"http://www.w3.org/2000/svg\" height=\"24px\" viewBox=\"0 -960 960 960\">\n",
              "    <path d=\"M120-120v-720h720v720H120Zm60-500h600v-160H180v160Zm220 220h160v-160H400v160Zm0 220h160v-160H400v160ZM180-400h160v-160H180v160Zm440 0h160v-160H620v160ZM180-180h160v-160H180v160Zm440 0h160v-160H620v160Z\"/>\n",
              "  </svg>\n",
              "    </button>\n",
              "\n",
              "  <style>\n",
              "    .colab-df-container {\n",
              "      display:flex;\n",
              "      gap: 12px;\n",
              "    }\n",
              "\n",
              "    .colab-df-convert {\n",
              "      background-color: #E8F0FE;\n",
              "      border: none;\n",
              "      border-radius: 50%;\n",
              "      cursor: pointer;\n",
              "      display: none;\n",
              "      fill: #1967D2;\n",
              "      height: 32px;\n",
              "      padding: 0 0 0 0;\n",
              "      width: 32px;\n",
              "    }\n",
              "\n",
              "    .colab-df-convert:hover {\n",
              "      background-color: #E2EBFA;\n",
              "      box-shadow: 0px 1px 2px rgba(60, 64, 67, 0.3), 0px 1px 3px 1px rgba(60, 64, 67, 0.15);\n",
              "      fill: #174EA6;\n",
              "    }\n",
              "\n",
              "    .colab-df-buttons div {\n",
              "      margin-bottom: 4px;\n",
              "    }\n",
              "\n",
              "    [theme=dark] .colab-df-convert {\n",
              "      background-color: #3B4455;\n",
              "      fill: #D2E3FC;\n",
              "    }\n",
              "\n",
              "    [theme=dark] .colab-df-convert:hover {\n",
              "      background-color: #434B5C;\n",
              "      box-shadow: 0px 1px 3px 1px rgba(0, 0, 0, 0.15);\n",
              "      filter: drop-shadow(0px 1px 2px rgba(0, 0, 0, 0.3));\n",
              "      fill: #FFFFFF;\n",
              "    }\n",
              "  </style>\n",
              "\n",
              "    <script>\n",
              "      const buttonEl =\n",
              "        document.querySelector('#df-2db5b589-4e46-4dc9-93db-c219fdb36ba4 button.colab-df-convert');\n",
              "      buttonEl.style.display =\n",
              "        google.colab.kernel.accessAllowed ? 'block' : 'none';\n",
              "\n",
              "      async function convertToInteractive(key) {\n",
              "        const element = document.querySelector('#df-2db5b589-4e46-4dc9-93db-c219fdb36ba4');\n",
              "        const dataTable =\n",
              "          await google.colab.kernel.invokeFunction('convertToInteractive',\n",
              "                                                    [key], {});\n",
              "        if (!dataTable) return;\n",
              "\n",
              "        const docLinkHtml = 'Like what you see? Visit the ' +\n",
              "          '<a target=\"_blank\" href=https://colab.research.google.com/notebooks/data_table.ipynb>data table notebook</a>'\n",
              "          + ' to learn more about interactive tables.';\n",
              "        element.innerHTML = '';\n",
              "        dataTable['output_type'] = 'display_data';\n",
              "        await google.colab.output.renderOutput(dataTable, element);\n",
              "        const docLink = document.createElement('div');\n",
              "        docLink.innerHTML = docLinkHtml;\n",
              "        element.appendChild(docLink);\n",
              "      }\n",
              "    </script>\n",
              "  </div>\n",
              "\n",
              "\n",
              "<div id=\"df-73930702-121d-4e3d-b3c8-b50febc07a41\">\n",
              "  <button class=\"colab-df-quickchart\" onclick=\"quickchart('df-73930702-121d-4e3d-b3c8-b50febc07a41')\"\n",
              "            title=\"Suggest charts\"\n",
              "            style=\"display:none;\">\n",
              "\n",
              "<svg xmlns=\"http://www.w3.org/2000/svg\" height=\"24px\"viewBox=\"0 0 24 24\"\n",
              "     width=\"24px\">\n",
              "    <g>\n",
              "        <path d=\"M19 3H5c-1.1 0-2 .9-2 2v14c0 1.1.9 2 2 2h14c1.1 0 2-.9 2-2V5c0-1.1-.9-2-2-2zM9 17H7v-7h2v7zm4 0h-2V7h2v10zm4 0h-2v-4h2v4z\"/>\n",
              "    </g>\n",
              "</svg>\n",
              "  </button>\n",
              "\n",
              "<style>\n",
              "  .colab-df-quickchart {\n",
              "      --bg-color: #E8F0FE;\n",
              "      --fill-color: #1967D2;\n",
              "      --hover-bg-color: #E2EBFA;\n",
              "      --hover-fill-color: #174EA6;\n",
              "      --disabled-fill-color: #AAA;\n",
              "      --disabled-bg-color: #DDD;\n",
              "  }\n",
              "\n",
              "  [theme=dark] .colab-df-quickchart {\n",
              "      --bg-color: #3B4455;\n",
              "      --fill-color: #D2E3FC;\n",
              "      --hover-bg-color: #434B5C;\n",
              "      --hover-fill-color: #FFFFFF;\n",
              "      --disabled-bg-color: #3B4455;\n",
              "      --disabled-fill-color: #666;\n",
              "  }\n",
              "\n",
              "  .colab-df-quickchart {\n",
              "    background-color: var(--bg-color);\n",
              "    border: none;\n",
              "    border-radius: 50%;\n",
              "    cursor: pointer;\n",
              "    display: none;\n",
              "    fill: var(--fill-color);\n",
              "    height: 32px;\n",
              "    padding: 0;\n",
              "    width: 32px;\n",
              "  }\n",
              "\n",
              "  .colab-df-quickchart:hover {\n",
              "    background-color: var(--hover-bg-color);\n",
              "    box-shadow: 0 1px 2px rgba(60, 64, 67, 0.3), 0 1px 3px 1px rgba(60, 64, 67, 0.15);\n",
              "    fill: var(--button-hover-fill-color);\n",
              "  }\n",
              "\n",
              "  .colab-df-quickchart-complete:disabled,\n",
              "  .colab-df-quickchart-complete:disabled:hover {\n",
              "    background-color: var(--disabled-bg-color);\n",
              "    fill: var(--disabled-fill-color);\n",
              "    box-shadow: none;\n",
              "  }\n",
              "\n",
              "  .colab-df-spinner {\n",
              "    border: 2px solid var(--fill-color);\n",
              "    border-color: transparent;\n",
              "    border-bottom-color: var(--fill-color);\n",
              "    animation:\n",
              "      spin 1s steps(1) infinite;\n",
              "  }\n",
              "\n",
              "  @keyframes spin {\n",
              "    0% {\n",
              "      border-color: transparent;\n",
              "      border-bottom-color: var(--fill-color);\n",
              "      border-left-color: var(--fill-color);\n",
              "    }\n",
              "    20% {\n",
              "      border-color: transparent;\n",
              "      border-left-color: var(--fill-color);\n",
              "      border-top-color: var(--fill-color);\n",
              "    }\n",
              "    30% {\n",
              "      border-color: transparent;\n",
              "      border-left-color: var(--fill-color);\n",
              "      border-top-color: var(--fill-color);\n",
              "      border-right-color: var(--fill-color);\n",
              "    }\n",
              "    40% {\n",
              "      border-color: transparent;\n",
              "      border-right-color: var(--fill-color);\n",
              "      border-top-color: var(--fill-color);\n",
              "    }\n",
              "    60% {\n",
              "      border-color: transparent;\n",
              "      border-right-color: var(--fill-color);\n",
              "    }\n",
              "    80% {\n",
              "      border-color: transparent;\n",
              "      border-right-color: var(--fill-color);\n",
              "      border-bottom-color: var(--fill-color);\n",
              "    }\n",
              "    90% {\n",
              "      border-color: transparent;\n",
              "      border-bottom-color: var(--fill-color);\n",
              "    }\n",
              "  }\n",
              "</style>\n",
              "\n",
              "  <script>\n",
              "    async function quickchart(key) {\n",
              "      const quickchartButtonEl =\n",
              "        document.querySelector('#' + key + ' button');\n",
              "      quickchartButtonEl.disabled = true;  // To prevent multiple clicks.\n",
              "      quickchartButtonEl.classList.add('colab-df-spinner');\n",
              "      try {\n",
              "        const charts = await google.colab.kernel.invokeFunction(\n",
              "            'suggestCharts', [key], {});\n",
              "      } catch (error) {\n",
              "        console.error('Error during call to suggestCharts:', error);\n",
              "      }\n",
              "      quickchartButtonEl.classList.remove('colab-df-spinner');\n",
              "      quickchartButtonEl.classList.add('colab-df-quickchart-complete');\n",
              "    }\n",
              "    (() => {\n",
              "      let quickchartButtonEl =\n",
              "        document.querySelector('#df-73930702-121d-4e3d-b3c8-b50febc07a41 button');\n",
              "      quickchartButtonEl.style.display =\n",
              "        google.colab.kernel.accessAllowed ? 'block' : 'none';\n",
              "    })();\n",
              "  </script>\n",
              "</div>\n",
              "    </div>\n",
              "  </div>\n"
            ],
            "application/vnd.google.colaboratory.intrinsic+json": {
              "type": "dataframe",
              "variable_name": "diamonds"
            }
          },
          "metadata": {},
          "execution_count": 6
        }
      ]
    },
    {
      "cell_type": "markdown",
      "source": [
        "(0.5 балла) Найдите количество бриллиантов всего в данном датасете:"
      ],
      "metadata": {
        "id": "gat7bnPQ6fCE"
      }
    },
    {
      "cell_type": "code",
      "source": [
        "len(diamonds)"
      ],
      "metadata": {
        "id": "-9x6z3-J7C-v",
        "outputId": "80a748a4-5454-4ee7-d3a3-8ad5a7bed553",
        "colab": {
          "base_uri": "https://localhost:8080/"
        }
      },
      "execution_count": 7,
      "outputs": [
        {
          "output_type": "execute_result",
          "data": {
            "text/plain": [
              "219703"
            ]
          },
          "metadata": {},
          "execution_count": 7
        }
      ]
    },
    {
      "cell_type": "markdown",
      "source": [
        "(0.5 балла) Выведите максимальную и минимальную цену бриллианта в формате `номер - цена`:"
      ],
      "metadata": {
        "id": "fYQuIdtL7DFp"
      }
    },
    {
      "cell_type": "code",
      "source": [
        "diamonds = diamonds.sort_values(by=\"total_sales_price\")\n",
        "print(diamonds.head(1)[\"total_sales_price\"])\n",
        "print(diamonds.tail(1)[\"total_sales_price\"])"
      ],
      "metadata": {
        "id": "D_7sjzjP7SEj",
        "outputId": "253a0b8a-be61-4775-ac04-375b523726b0",
        "colab": {
          "base_uri": "https://localhost:8080/"
        }
      },
      "execution_count": 8,
      "outputs": [
        {
          "output_type": "stream",
          "name": "stdout",
          "text": [
            "0    200\n",
            "Name: total_sales_price, dtype: int64\n",
            "219702    1449881\n",
            "Name: total_sales_price, dtype: int64\n"
          ]
        }
      ]
    },
    {
      "cell_type": "markdown",
      "source": [
        "(1 балл) Посчитайте количество пропусков (пропуском считается значение `unknown` или `None`):"
      ],
      "metadata": {
        "id": "E2mf4IIO7SOg"
      }
    },
    {
      "cell_type": "code",
      "source": [
        "count = 0\n",
        "for index, row in diamonds.iterrows():\n",
        "  for column in row:\n",
        "      if column == \"unknown\" or column is None:\n",
        "          count += 1\n",
        "print(count)"
      ],
      "metadata": {
        "id": "BuJZ0UoN7qAU",
        "outputId": "c12be324-6e4b-4269-b8c2-266f7113cb5a",
        "colab": {
          "base_uri": "https://localhost:8080/"
        }
      },
      "execution_count": 9,
      "outputs": [
        {
          "output_type": "stream",
          "name": "stdout",
          "text": [
            "1746027\n"
          ]
        }
      ]
    },
    {
      "cell_type": "markdown",
      "source": [
        "(1 балл) Найдите в каких столбцах присутствуют пропуски:"
      ],
      "metadata": {
        "id": "d5LWUc_fh0vb"
      }
    },
    {
      "cell_type": "code",
      "source": [
        "columns_with_spaces = set()\n",
        "for index, row in diamonds.iterrows():\n",
        "  for column in diamonds.columns:\n",
        "    if row[column] == \"unknown\" or row[column] is None:\n",
        "      columns_with_spaces.add(column)\n",
        "for col in columns_with_spaces:\n",
        "    print(col)"
      ],
      "metadata": {
        "id": "IsU49Fouh5vy"
      },
      "execution_count": null,
      "outputs": []
    },
    {
      "cell_type": "markdown",
      "source": [
        "В нашем датасете присутствуют колонки, которые начинаются с `fancy_color_` или `fluor_`. Большинство значений в этих колонках - `unknown` или `None`, поэтому мы считаем их малоинформативными."
      ],
      "metadata": {
        "id": "UznNZpJ47qGX"
      }
    },
    {
      "cell_type": "markdown",
      "source": [
        "Ваша задача:"
      ],
      "metadata": {
        "id": "Rkk6Hr2Ui87X"
      }
    },
    {
      "cell_type": "markdown",
      "source": [
        "1. (0.5 балла) найти количество таких колонок, которые начинаются с `fancy_color_` или `fluor_`:"
      ],
      "metadata": {
        "id": "YYBDAgSSi-JU"
      }
    },
    {
      "cell_type": "code",
      "source": [
        "columns = []\n",
        "for column in diamonds.columns:\n",
        "  if column.startswith(\"fancy_color_\") or column.startswith(\"fluor_\"):\n",
        "    columns.append(column)\n",
        "print(len(columns))"
      ],
      "metadata": {
        "id": "nbTUkk4T8-wO",
        "outputId": "5c5e1373-7ed9-4e7d-ad2c-6e511162cc24",
        "colab": {
          "base_uri": "https://localhost:8080/"
        }
      },
      "execution_count": 11,
      "outputs": [
        {
          "output_type": "stream",
          "name": "stdout",
          "text": [
            "6\n"
          ]
        }
      ]
    },
    {
      "cell_type": "markdown",
      "source": [
        "2. (0.5 балла) найти количество информативных (не `None` или `unknown`) значений в этих колонках:"
      ],
      "metadata": {
        "id": "imop6nNujA6z"
      }
    },
    {
      "cell_type": "code",
      "source": [
        "diamonds[columns].isin(['None', 'unknown']).eq(False).sum().sum()"
      ],
      "metadata": {
        "id": "jtJcBwAVjPHU",
        "outputId": "8a59e12b-21f4-454b-c505-1bd85c984534",
        "colab": {
          "base_uri": "https://localhost:8080/"
        }
      },
      "execution_count": 12,
      "outputs": [
        {
          "output_type": "execute_result",
          "data": {
            "text/plain": [
              "256727"
            ]
          },
          "metadata": {},
          "execution_count": 12
        }
      ]
    },
    {
      "cell_type": "markdown",
      "source": [
        "3. (0.5 балла) удалить данные колонки из датасета, сохранив изменения (в дальнейшем работаем измененным датасетом):"
      ],
      "metadata": {
        "id": "wFbuTnkbjPeq"
      }
    },
    {
      "cell_type": "code",
      "source": [
        "diamonds.drop(columns=columns, inplace=True)\n",
        "diamonds.to_csv('diamonds.csv', index=False)"
      ],
      "metadata": {
        "id": "qSZ5cmKWjutz"
      },
      "execution_count": 13,
      "outputs": []
    },
    {
      "cell_type": "markdown",
      "source": [
        "(1 балл) Проделайте тоже самое для колонок, начинающихся с `culet_`:"
      ],
      "metadata": {
        "id": "JID3q4vr8-2h"
      }
    },
    {
      "cell_type": "code",
      "source": [
        "columns = []\n",
        "for column in diamonds.columns:\n",
        "  if column.startswith(\"culet_\"):\n",
        "    columns.append(column)\n",
        "print(diamonds[columns].isin(['None', 'unknown']).eq(False).sum().sum())\n",
        "diamonds.drop(columns=columns, inplace=True)\n",
        "diamonds.to_csv('diamonds.csv', index=False)"
      ],
      "metadata": {
        "id": "Wfsvzyad-T6P",
        "outputId": "cdf22da4-8477-4b4a-e606-ad7a0b67da13",
        "colab": {
          "base_uri": "https://localhost:8080/"
        }
      },
      "execution_count": 15,
      "outputs": [
        {
          "output_type": "stream",
          "name": "stdout",
          "text": [
            "149282\n"
          ]
        }
      ]
    },
    {
      "cell_type": "markdown",
      "source": [
        "(1 балл) Посчитайте сколько бы стоил (в тысячах долларов) сейф, в котором хранились бы все бриллианты из датасета:"
      ],
      "metadata": {
        "id": "7_qYv5Xm-UCz"
      }
    },
    {
      "cell_type": "code",
      "source": [
        "diamonds['total_sales_price'].sum()"
      ],
      "metadata": {
        "id": "g2wVyz5U-cx7",
        "outputId": "fff8dd72-37c8-4075-d42a-1af15287ca88",
        "colab": {
          "base_uri": "https://localhost:8080/"
        }
      },
      "execution_count": 16,
      "outputs": [
        {
          "output_type": "execute_result",
          "data": {
            "text/plain": [
              "1517721991"
            ]
          },
          "metadata": {},
          "execution_count": 16
        }
      ]
    },
    {
      "cell_type": "markdown",
      "source": [
        "Немного необоснованных манипуляций."
      ],
      "metadata": {
        "id": "GVwspHrUkRFv"
      }
    },
    {
      "cell_type": "markdown",
      "source": [
        "(1 балл) Выберите из датасета строки с четными индексами и выведете значения (не меняя нумерацию индексов):"
      ],
      "metadata": {
        "id": "0j5Yr0mFxxfu"
      }
    },
    {
      "cell_type": "code",
      "source": [
        "diamonds.iloc[::2]"
      ],
      "metadata": {
        "id": "dW2GOROfx6yd",
        "outputId": "95f8bf9f-9c19-4a63-dcf5-37cf05b19d28",
        "colab": {
          "base_uri": "https://localhost:8080/",
          "height": 565
        }
      },
      "execution_count": 17,
      "outputs": [
        {
          "output_type": "execute_result",
          "data": {
            "text/plain": [
              "        Unnamed: 0    cut    color clarity  carat_weight cut_quality  lab  \\\n",
              "0                0  Round        E    VVS2          0.09   Excellent  IGI   \n",
              "21              21  Round        F    VVS1          0.09   Very Good  IGI   \n",
              "19              19  Round        E    VVS2          0.09   Very Good  IGI   \n",
              "17              17  Round        E    VVS2          0.09   Very Good  IGI   \n",
              "15              15  Round        E    VVS2          0.09   Very Good  IGI   \n",
              "...            ...    ...      ...     ...           ...         ...  ...   \n",
              "219694      219695  Round        D      IF         12.52   Excellent  HRD   \n",
              "219696      219697   Oval        H     VS2         18.88     unknown  GIA   \n",
              "219698      219699  Round        E     VS1         10.65   Excellent  GIA   \n",
              "219700      219701  Round        E     VS1         18.07   Excellent  GIA   \n",
              "219702      219703   Pear  unknown    VVS2         10.03     unknown  GIA   \n",
              "\n",
              "         symmetry     polish eye_clean  depth_percent  table_percent  \\\n",
              "0       Very Good  Very Good   unknown           62.7           59.0   \n",
              "21      Very Good  Very Good   unknown           61.4           59.0   \n",
              "19      Very Good  Very Good   unknown           64.8           60.0   \n",
              "17      Very Good  Very Good   unknown           61.2           60.0   \n",
              "15      Very Good  Very Good   unknown           61.8           58.0   \n",
              "...           ...        ...       ...            ...            ...   \n",
              "219694  Excellent  Excellent   unknown           62.1           58.0   \n",
              "219696  Excellent  Excellent   unknown           57.1           55.0   \n",
              "219698  Excellent  Excellent   unknown           61.3           58.0   \n",
              "219700  Excellent  Excellent   unknown           60.2           59.0   \n",
              "219702  Very Good  Excellent   unknown           66.7           65.0   \n",
              "\n",
              "        meas_length  meas_width  meas_depth girdle_min girdle_max  \\\n",
              "0              2.85        2.87        1.79          M          M   \n",
              "21             2.83        2.85        1.74        STK         TK   \n",
              "19             2.81        2.83        1.83         TK         TK   \n",
              "17             2.92        2.94        1.79          M          M   \n",
              "15             2.88        2.90        1.78        STK        STK   \n",
              "...             ...         ...         ...        ...        ...   \n",
              "219694        14.84       14.91        9.24    unknown    unknown   \n",
              "219696        21.34       15.23        8.69         TN        STK   \n",
              "219698        14.06       14.18        8.66          M        STK   \n",
              "219700        17.06       17.10       10.20         TN          M   \n",
              "219702        15.61       11.09        7.39    unknown    unknown   \n",
              "\n",
              "        total_sales_price  \n",
              "0                     200  \n",
              "21                    200  \n",
              "19                    200  \n",
              "17                    200  \n",
              "15                    200  \n",
              "...                   ...  \n",
              "219694            1121792  \n",
              "219696            1132347  \n",
              "219698            1210692  \n",
              "219700            1315496  \n",
              "219702            1449881  \n",
              "\n",
              "[109852 rows x 18 columns]"
            ],
            "text/html": [
              "\n",
              "  <div id=\"df-7295eba1-1a11-4f7e-86c8-85d8f18c0352\" class=\"colab-df-container\">\n",
              "    <div>\n",
              "<style scoped>\n",
              "    .dataframe tbody tr th:only-of-type {\n",
              "        vertical-align: middle;\n",
              "    }\n",
              "\n",
              "    .dataframe tbody tr th {\n",
              "        vertical-align: top;\n",
              "    }\n",
              "\n",
              "    .dataframe thead th {\n",
              "        text-align: right;\n",
              "    }\n",
              "</style>\n",
              "<table border=\"1\" class=\"dataframe\">\n",
              "  <thead>\n",
              "    <tr style=\"text-align: right;\">\n",
              "      <th></th>\n",
              "      <th>Unnamed: 0</th>\n",
              "      <th>cut</th>\n",
              "      <th>color</th>\n",
              "      <th>clarity</th>\n",
              "      <th>carat_weight</th>\n",
              "      <th>cut_quality</th>\n",
              "      <th>lab</th>\n",
              "      <th>symmetry</th>\n",
              "      <th>polish</th>\n",
              "      <th>eye_clean</th>\n",
              "      <th>depth_percent</th>\n",
              "      <th>table_percent</th>\n",
              "      <th>meas_length</th>\n",
              "      <th>meas_width</th>\n",
              "      <th>meas_depth</th>\n",
              "      <th>girdle_min</th>\n",
              "      <th>girdle_max</th>\n",
              "      <th>total_sales_price</th>\n",
              "    </tr>\n",
              "  </thead>\n",
              "  <tbody>\n",
              "    <tr>\n",
              "      <th>0</th>\n",
              "      <td>0</td>\n",
              "      <td>Round</td>\n",
              "      <td>E</td>\n",
              "      <td>VVS2</td>\n",
              "      <td>0.09</td>\n",
              "      <td>Excellent</td>\n",
              "      <td>IGI</td>\n",
              "      <td>Very Good</td>\n",
              "      <td>Very Good</td>\n",
              "      <td>unknown</td>\n",
              "      <td>62.7</td>\n",
              "      <td>59.0</td>\n",
              "      <td>2.85</td>\n",
              "      <td>2.87</td>\n",
              "      <td>1.79</td>\n",
              "      <td>M</td>\n",
              "      <td>M</td>\n",
              "      <td>200</td>\n",
              "    </tr>\n",
              "    <tr>\n",
              "      <th>21</th>\n",
              "      <td>21</td>\n",
              "      <td>Round</td>\n",
              "      <td>F</td>\n",
              "      <td>VVS1</td>\n",
              "      <td>0.09</td>\n",
              "      <td>Very Good</td>\n",
              "      <td>IGI</td>\n",
              "      <td>Very Good</td>\n",
              "      <td>Very Good</td>\n",
              "      <td>unknown</td>\n",
              "      <td>61.4</td>\n",
              "      <td>59.0</td>\n",
              "      <td>2.83</td>\n",
              "      <td>2.85</td>\n",
              "      <td>1.74</td>\n",
              "      <td>STK</td>\n",
              "      <td>TK</td>\n",
              "      <td>200</td>\n",
              "    </tr>\n",
              "    <tr>\n",
              "      <th>19</th>\n",
              "      <td>19</td>\n",
              "      <td>Round</td>\n",
              "      <td>E</td>\n",
              "      <td>VVS2</td>\n",
              "      <td>0.09</td>\n",
              "      <td>Very Good</td>\n",
              "      <td>IGI</td>\n",
              "      <td>Very Good</td>\n",
              "      <td>Very Good</td>\n",
              "      <td>unknown</td>\n",
              "      <td>64.8</td>\n",
              "      <td>60.0</td>\n",
              "      <td>2.81</td>\n",
              "      <td>2.83</td>\n",
              "      <td>1.83</td>\n",
              "      <td>TK</td>\n",
              "      <td>TK</td>\n",
              "      <td>200</td>\n",
              "    </tr>\n",
              "    <tr>\n",
              "      <th>17</th>\n",
              "      <td>17</td>\n",
              "      <td>Round</td>\n",
              "      <td>E</td>\n",
              "      <td>VVS2</td>\n",
              "      <td>0.09</td>\n",
              "      <td>Very Good</td>\n",
              "      <td>IGI</td>\n",
              "      <td>Very Good</td>\n",
              "      <td>Very Good</td>\n",
              "      <td>unknown</td>\n",
              "      <td>61.2</td>\n",
              "      <td>60.0</td>\n",
              "      <td>2.92</td>\n",
              "      <td>2.94</td>\n",
              "      <td>1.79</td>\n",
              "      <td>M</td>\n",
              "      <td>M</td>\n",
              "      <td>200</td>\n",
              "    </tr>\n",
              "    <tr>\n",
              "      <th>15</th>\n",
              "      <td>15</td>\n",
              "      <td>Round</td>\n",
              "      <td>E</td>\n",
              "      <td>VVS2</td>\n",
              "      <td>0.09</td>\n",
              "      <td>Very Good</td>\n",
              "      <td>IGI</td>\n",
              "      <td>Very Good</td>\n",
              "      <td>Very Good</td>\n",
              "      <td>unknown</td>\n",
              "      <td>61.8</td>\n",
              "      <td>58.0</td>\n",
              "      <td>2.88</td>\n",
              "      <td>2.90</td>\n",
              "      <td>1.78</td>\n",
              "      <td>STK</td>\n",
              "      <td>STK</td>\n",
              "      <td>200</td>\n",
              "    </tr>\n",
              "    <tr>\n",
              "      <th>...</th>\n",
              "      <td>...</td>\n",
              "      <td>...</td>\n",
              "      <td>...</td>\n",
              "      <td>...</td>\n",
              "      <td>...</td>\n",
              "      <td>...</td>\n",
              "      <td>...</td>\n",
              "      <td>...</td>\n",
              "      <td>...</td>\n",
              "      <td>...</td>\n",
              "      <td>...</td>\n",
              "      <td>...</td>\n",
              "      <td>...</td>\n",
              "      <td>...</td>\n",
              "      <td>...</td>\n",
              "      <td>...</td>\n",
              "      <td>...</td>\n",
              "      <td>...</td>\n",
              "    </tr>\n",
              "    <tr>\n",
              "      <th>219694</th>\n",
              "      <td>219695</td>\n",
              "      <td>Round</td>\n",
              "      <td>D</td>\n",
              "      <td>IF</td>\n",
              "      <td>12.52</td>\n",
              "      <td>Excellent</td>\n",
              "      <td>HRD</td>\n",
              "      <td>Excellent</td>\n",
              "      <td>Excellent</td>\n",
              "      <td>unknown</td>\n",
              "      <td>62.1</td>\n",
              "      <td>58.0</td>\n",
              "      <td>14.84</td>\n",
              "      <td>14.91</td>\n",
              "      <td>9.24</td>\n",
              "      <td>unknown</td>\n",
              "      <td>unknown</td>\n",
              "      <td>1121792</td>\n",
              "    </tr>\n",
              "    <tr>\n",
              "      <th>219696</th>\n",
              "      <td>219697</td>\n",
              "      <td>Oval</td>\n",
              "      <td>H</td>\n",
              "      <td>VS2</td>\n",
              "      <td>18.88</td>\n",
              "      <td>unknown</td>\n",
              "      <td>GIA</td>\n",
              "      <td>Excellent</td>\n",
              "      <td>Excellent</td>\n",
              "      <td>unknown</td>\n",
              "      <td>57.1</td>\n",
              "      <td>55.0</td>\n",
              "      <td>21.34</td>\n",
              "      <td>15.23</td>\n",
              "      <td>8.69</td>\n",
              "      <td>TN</td>\n",
              "      <td>STK</td>\n",
              "      <td>1132347</td>\n",
              "    </tr>\n",
              "    <tr>\n",
              "      <th>219698</th>\n",
              "      <td>219699</td>\n",
              "      <td>Round</td>\n",
              "      <td>E</td>\n",
              "      <td>VS1</td>\n",
              "      <td>10.65</td>\n",
              "      <td>Excellent</td>\n",
              "      <td>GIA</td>\n",
              "      <td>Excellent</td>\n",
              "      <td>Excellent</td>\n",
              "      <td>unknown</td>\n",
              "      <td>61.3</td>\n",
              "      <td>58.0</td>\n",
              "      <td>14.06</td>\n",
              "      <td>14.18</td>\n",
              "      <td>8.66</td>\n",
              "      <td>M</td>\n",
              "      <td>STK</td>\n",
              "      <td>1210692</td>\n",
              "    </tr>\n",
              "    <tr>\n",
              "      <th>219700</th>\n",
              "      <td>219701</td>\n",
              "      <td>Round</td>\n",
              "      <td>E</td>\n",
              "      <td>VS1</td>\n",
              "      <td>18.07</td>\n",
              "      <td>Excellent</td>\n",
              "      <td>GIA</td>\n",
              "      <td>Excellent</td>\n",
              "      <td>Excellent</td>\n",
              "      <td>unknown</td>\n",
              "      <td>60.2</td>\n",
              "      <td>59.0</td>\n",
              "      <td>17.06</td>\n",
              "      <td>17.10</td>\n",
              "      <td>10.20</td>\n",
              "      <td>TN</td>\n",
              "      <td>M</td>\n",
              "      <td>1315496</td>\n",
              "    </tr>\n",
              "    <tr>\n",
              "      <th>219702</th>\n",
              "      <td>219703</td>\n",
              "      <td>Pear</td>\n",
              "      <td>unknown</td>\n",
              "      <td>VVS2</td>\n",
              "      <td>10.03</td>\n",
              "      <td>unknown</td>\n",
              "      <td>GIA</td>\n",
              "      <td>Very Good</td>\n",
              "      <td>Excellent</td>\n",
              "      <td>unknown</td>\n",
              "      <td>66.7</td>\n",
              "      <td>65.0</td>\n",
              "      <td>15.61</td>\n",
              "      <td>11.09</td>\n",
              "      <td>7.39</td>\n",
              "      <td>unknown</td>\n",
              "      <td>unknown</td>\n",
              "      <td>1449881</td>\n",
              "    </tr>\n",
              "  </tbody>\n",
              "</table>\n",
              "<p>109852 rows × 18 columns</p>\n",
              "</div>\n",
              "    <div class=\"colab-df-buttons\">\n",
              "\n",
              "  <div class=\"colab-df-container\">\n",
              "    <button class=\"colab-df-convert\" onclick=\"convertToInteractive('df-7295eba1-1a11-4f7e-86c8-85d8f18c0352')\"\n",
              "            title=\"Convert this dataframe to an interactive table.\"\n",
              "            style=\"display:none;\">\n",
              "\n",
              "  <svg xmlns=\"http://www.w3.org/2000/svg\" height=\"24px\" viewBox=\"0 -960 960 960\">\n",
              "    <path d=\"M120-120v-720h720v720H120Zm60-500h600v-160H180v160Zm220 220h160v-160H400v160Zm0 220h160v-160H400v160ZM180-400h160v-160H180v160Zm440 0h160v-160H620v160ZM180-180h160v-160H180v160Zm440 0h160v-160H620v160Z\"/>\n",
              "  </svg>\n",
              "    </button>\n",
              "\n",
              "  <style>\n",
              "    .colab-df-container {\n",
              "      display:flex;\n",
              "      gap: 12px;\n",
              "    }\n",
              "\n",
              "    .colab-df-convert {\n",
              "      background-color: #E8F0FE;\n",
              "      border: none;\n",
              "      border-radius: 50%;\n",
              "      cursor: pointer;\n",
              "      display: none;\n",
              "      fill: #1967D2;\n",
              "      height: 32px;\n",
              "      padding: 0 0 0 0;\n",
              "      width: 32px;\n",
              "    }\n",
              "\n",
              "    .colab-df-convert:hover {\n",
              "      background-color: #E2EBFA;\n",
              "      box-shadow: 0px 1px 2px rgba(60, 64, 67, 0.3), 0px 1px 3px 1px rgba(60, 64, 67, 0.15);\n",
              "      fill: #174EA6;\n",
              "    }\n",
              "\n",
              "    .colab-df-buttons div {\n",
              "      margin-bottom: 4px;\n",
              "    }\n",
              "\n",
              "    [theme=dark] .colab-df-convert {\n",
              "      background-color: #3B4455;\n",
              "      fill: #D2E3FC;\n",
              "    }\n",
              "\n",
              "    [theme=dark] .colab-df-convert:hover {\n",
              "      background-color: #434B5C;\n",
              "      box-shadow: 0px 1px 3px 1px rgba(0, 0, 0, 0.15);\n",
              "      filter: drop-shadow(0px 1px 2px rgba(0, 0, 0, 0.3));\n",
              "      fill: #FFFFFF;\n",
              "    }\n",
              "  </style>\n",
              "\n",
              "    <script>\n",
              "      const buttonEl =\n",
              "        document.querySelector('#df-7295eba1-1a11-4f7e-86c8-85d8f18c0352 button.colab-df-convert');\n",
              "      buttonEl.style.display =\n",
              "        google.colab.kernel.accessAllowed ? 'block' : 'none';\n",
              "\n",
              "      async function convertToInteractive(key) {\n",
              "        const element = document.querySelector('#df-7295eba1-1a11-4f7e-86c8-85d8f18c0352');\n",
              "        const dataTable =\n",
              "          await google.colab.kernel.invokeFunction('convertToInteractive',\n",
              "                                                    [key], {});\n",
              "        if (!dataTable) return;\n",
              "\n",
              "        const docLinkHtml = 'Like what you see? Visit the ' +\n",
              "          '<a target=\"_blank\" href=https://colab.research.google.com/notebooks/data_table.ipynb>data table notebook</a>'\n",
              "          + ' to learn more about interactive tables.';\n",
              "        element.innerHTML = '';\n",
              "        dataTable['output_type'] = 'display_data';\n",
              "        await google.colab.output.renderOutput(dataTable, element);\n",
              "        const docLink = document.createElement('div');\n",
              "        docLink.innerHTML = docLinkHtml;\n",
              "        element.appendChild(docLink);\n",
              "      }\n",
              "    </script>\n",
              "  </div>\n",
              "\n",
              "\n",
              "<div id=\"df-e8495857-9d96-4c7b-ac8b-c3f924bc9bde\">\n",
              "  <button class=\"colab-df-quickchart\" onclick=\"quickchart('df-e8495857-9d96-4c7b-ac8b-c3f924bc9bde')\"\n",
              "            title=\"Suggest charts\"\n",
              "            style=\"display:none;\">\n",
              "\n",
              "<svg xmlns=\"http://www.w3.org/2000/svg\" height=\"24px\"viewBox=\"0 0 24 24\"\n",
              "     width=\"24px\">\n",
              "    <g>\n",
              "        <path d=\"M19 3H5c-1.1 0-2 .9-2 2v14c0 1.1.9 2 2 2h14c1.1 0 2-.9 2-2V5c0-1.1-.9-2-2-2zM9 17H7v-7h2v7zm4 0h-2V7h2v10zm4 0h-2v-4h2v4z\"/>\n",
              "    </g>\n",
              "</svg>\n",
              "  </button>\n",
              "\n",
              "<style>\n",
              "  .colab-df-quickchart {\n",
              "      --bg-color: #E8F0FE;\n",
              "      --fill-color: #1967D2;\n",
              "      --hover-bg-color: #E2EBFA;\n",
              "      --hover-fill-color: #174EA6;\n",
              "      --disabled-fill-color: #AAA;\n",
              "      --disabled-bg-color: #DDD;\n",
              "  }\n",
              "\n",
              "  [theme=dark] .colab-df-quickchart {\n",
              "      --bg-color: #3B4455;\n",
              "      --fill-color: #D2E3FC;\n",
              "      --hover-bg-color: #434B5C;\n",
              "      --hover-fill-color: #FFFFFF;\n",
              "      --disabled-bg-color: #3B4455;\n",
              "      --disabled-fill-color: #666;\n",
              "  }\n",
              "\n",
              "  .colab-df-quickchart {\n",
              "    background-color: var(--bg-color);\n",
              "    border: none;\n",
              "    border-radius: 50%;\n",
              "    cursor: pointer;\n",
              "    display: none;\n",
              "    fill: var(--fill-color);\n",
              "    height: 32px;\n",
              "    padding: 0;\n",
              "    width: 32px;\n",
              "  }\n",
              "\n",
              "  .colab-df-quickchart:hover {\n",
              "    background-color: var(--hover-bg-color);\n",
              "    box-shadow: 0 1px 2px rgba(60, 64, 67, 0.3), 0 1px 3px 1px rgba(60, 64, 67, 0.15);\n",
              "    fill: var(--button-hover-fill-color);\n",
              "  }\n",
              "\n",
              "  .colab-df-quickchart-complete:disabled,\n",
              "  .colab-df-quickchart-complete:disabled:hover {\n",
              "    background-color: var(--disabled-bg-color);\n",
              "    fill: var(--disabled-fill-color);\n",
              "    box-shadow: none;\n",
              "  }\n",
              "\n",
              "  .colab-df-spinner {\n",
              "    border: 2px solid var(--fill-color);\n",
              "    border-color: transparent;\n",
              "    border-bottom-color: var(--fill-color);\n",
              "    animation:\n",
              "      spin 1s steps(1) infinite;\n",
              "  }\n",
              "\n",
              "  @keyframes spin {\n",
              "    0% {\n",
              "      border-color: transparent;\n",
              "      border-bottom-color: var(--fill-color);\n",
              "      border-left-color: var(--fill-color);\n",
              "    }\n",
              "    20% {\n",
              "      border-color: transparent;\n",
              "      border-left-color: var(--fill-color);\n",
              "      border-top-color: var(--fill-color);\n",
              "    }\n",
              "    30% {\n",
              "      border-color: transparent;\n",
              "      border-left-color: var(--fill-color);\n",
              "      border-top-color: var(--fill-color);\n",
              "      border-right-color: var(--fill-color);\n",
              "    }\n",
              "    40% {\n",
              "      border-color: transparent;\n",
              "      border-right-color: var(--fill-color);\n",
              "      border-top-color: var(--fill-color);\n",
              "    }\n",
              "    60% {\n",
              "      border-color: transparent;\n",
              "      border-right-color: var(--fill-color);\n",
              "    }\n",
              "    80% {\n",
              "      border-color: transparent;\n",
              "      border-right-color: var(--fill-color);\n",
              "      border-bottom-color: var(--fill-color);\n",
              "    }\n",
              "    90% {\n",
              "      border-color: transparent;\n",
              "      border-bottom-color: var(--fill-color);\n",
              "    }\n",
              "  }\n",
              "</style>\n",
              "\n",
              "  <script>\n",
              "    async function quickchart(key) {\n",
              "      const quickchartButtonEl =\n",
              "        document.querySelector('#' + key + ' button');\n",
              "      quickchartButtonEl.disabled = true;  // To prevent multiple clicks.\n",
              "      quickchartButtonEl.classList.add('colab-df-spinner');\n",
              "      try {\n",
              "        const charts = await google.colab.kernel.invokeFunction(\n",
              "            'suggestCharts', [key], {});\n",
              "      } catch (error) {\n",
              "        console.error('Error during call to suggestCharts:', error);\n",
              "      }\n",
              "      quickchartButtonEl.classList.remove('colab-df-spinner');\n",
              "      quickchartButtonEl.classList.add('colab-df-quickchart-complete');\n",
              "    }\n",
              "    (() => {\n",
              "      let quickchartButtonEl =\n",
              "        document.querySelector('#df-e8495857-9d96-4c7b-ac8b-c3f924bc9bde button');\n",
              "      quickchartButtonEl.style.display =\n",
              "        google.colab.kernel.accessAllowed ? 'block' : 'none';\n",
              "    })();\n",
              "  </script>\n",
              "</div>\n",
              "    </div>\n",
              "  </div>\n"
            ],
            "application/vnd.google.colaboratory.intrinsic+json": {
              "type": "dataframe"
            }
          },
          "metadata": {},
          "execution_count": 17
        }
      ]
    },
    {
      "cell_type": "markdown",
      "source": [
        "(0.5 балла) А теперь с индексами, кратными 6:"
      ],
      "metadata": {
        "id": "mNXqS4oox7TF"
      }
    },
    {
      "cell_type": "code",
      "source": [
        "diamonds.iloc[::6]"
      ],
      "metadata": {
        "id": "hy8LyzXix_SB",
        "outputId": "6627f201-8706-4713-cb4c-c489baff97a6",
        "colab": {
          "base_uri": "https://localhost:8080/",
          "height": 565
        }
      },
      "execution_count": 18,
      "outputs": [
        {
          "output_type": "execute_result",
          "data": {
            "text/plain": [
              "        Unnamed: 0      cut    color clarity  carat_weight cut_quality  lab  \\\n",
              "0                0    Round        E    VVS2          0.09   Excellent  IGI   \n",
              "17              17    Round        E    VVS2          0.09   Very Good  IGI   \n",
              "10              10    Round        E    VVS2          0.09   Very Good  IGI   \n",
              "4                4    Round        E    VVS2          0.09   Very Good  IGI   \n",
              "30              30    Round        E    VVS1          0.09   Very Good  IGI   \n",
              "...            ...      ...      ...     ...           ...         ...  ...   \n",
              "219678      219679    Round        G     VS1         10.23   Excellent  GIA   \n",
              "219684      219685  Radiant  unknown      I1          0.89     unknown  GIA   \n",
              "219690      219691    Round        D    VVS2         10.10   Excellent  GIA   \n",
              "219696      219697     Oval        H     VS2         18.88     unknown  GIA   \n",
              "219702      219703     Pear  unknown    VVS2         10.03     unknown  GIA   \n",
              "\n",
              "         symmetry     polish eye_clean  depth_percent  table_percent  \\\n",
              "0       Very Good  Very Good   unknown           62.7           59.0   \n",
              "17      Very Good  Very Good   unknown           61.2           60.0   \n",
              "10      Very Good  Very Good   unknown           62.2           58.5   \n",
              "4       Very Good  Excellent   unknown           64.9           58.5   \n",
              "30      Very Good  Very Good   unknown           60.3           61.5   \n",
              "...           ...        ...       ...            ...            ...   \n",
              "219678  Excellent  Excellent   unknown           62.7           55.0   \n",
              "219684       Good       Good   unknown           63.8           57.0   \n",
              "219690  Excellent  Excellent   unknown           59.4           59.0   \n",
              "219696  Excellent  Excellent   unknown           57.1           55.0   \n",
              "219702  Very Good  Excellent   unknown           66.7           65.0   \n",
              "\n",
              "        meas_length  meas_width  meas_depth girdle_min girdle_max  \\\n",
              "0              2.85        2.87        1.79          M          M   \n",
              "17             2.92        2.94        1.79          M          M   \n",
              "10             2.82        2.85        1.77        STK         TK   \n",
              "4              2.79        2.83        1.82        STK        STK   \n",
              "30             2.84        2.88        1.72         TK         TK   \n",
              "...             ...         ...         ...        ...        ...   \n",
              "219678        13.82       13.92        8.69         TN          M   \n",
              "219684         6.44        4.96        3.16         TK        VTK   \n",
              "219690        14.07       14.15        8.39          M        STK   \n",
              "219696        21.34       15.23        8.69         TN        STK   \n",
              "219702        15.61       11.09        7.39    unknown    unknown   \n",
              "\n",
              "        total_sales_price  \n",
              "0                     200  \n",
              "17                    200  \n",
              "10                    200  \n",
              "4                     200  \n",
              "30                    204  \n",
              "...                   ...  \n",
              "219678             859320  \n",
              "219684             982560  \n",
              "219690            1040739  \n",
              "219696            1132347  \n",
              "219702            1449881  \n",
              "\n",
              "[36618 rows x 18 columns]"
            ],
            "text/html": [
              "\n",
              "  <div id=\"df-76cbc2e0-a5f5-4d7b-8454-fead8330e2f4\" class=\"colab-df-container\">\n",
              "    <div>\n",
              "<style scoped>\n",
              "    .dataframe tbody tr th:only-of-type {\n",
              "        vertical-align: middle;\n",
              "    }\n",
              "\n",
              "    .dataframe tbody tr th {\n",
              "        vertical-align: top;\n",
              "    }\n",
              "\n",
              "    .dataframe thead th {\n",
              "        text-align: right;\n",
              "    }\n",
              "</style>\n",
              "<table border=\"1\" class=\"dataframe\">\n",
              "  <thead>\n",
              "    <tr style=\"text-align: right;\">\n",
              "      <th></th>\n",
              "      <th>Unnamed: 0</th>\n",
              "      <th>cut</th>\n",
              "      <th>color</th>\n",
              "      <th>clarity</th>\n",
              "      <th>carat_weight</th>\n",
              "      <th>cut_quality</th>\n",
              "      <th>lab</th>\n",
              "      <th>symmetry</th>\n",
              "      <th>polish</th>\n",
              "      <th>eye_clean</th>\n",
              "      <th>depth_percent</th>\n",
              "      <th>table_percent</th>\n",
              "      <th>meas_length</th>\n",
              "      <th>meas_width</th>\n",
              "      <th>meas_depth</th>\n",
              "      <th>girdle_min</th>\n",
              "      <th>girdle_max</th>\n",
              "      <th>total_sales_price</th>\n",
              "    </tr>\n",
              "  </thead>\n",
              "  <tbody>\n",
              "    <tr>\n",
              "      <th>0</th>\n",
              "      <td>0</td>\n",
              "      <td>Round</td>\n",
              "      <td>E</td>\n",
              "      <td>VVS2</td>\n",
              "      <td>0.09</td>\n",
              "      <td>Excellent</td>\n",
              "      <td>IGI</td>\n",
              "      <td>Very Good</td>\n",
              "      <td>Very Good</td>\n",
              "      <td>unknown</td>\n",
              "      <td>62.7</td>\n",
              "      <td>59.0</td>\n",
              "      <td>2.85</td>\n",
              "      <td>2.87</td>\n",
              "      <td>1.79</td>\n",
              "      <td>M</td>\n",
              "      <td>M</td>\n",
              "      <td>200</td>\n",
              "    </tr>\n",
              "    <tr>\n",
              "      <th>17</th>\n",
              "      <td>17</td>\n",
              "      <td>Round</td>\n",
              "      <td>E</td>\n",
              "      <td>VVS2</td>\n",
              "      <td>0.09</td>\n",
              "      <td>Very Good</td>\n",
              "      <td>IGI</td>\n",
              "      <td>Very Good</td>\n",
              "      <td>Very Good</td>\n",
              "      <td>unknown</td>\n",
              "      <td>61.2</td>\n",
              "      <td>60.0</td>\n",
              "      <td>2.92</td>\n",
              "      <td>2.94</td>\n",
              "      <td>1.79</td>\n",
              "      <td>M</td>\n",
              "      <td>M</td>\n",
              "      <td>200</td>\n",
              "    </tr>\n",
              "    <tr>\n",
              "      <th>10</th>\n",
              "      <td>10</td>\n",
              "      <td>Round</td>\n",
              "      <td>E</td>\n",
              "      <td>VVS2</td>\n",
              "      <td>0.09</td>\n",
              "      <td>Very Good</td>\n",
              "      <td>IGI</td>\n",
              "      <td>Very Good</td>\n",
              "      <td>Very Good</td>\n",
              "      <td>unknown</td>\n",
              "      <td>62.2</td>\n",
              "      <td>58.5</td>\n",
              "      <td>2.82</td>\n",
              "      <td>2.85</td>\n",
              "      <td>1.77</td>\n",
              "      <td>STK</td>\n",
              "      <td>TK</td>\n",
              "      <td>200</td>\n",
              "    </tr>\n",
              "    <tr>\n",
              "      <th>4</th>\n",
              "      <td>4</td>\n",
              "      <td>Round</td>\n",
              "      <td>E</td>\n",
              "      <td>VVS2</td>\n",
              "      <td>0.09</td>\n",
              "      <td>Very Good</td>\n",
              "      <td>IGI</td>\n",
              "      <td>Very Good</td>\n",
              "      <td>Excellent</td>\n",
              "      <td>unknown</td>\n",
              "      <td>64.9</td>\n",
              "      <td>58.5</td>\n",
              "      <td>2.79</td>\n",
              "      <td>2.83</td>\n",
              "      <td>1.82</td>\n",
              "      <td>STK</td>\n",
              "      <td>STK</td>\n",
              "      <td>200</td>\n",
              "    </tr>\n",
              "    <tr>\n",
              "      <th>30</th>\n",
              "      <td>30</td>\n",
              "      <td>Round</td>\n",
              "      <td>E</td>\n",
              "      <td>VVS1</td>\n",
              "      <td>0.09</td>\n",
              "      <td>Very Good</td>\n",
              "      <td>IGI</td>\n",
              "      <td>Very Good</td>\n",
              "      <td>Very Good</td>\n",
              "      <td>unknown</td>\n",
              "      <td>60.3</td>\n",
              "      <td>61.5</td>\n",
              "      <td>2.84</td>\n",
              "      <td>2.88</td>\n",
              "      <td>1.72</td>\n",
              "      <td>TK</td>\n",
              "      <td>TK</td>\n",
              "      <td>204</td>\n",
              "    </tr>\n",
              "    <tr>\n",
              "      <th>...</th>\n",
              "      <td>...</td>\n",
              "      <td>...</td>\n",
              "      <td>...</td>\n",
              "      <td>...</td>\n",
              "      <td>...</td>\n",
              "      <td>...</td>\n",
              "      <td>...</td>\n",
              "      <td>...</td>\n",
              "      <td>...</td>\n",
              "      <td>...</td>\n",
              "      <td>...</td>\n",
              "      <td>...</td>\n",
              "      <td>...</td>\n",
              "      <td>...</td>\n",
              "      <td>...</td>\n",
              "      <td>...</td>\n",
              "      <td>...</td>\n",
              "      <td>...</td>\n",
              "    </tr>\n",
              "    <tr>\n",
              "      <th>219678</th>\n",
              "      <td>219679</td>\n",
              "      <td>Round</td>\n",
              "      <td>G</td>\n",
              "      <td>VS1</td>\n",
              "      <td>10.23</td>\n",
              "      <td>Excellent</td>\n",
              "      <td>GIA</td>\n",
              "      <td>Excellent</td>\n",
              "      <td>Excellent</td>\n",
              "      <td>unknown</td>\n",
              "      <td>62.7</td>\n",
              "      <td>55.0</td>\n",
              "      <td>13.82</td>\n",
              "      <td>13.92</td>\n",
              "      <td>8.69</td>\n",
              "      <td>TN</td>\n",
              "      <td>M</td>\n",
              "      <td>859320</td>\n",
              "    </tr>\n",
              "    <tr>\n",
              "      <th>219684</th>\n",
              "      <td>219685</td>\n",
              "      <td>Radiant</td>\n",
              "      <td>unknown</td>\n",
              "      <td>I1</td>\n",
              "      <td>0.89</td>\n",
              "      <td>unknown</td>\n",
              "      <td>GIA</td>\n",
              "      <td>Good</td>\n",
              "      <td>Good</td>\n",
              "      <td>unknown</td>\n",
              "      <td>63.8</td>\n",
              "      <td>57.0</td>\n",
              "      <td>6.44</td>\n",
              "      <td>4.96</td>\n",
              "      <td>3.16</td>\n",
              "      <td>TK</td>\n",
              "      <td>VTK</td>\n",
              "      <td>982560</td>\n",
              "    </tr>\n",
              "    <tr>\n",
              "      <th>219690</th>\n",
              "      <td>219691</td>\n",
              "      <td>Round</td>\n",
              "      <td>D</td>\n",
              "      <td>VVS2</td>\n",
              "      <td>10.10</td>\n",
              "      <td>Excellent</td>\n",
              "      <td>GIA</td>\n",
              "      <td>Excellent</td>\n",
              "      <td>Excellent</td>\n",
              "      <td>unknown</td>\n",
              "      <td>59.4</td>\n",
              "      <td>59.0</td>\n",
              "      <td>14.07</td>\n",
              "      <td>14.15</td>\n",
              "      <td>8.39</td>\n",
              "      <td>M</td>\n",
              "      <td>STK</td>\n",
              "      <td>1040739</td>\n",
              "    </tr>\n",
              "    <tr>\n",
              "      <th>219696</th>\n",
              "      <td>219697</td>\n",
              "      <td>Oval</td>\n",
              "      <td>H</td>\n",
              "      <td>VS2</td>\n",
              "      <td>18.88</td>\n",
              "      <td>unknown</td>\n",
              "      <td>GIA</td>\n",
              "      <td>Excellent</td>\n",
              "      <td>Excellent</td>\n",
              "      <td>unknown</td>\n",
              "      <td>57.1</td>\n",
              "      <td>55.0</td>\n",
              "      <td>21.34</td>\n",
              "      <td>15.23</td>\n",
              "      <td>8.69</td>\n",
              "      <td>TN</td>\n",
              "      <td>STK</td>\n",
              "      <td>1132347</td>\n",
              "    </tr>\n",
              "    <tr>\n",
              "      <th>219702</th>\n",
              "      <td>219703</td>\n",
              "      <td>Pear</td>\n",
              "      <td>unknown</td>\n",
              "      <td>VVS2</td>\n",
              "      <td>10.03</td>\n",
              "      <td>unknown</td>\n",
              "      <td>GIA</td>\n",
              "      <td>Very Good</td>\n",
              "      <td>Excellent</td>\n",
              "      <td>unknown</td>\n",
              "      <td>66.7</td>\n",
              "      <td>65.0</td>\n",
              "      <td>15.61</td>\n",
              "      <td>11.09</td>\n",
              "      <td>7.39</td>\n",
              "      <td>unknown</td>\n",
              "      <td>unknown</td>\n",
              "      <td>1449881</td>\n",
              "    </tr>\n",
              "  </tbody>\n",
              "</table>\n",
              "<p>36618 rows × 18 columns</p>\n",
              "</div>\n",
              "    <div class=\"colab-df-buttons\">\n",
              "\n",
              "  <div class=\"colab-df-container\">\n",
              "    <button class=\"colab-df-convert\" onclick=\"convertToInteractive('df-76cbc2e0-a5f5-4d7b-8454-fead8330e2f4')\"\n",
              "            title=\"Convert this dataframe to an interactive table.\"\n",
              "            style=\"display:none;\">\n",
              "\n",
              "  <svg xmlns=\"http://www.w3.org/2000/svg\" height=\"24px\" viewBox=\"0 -960 960 960\">\n",
              "    <path d=\"M120-120v-720h720v720H120Zm60-500h600v-160H180v160Zm220 220h160v-160H400v160Zm0 220h160v-160H400v160ZM180-400h160v-160H180v160Zm440 0h160v-160H620v160ZM180-180h160v-160H180v160Zm440 0h160v-160H620v160Z\"/>\n",
              "  </svg>\n",
              "    </button>\n",
              "\n",
              "  <style>\n",
              "    .colab-df-container {\n",
              "      display:flex;\n",
              "      gap: 12px;\n",
              "    }\n",
              "\n",
              "    .colab-df-convert {\n",
              "      background-color: #E8F0FE;\n",
              "      border: none;\n",
              "      border-radius: 50%;\n",
              "      cursor: pointer;\n",
              "      display: none;\n",
              "      fill: #1967D2;\n",
              "      height: 32px;\n",
              "      padding: 0 0 0 0;\n",
              "      width: 32px;\n",
              "    }\n",
              "\n",
              "    .colab-df-convert:hover {\n",
              "      background-color: #E2EBFA;\n",
              "      box-shadow: 0px 1px 2px rgba(60, 64, 67, 0.3), 0px 1px 3px 1px rgba(60, 64, 67, 0.15);\n",
              "      fill: #174EA6;\n",
              "    }\n",
              "\n",
              "    .colab-df-buttons div {\n",
              "      margin-bottom: 4px;\n",
              "    }\n",
              "\n",
              "    [theme=dark] .colab-df-convert {\n",
              "      background-color: #3B4455;\n",
              "      fill: #D2E3FC;\n",
              "    }\n",
              "\n",
              "    [theme=dark] .colab-df-convert:hover {\n",
              "      background-color: #434B5C;\n",
              "      box-shadow: 0px 1px 3px 1px rgba(0, 0, 0, 0.15);\n",
              "      filter: drop-shadow(0px 1px 2px rgba(0, 0, 0, 0.3));\n",
              "      fill: #FFFFFF;\n",
              "    }\n",
              "  </style>\n",
              "\n",
              "    <script>\n",
              "      const buttonEl =\n",
              "        document.querySelector('#df-76cbc2e0-a5f5-4d7b-8454-fead8330e2f4 button.colab-df-convert');\n",
              "      buttonEl.style.display =\n",
              "        google.colab.kernel.accessAllowed ? 'block' : 'none';\n",
              "\n",
              "      async function convertToInteractive(key) {\n",
              "        const element = document.querySelector('#df-76cbc2e0-a5f5-4d7b-8454-fead8330e2f4');\n",
              "        const dataTable =\n",
              "          await google.colab.kernel.invokeFunction('convertToInteractive',\n",
              "                                                    [key], {});\n",
              "        if (!dataTable) return;\n",
              "\n",
              "        const docLinkHtml = 'Like what you see? Visit the ' +\n",
              "          '<a target=\"_blank\" href=https://colab.research.google.com/notebooks/data_table.ipynb>data table notebook</a>'\n",
              "          + ' to learn more about interactive tables.';\n",
              "        element.innerHTML = '';\n",
              "        dataTable['output_type'] = 'display_data';\n",
              "        await google.colab.output.renderOutput(dataTable, element);\n",
              "        const docLink = document.createElement('div');\n",
              "        docLink.innerHTML = docLinkHtml;\n",
              "        element.appendChild(docLink);\n",
              "      }\n",
              "    </script>\n",
              "  </div>\n",
              "\n",
              "\n",
              "<div id=\"df-a268ab99-4a82-465c-bd47-0f3182cef952\">\n",
              "  <button class=\"colab-df-quickchart\" onclick=\"quickchart('df-a268ab99-4a82-465c-bd47-0f3182cef952')\"\n",
              "            title=\"Suggest charts\"\n",
              "            style=\"display:none;\">\n",
              "\n",
              "<svg xmlns=\"http://www.w3.org/2000/svg\" height=\"24px\"viewBox=\"0 0 24 24\"\n",
              "     width=\"24px\">\n",
              "    <g>\n",
              "        <path d=\"M19 3H5c-1.1 0-2 .9-2 2v14c0 1.1.9 2 2 2h14c1.1 0 2-.9 2-2V5c0-1.1-.9-2-2-2zM9 17H7v-7h2v7zm4 0h-2V7h2v10zm4 0h-2v-4h2v4z\"/>\n",
              "    </g>\n",
              "</svg>\n",
              "  </button>\n",
              "\n",
              "<style>\n",
              "  .colab-df-quickchart {\n",
              "      --bg-color: #E8F0FE;\n",
              "      --fill-color: #1967D2;\n",
              "      --hover-bg-color: #E2EBFA;\n",
              "      --hover-fill-color: #174EA6;\n",
              "      --disabled-fill-color: #AAA;\n",
              "      --disabled-bg-color: #DDD;\n",
              "  }\n",
              "\n",
              "  [theme=dark] .colab-df-quickchart {\n",
              "      --bg-color: #3B4455;\n",
              "      --fill-color: #D2E3FC;\n",
              "      --hover-bg-color: #434B5C;\n",
              "      --hover-fill-color: #FFFFFF;\n",
              "      --disabled-bg-color: #3B4455;\n",
              "      --disabled-fill-color: #666;\n",
              "  }\n",
              "\n",
              "  .colab-df-quickchart {\n",
              "    background-color: var(--bg-color);\n",
              "    border: none;\n",
              "    border-radius: 50%;\n",
              "    cursor: pointer;\n",
              "    display: none;\n",
              "    fill: var(--fill-color);\n",
              "    height: 32px;\n",
              "    padding: 0;\n",
              "    width: 32px;\n",
              "  }\n",
              "\n",
              "  .colab-df-quickchart:hover {\n",
              "    background-color: var(--hover-bg-color);\n",
              "    box-shadow: 0 1px 2px rgba(60, 64, 67, 0.3), 0 1px 3px 1px rgba(60, 64, 67, 0.15);\n",
              "    fill: var(--button-hover-fill-color);\n",
              "  }\n",
              "\n",
              "  .colab-df-quickchart-complete:disabled,\n",
              "  .colab-df-quickchart-complete:disabled:hover {\n",
              "    background-color: var(--disabled-bg-color);\n",
              "    fill: var(--disabled-fill-color);\n",
              "    box-shadow: none;\n",
              "  }\n",
              "\n",
              "  .colab-df-spinner {\n",
              "    border: 2px solid var(--fill-color);\n",
              "    border-color: transparent;\n",
              "    border-bottom-color: var(--fill-color);\n",
              "    animation:\n",
              "      spin 1s steps(1) infinite;\n",
              "  }\n",
              "\n",
              "  @keyframes spin {\n",
              "    0% {\n",
              "      border-color: transparent;\n",
              "      border-bottom-color: var(--fill-color);\n",
              "      border-left-color: var(--fill-color);\n",
              "    }\n",
              "    20% {\n",
              "      border-color: transparent;\n",
              "      border-left-color: var(--fill-color);\n",
              "      border-top-color: var(--fill-color);\n",
              "    }\n",
              "    30% {\n",
              "      border-color: transparent;\n",
              "      border-left-color: var(--fill-color);\n",
              "      border-top-color: var(--fill-color);\n",
              "      border-right-color: var(--fill-color);\n",
              "    }\n",
              "    40% {\n",
              "      border-color: transparent;\n",
              "      border-right-color: var(--fill-color);\n",
              "      border-top-color: var(--fill-color);\n",
              "    }\n",
              "    60% {\n",
              "      border-color: transparent;\n",
              "      border-right-color: var(--fill-color);\n",
              "    }\n",
              "    80% {\n",
              "      border-color: transparent;\n",
              "      border-right-color: var(--fill-color);\n",
              "      border-bottom-color: var(--fill-color);\n",
              "    }\n",
              "    90% {\n",
              "      border-color: transparent;\n",
              "      border-bottom-color: var(--fill-color);\n",
              "    }\n",
              "  }\n",
              "</style>\n",
              "\n",
              "  <script>\n",
              "    async function quickchart(key) {\n",
              "      const quickchartButtonEl =\n",
              "        document.querySelector('#' + key + ' button');\n",
              "      quickchartButtonEl.disabled = true;  // To prevent multiple clicks.\n",
              "      quickchartButtonEl.classList.add('colab-df-spinner');\n",
              "      try {\n",
              "        const charts = await google.colab.kernel.invokeFunction(\n",
              "            'suggestCharts', [key], {});\n",
              "      } catch (error) {\n",
              "        console.error('Error during call to suggestCharts:', error);\n",
              "      }\n",
              "      quickchartButtonEl.classList.remove('colab-df-spinner');\n",
              "      quickchartButtonEl.classList.add('colab-df-quickchart-complete');\n",
              "    }\n",
              "    (() => {\n",
              "      let quickchartButtonEl =\n",
              "        document.querySelector('#df-a268ab99-4a82-465c-bd47-0f3182cef952 button');\n",
              "      quickchartButtonEl.style.display =\n",
              "        google.colab.kernel.accessAllowed ? 'block' : 'none';\n",
              "    })();\n",
              "  </script>\n",
              "</div>\n",
              "    </div>\n",
              "  </div>\n"
            ],
            "application/vnd.google.colaboratory.intrinsic+json": {
              "type": "dataframe",
              "summary": "{\n  \"name\": \"diamonds\",\n  \"rows\": 36618,\n  \"fields\": [\n    {\n      \"column\": \"Unnamed: 0\",\n      \"properties\": {\n        \"dtype\": \"number\",\n        \"std\": 63425,\n        \"min\": 0,\n        \"max\": 219703,\n        \"num_unique_values\": 36618,\n        \"samples\": [\n          133667,\n          43732,\n          57116\n        ],\n        \"semantic_type\": \"\",\n        \"description\": \"\"\n      }\n    },\n    {\n      \"column\": \"cut\",\n      \"properties\": {\n        \"dtype\": \"category\",\n        \"num_unique_values\": 11,\n        \"samples\": [\n          \"Pear\",\n          \"Round\",\n          \"Cushion\"\n        ],\n        \"semantic_type\": \"\",\n        \"description\": \"\"\n      }\n    },\n    {\n      \"column\": \"color\",\n      \"properties\": {\n        \"dtype\": \"category\",\n        \"num_unique_values\": 11,\n        \"samples\": [\n          \"K\",\n          \"E\",\n          \"J\"\n        ],\n        \"semantic_type\": \"\",\n        \"description\": \"\"\n      }\n    },\n    {\n      \"column\": \"clarity\",\n      \"properties\": {\n        \"dtype\": \"category\",\n        \"num_unique_values\": 11,\n        \"samples\": [\n          \"I1\",\n          \"VVS2\",\n          \"IF\"\n        ],\n        \"semantic_type\": \"\",\n        \"description\": \"\"\n      }\n    },\n    {\n      \"column\": \"carat_weight\",\n      \"properties\": {\n        \"dtype\": \"number\",\n        \"std\": 0.8512264377823748,\n        \"min\": 0.09,\n        \"max\": 18.88,\n        \"num_unique_values\": 516,\n        \"samples\": [\n          2.66,\n          10.1,\n          6.16\n        ],\n        \"semantic_type\": \"\",\n        \"description\": \"\"\n      }\n    },\n    {\n      \"column\": \"cut_quality\",\n      \"properties\": {\n        \"dtype\": \"category\",\n        \"num_unique_values\": 4,\n        \"samples\": [\n          \"Very Good\",\n          \"Good\",\n          \"Excellent\"\n        ],\n        \"semantic_type\": \"\",\n        \"description\": \"\"\n      }\n    },\n    {\n      \"column\": \"lab\",\n      \"properties\": {\n        \"dtype\": \"category\",\n        \"num_unique_values\": 3,\n        \"samples\": [\n          \"IGI\",\n          \"GIA\",\n          \"HRD\"\n        ],\n        \"semantic_type\": \"\",\n        \"description\": \"\"\n      }\n    },\n    {\n      \"column\": \"symmetry\",\n      \"properties\": {\n        \"dtype\": \"category\",\n        \"num_unique_values\": 4,\n        \"samples\": [\n          \"Excellent\",\n          \"Fair\",\n          \"Very Good\"\n        ],\n        \"semantic_type\": \"\",\n        \"description\": \"\"\n      }\n    },\n    {\n      \"column\": \"polish\",\n      \"properties\": {\n        \"dtype\": \"category\",\n        \"num_unique_values\": 4,\n        \"samples\": [\n          \"Excellent\",\n          \"Fair\",\n          \"Very Good\"\n        ],\n        \"semantic_type\": \"\",\n        \"description\": \"\"\n      }\n    },\n    {\n      \"column\": \"eye_clean\",\n      \"properties\": {\n        \"dtype\": \"category\",\n        \"num_unique_values\": 5,\n        \"samples\": [\n          \"Yes\",\n          \"No\",\n          \"E1\"\n        ],\n        \"semantic_type\": \"\",\n        \"description\": \"\"\n      }\n    },\n    {\n      \"column\": \"depth_percent\",\n      \"properties\": {\n        \"dtype\": \"number\",\n        \"std\": 9.751836556687214,\n        \"min\": 0.0,\n        \"max\": 91.0,\n        \"num_unique_values\": 387,\n        \"samples\": [\n          85.9,\n          79.1,\n          61.3\n        ],\n        \"semantic_type\": \"\",\n        \"description\": \"\"\n      }\n    },\n    {\n      \"column\": \"table_percent\",\n      \"properties\": {\n        \"dtype\": \"number\",\n        \"std\": 9.723985800087963,\n        \"min\": 0.0,\n        \"max\": 84.0,\n        \"num_unique_values\": 119,\n        \"samples\": [\n          84.0,\n          48.0,\n          58.0\n        ],\n        \"semantic_type\": \"\",\n        \"description\": \"\"\n      }\n    },\n    {\n      \"column\": \"meas_length\",\n      \"properties\": {\n        \"dtype\": \"number\",\n        \"std\": 1.7537603406256648,\n        \"min\": 0.0,\n        \"max\": 21.34,\n        \"num_unique_values\": 1068,\n        \"samples\": [\n          10.32,\n          4.0,\n          12.54\n        ],\n        \"semantic_type\": \"\",\n        \"description\": \"\"\n      }\n    },\n    {\n      \"column\": \"meas_width\",\n      \"properties\": {\n        \"dtype\": \"number\",\n        \"std\": 1.3544088883714085,\n        \"min\": 0.0,\n        \"max\": 17.25,\n        \"num_unique_values\": 901,\n        \"samples\": [\n          4.71,\n          4.87,\n          7.74\n        ],\n        \"semantic_type\": \"\",\n        \"description\": \"\"\n      }\n    },\n    {\n      \"column\": \"meas_depth\",\n      \"properties\": {\n        \"dtype\": \"number\",\n        \"std\": 2.287552039737332,\n        \"min\": 0.0,\n        \"max\": 76.3,\n        \"num_unique_values\": 626,\n        \"samples\": [\n          5.53,\n          5.91,\n          3.89\n        ],\n        \"semantic_type\": \"\",\n        \"description\": \"\"\n      }\n    },\n    {\n      \"column\": \"girdle_min\",\n      \"properties\": {\n        \"dtype\": \"category\",\n        \"num_unique_values\": 10,\n        \"samples\": [\n          \"XTK\",\n          \"STK\",\n          \"VTK\"\n        ],\n        \"semantic_type\": \"\",\n        \"description\": \"\"\n      }\n    },\n    {\n      \"column\": \"girdle_max\",\n      \"properties\": {\n        \"dtype\": \"category\",\n        \"num_unique_values\": 10,\n        \"samples\": [\n          \"XTN\",\n          \"TK\",\n          \"VTK\"\n        ],\n        \"semantic_type\": \"\",\n        \"description\": \"\"\n      }\n    },\n    {\n      \"column\": \"total_sales_price\",\n      \"properties\": {\n        \"dtype\": \"number\",\n        \"std\": 26395,\n        \"min\": 200,\n        \"max\": 1449881,\n        \"num_unique_values\": 10244,\n        \"samples\": [\n          1402,\n          29700,\n          4908\n        ],\n        \"semantic_type\": \"\",\n        \"description\": \"\"\n      }\n    }\n  ]\n}"
            }
          },
          "metadata": {},
          "execution_count": 18
        }
      ]
    },
    {
      "cell_type": "markdown",
      "source": [
        "(1 балл) Выберете из датасета только категорильные признаки и выведете датасет:"
      ],
      "metadata": {
        "id": "u94LL979x_bV"
      }
    },
    {
      "cell_type": "code",
      "source": [
        "diamonds.select_dtypes(include='object')"
      ],
      "metadata": {
        "id": "2_LBNDWXyOOl",
        "outputId": "89e04f24-35b4-49cd-9f5a-890cf9f83fe6",
        "colab": {
          "base_uri": "https://localhost:8080/",
          "height": 423
        }
      },
      "execution_count": 19,
      "outputs": [
        {
          "output_type": "execute_result",
          "data": {
            "text/plain": [
              "             cut    color clarity cut_quality  lab   symmetry     polish  \\\n",
              "0          Round        E    VVS2   Excellent  IGI  Very Good  Very Good   \n",
              "22         Round        E    VVS2   Very Good  IGI  Very Good  Very Good   \n",
              "21         Round        F    VVS1   Very Good  IGI  Very Good  Very Good   \n",
              "20         Round        E    VVS2   Very Good  IGI  Very Good  Very Good   \n",
              "19         Round        E    VVS2   Very Good  IGI  Very Good  Very Good   \n",
              "...          ...      ...     ...         ...  ...        ...        ...   \n",
              "219698     Round        E     VS1   Excellent  GIA  Excellent  Excellent   \n",
              "219699   Radiant  unknown     VS2     unknown  GIA  Very Good  Very Good   \n",
              "219700     Round        E     VS1   Excellent  GIA  Excellent  Excellent   \n",
              "219701  Princess  unknown     SI2     unknown  GIA       Good       Good   \n",
              "219702      Pear  unknown    VVS2     unknown  GIA  Very Good  Excellent   \n",
              "\n",
              "       eye_clean girdle_min girdle_max  \n",
              "0        unknown          M          M  \n",
              "22       unknown        STK         TK  \n",
              "21       unknown        STK         TK  \n",
              "20       unknown         TN        STK  \n",
              "19       unknown         TK         TK  \n",
              "...          ...        ...        ...  \n",
              "219698   unknown          M        STK  \n",
              "219699   unknown         TK        XTK  \n",
              "219700   unknown         TN          M  \n",
              "219701   unknown        XTN        VTK  \n",
              "219702   unknown    unknown    unknown  \n",
              "\n",
              "[219703 rows x 10 columns]"
            ],
            "text/html": [
              "\n",
              "  <div id=\"df-e6cc79a9-95bf-4dd9-a41b-c0570e8432c3\" class=\"colab-df-container\">\n",
              "    <div>\n",
              "<style scoped>\n",
              "    .dataframe tbody tr th:only-of-type {\n",
              "        vertical-align: middle;\n",
              "    }\n",
              "\n",
              "    .dataframe tbody tr th {\n",
              "        vertical-align: top;\n",
              "    }\n",
              "\n",
              "    .dataframe thead th {\n",
              "        text-align: right;\n",
              "    }\n",
              "</style>\n",
              "<table border=\"1\" class=\"dataframe\">\n",
              "  <thead>\n",
              "    <tr style=\"text-align: right;\">\n",
              "      <th></th>\n",
              "      <th>cut</th>\n",
              "      <th>color</th>\n",
              "      <th>clarity</th>\n",
              "      <th>cut_quality</th>\n",
              "      <th>lab</th>\n",
              "      <th>symmetry</th>\n",
              "      <th>polish</th>\n",
              "      <th>eye_clean</th>\n",
              "      <th>girdle_min</th>\n",
              "      <th>girdle_max</th>\n",
              "    </tr>\n",
              "  </thead>\n",
              "  <tbody>\n",
              "    <tr>\n",
              "      <th>0</th>\n",
              "      <td>Round</td>\n",
              "      <td>E</td>\n",
              "      <td>VVS2</td>\n",
              "      <td>Excellent</td>\n",
              "      <td>IGI</td>\n",
              "      <td>Very Good</td>\n",
              "      <td>Very Good</td>\n",
              "      <td>unknown</td>\n",
              "      <td>M</td>\n",
              "      <td>M</td>\n",
              "    </tr>\n",
              "    <tr>\n",
              "      <th>22</th>\n",
              "      <td>Round</td>\n",
              "      <td>E</td>\n",
              "      <td>VVS2</td>\n",
              "      <td>Very Good</td>\n",
              "      <td>IGI</td>\n",
              "      <td>Very Good</td>\n",
              "      <td>Very Good</td>\n",
              "      <td>unknown</td>\n",
              "      <td>STK</td>\n",
              "      <td>TK</td>\n",
              "    </tr>\n",
              "    <tr>\n",
              "      <th>21</th>\n",
              "      <td>Round</td>\n",
              "      <td>F</td>\n",
              "      <td>VVS1</td>\n",
              "      <td>Very Good</td>\n",
              "      <td>IGI</td>\n",
              "      <td>Very Good</td>\n",
              "      <td>Very Good</td>\n",
              "      <td>unknown</td>\n",
              "      <td>STK</td>\n",
              "      <td>TK</td>\n",
              "    </tr>\n",
              "    <tr>\n",
              "      <th>20</th>\n",
              "      <td>Round</td>\n",
              "      <td>E</td>\n",
              "      <td>VVS2</td>\n",
              "      <td>Very Good</td>\n",
              "      <td>IGI</td>\n",
              "      <td>Very Good</td>\n",
              "      <td>Very Good</td>\n",
              "      <td>unknown</td>\n",
              "      <td>TN</td>\n",
              "      <td>STK</td>\n",
              "    </tr>\n",
              "    <tr>\n",
              "      <th>19</th>\n",
              "      <td>Round</td>\n",
              "      <td>E</td>\n",
              "      <td>VVS2</td>\n",
              "      <td>Very Good</td>\n",
              "      <td>IGI</td>\n",
              "      <td>Very Good</td>\n",
              "      <td>Very Good</td>\n",
              "      <td>unknown</td>\n",
              "      <td>TK</td>\n",
              "      <td>TK</td>\n",
              "    </tr>\n",
              "    <tr>\n",
              "      <th>...</th>\n",
              "      <td>...</td>\n",
              "      <td>...</td>\n",
              "      <td>...</td>\n",
              "      <td>...</td>\n",
              "      <td>...</td>\n",
              "      <td>...</td>\n",
              "      <td>...</td>\n",
              "      <td>...</td>\n",
              "      <td>...</td>\n",
              "      <td>...</td>\n",
              "    </tr>\n",
              "    <tr>\n",
              "      <th>219698</th>\n",
              "      <td>Round</td>\n",
              "      <td>E</td>\n",
              "      <td>VS1</td>\n",
              "      <td>Excellent</td>\n",
              "      <td>GIA</td>\n",
              "      <td>Excellent</td>\n",
              "      <td>Excellent</td>\n",
              "      <td>unknown</td>\n",
              "      <td>M</td>\n",
              "      <td>STK</td>\n",
              "    </tr>\n",
              "    <tr>\n",
              "      <th>219699</th>\n",
              "      <td>Radiant</td>\n",
              "      <td>unknown</td>\n",
              "      <td>VS2</td>\n",
              "      <td>unknown</td>\n",
              "      <td>GIA</td>\n",
              "      <td>Very Good</td>\n",
              "      <td>Very Good</td>\n",
              "      <td>unknown</td>\n",
              "      <td>TK</td>\n",
              "      <td>XTK</td>\n",
              "    </tr>\n",
              "    <tr>\n",
              "      <th>219700</th>\n",
              "      <td>Round</td>\n",
              "      <td>E</td>\n",
              "      <td>VS1</td>\n",
              "      <td>Excellent</td>\n",
              "      <td>GIA</td>\n",
              "      <td>Excellent</td>\n",
              "      <td>Excellent</td>\n",
              "      <td>unknown</td>\n",
              "      <td>TN</td>\n",
              "      <td>M</td>\n",
              "    </tr>\n",
              "    <tr>\n",
              "      <th>219701</th>\n",
              "      <td>Princess</td>\n",
              "      <td>unknown</td>\n",
              "      <td>SI2</td>\n",
              "      <td>unknown</td>\n",
              "      <td>GIA</td>\n",
              "      <td>Good</td>\n",
              "      <td>Good</td>\n",
              "      <td>unknown</td>\n",
              "      <td>XTN</td>\n",
              "      <td>VTK</td>\n",
              "    </tr>\n",
              "    <tr>\n",
              "      <th>219702</th>\n",
              "      <td>Pear</td>\n",
              "      <td>unknown</td>\n",
              "      <td>VVS2</td>\n",
              "      <td>unknown</td>\n",
              "      <td>GIA</td>\n",
              "      <td>Very Good</td>\n",
              "      <td>Excellent</td>\n",
              "      <td>unknown</td>\n",
              "      <td>unknown</td>\n",
              "      <td>unknown</td>\n",
              "    </tr>\n",
              "  </tbody>\n",
              "</table>\n",
              "<p>219703 rows × 10 columns</p>\n",
              "</div>\n",
              "    <div class=\"colab-df-buttons\">\n",
              "\n",
              "  <div class=\"colab-df-container\">\n",
              "    <button class=\"colab-df-convert\" onclick=\"convertToInteractive('df-e6cc79a9-95bf-4dd9-a41b-c0570e8432c3')\"\n",
              "            title=\"Convert this dataframe to an interactive table.\"\n",
              "            style=\"display:none;\">\n",
              "\n",
              "  <svg xmlns=\"http://www.w3.org/2000/svg\" height=\"24px\" viewBox=\"0 -960 960 960\">\n",
              "    <path d=\"M120-120v-720h720v720H120Zm60-500h600v-160H180v160Zm220 220h160v-160H400v160Zm0 220h160v-160H400v160ZM180-400h160v-160H180v160Zm440 0h160v-160H620v160ZM180-180h160v-160H180v160Zm440 0h160v-160H620v160Z\"/>\n",
              "  </svg>\n",
              "    </button>\n",
              "\n",
              "  <style>\n",
              "    .colab-df-container {\n",
              "      display:flex;\n",
              "      gap: 12px;\n",
              "    }\n",
              "\n",
              "    .colab-df-convert {\n",
              "      background-color: #E8F0FE;\n",
              "      border: none;\n",
              "      border-radius: 50%;\n",
              "      cursor: pointer;\n",
              "      display: none;\n",
              "      fill: #1967D2;\n",
              "      height: 32px;\n",
              "      padding: 0 0 0 0;\n",
              "      width: 32px;\n",
              "    }\n",
              "\n",
              "    .colab-df-convert:hover {\n",
              "      background-color: #E2EBFA;\n",
              "      box-shadow: 0px 1px 2px rgba(60, 64, 67, 0.3), 0px 1px 3px 1px rgba(60, 64, 67, 0.15);\n",
              "      fill: #174EA6;\n",
              "    }\n",
              "\n",
              "    .colab-df-buttons div {\n",
              "      margin-bottom: 4px;\n",
              "    }\n",
              "\n",
              "    [theme=dark] .colab-df-convert {\n",
              "      background-color: #3B4455;\n",
              "      fill: #D2E3FC;\n",
              "    }\n",
              "\n",
              "    [theme=dark] .colab-df-convert:hover {\n",
              "      background-color: #434B5C;\n",
              "      box-shadow: 0px 1px 3px 1px rgba(0, 0, 0, 0.15);\n",
              "      filter: drop-shadow(0px 1px 2px rgba(0, 0, 0, 0.3));\n",
              "      fill: #FFFFFF;\n",
              "    }\n",
              "  </style>\n",
              "\n",
              "    <script>\n",
              "      const buttonEl =\n",
              "        document.querySelector('#df-e6cc79a9-95bf-4dd9-a41b-c0570e8432c3 button.colab-df-convert');\n",
              "      buttonEl.style.display =\n",
              "        google.colab.kernel.accessAllowed ? 'block' : 'none';\n",
              "\n",
              "      async function convertToInteractive(key) {\n",
              "        const element = document.querySelector('#df-e6cc79a9-95bf-4dd9-a41b-c0570e8432c3');\n",
              "        const dataTable =\n",
              "          await google.colab.kernel.invokeFunction('convertToInteractive',\n",
              "                                                    [key], {});\n",
              "        if (!dataTable) return;\n",
              "\n",
              "        const docLinkHtml = 'Like what you see? Visit the ' +\n",
              "          '<a target=\"_blank\" href=https://colab.research.google.com/notebooks/data_table.ipynb>data table notebook</a>'\n",
              "          + ' to learn more about interactive tables.';\n",
              "        element.innerHTML = '';\n",
              "        dataTable['output_type'] = 'display_data';\n",
              "        await google.colab.output.renderOutput(dataTable, element);\n",
              "        const docLink = document.createElement('div');\n",
              "        docLink.innerHTML = docLinkHtml;\n",
              "        element.appendChild(docLink);\n",
              "      }\n",
              "    </script>\n",
              "  </div>\n",
              "\n",
              "\n",
              "<div id=\"df-b8602522-5b36-4e7f-9b39-5f9dcc3c4921\">\n",
              "  <button class=\"colab-df-quickchart\" onclick=\"quickchart('df-b8602522-5b36-4e7f-9b39-5f9dcc3c4921')\"\n",
              "            title=\"Suggest charts\"\n",
              "            style=\"display:none;\">\n",
              "\n",
              "<svg xmlns=\"http://www.w3.org/2000/svg\" height=\"24px\"viewBox=\"0 0 24 24\"\n",
              "     width=\"24px\">\n",
              "    <g>\n",
              "        <path d=\"M19 3H5c-1.1 0-2 .9-2 2v14c0 1.1.9 2 2 2h14c1.1 0 2-.9 2-2V5c0-1.1-.9-2-2-2zM9 17H7v-7h2v7zm4 0h-2V7h2v10zm4 0h-2v-4h2v4z\"/>\n",
              "    </g>\n",
              "</svg>\n",
              "  </button>\n",
              "\n",
              "<style>\n",
              "  .colab-df-quickchart {\n",
              "      --bg-color: #E8F0FE;\n",
              "      --fill-color: #1967D2;\n",
              "      --hover-bg-color: #E2EBFA;\n",
              "      --hover-fill-color: #174EA6;\n",
              "      --disabled-fill-color: #AAA;\n",
              "      --disabled-bg-color: #DDD;\n",
              "  }\n",
              "\n",
              "  [theme=dark] .colab-df-quickchart {\n",
              "      --bg-color: #3B4455;\n",
              "      --fill-color: #D2E3FC;\n",
              "      --hover-bg-color: #434B5C;\n",
              "      --hover-fill-color: #FFFFFF;\n",
              "      --disabled-bg-color: #3B4455;\n",
              "      --disabled-fill-color: #666;\n",
              "  }\n",
              "\n",
              "  .colab-df-quickchart {\n",
              "    background-color: var(--bg-color);\n",
              "    border: none;\n",
              "    border-radius: 50%;\n",
              "    cursor: pointer;\n",
              "    display: none;\n",
              "    fill: var(--fill-color);\n",
              "    height: 32px;\n",
              "    padding: 0;\n",
              "    width: 32px;\n",
              "  }\n",
              "\n",
              "  .colab-df-quickchart:hover {\n",
              "    background-color: var(--hover-bg-color);\n",
              "    box-shadow: 0 1px 2px rgba(60, 64, 67, 0.3), 0 1px 3px 1px rgba(60, 64, 67, 0.15);\n",
              "    fill: var(--button-hover-fill-color);\n",
              "  }\n",
              "\n",
              "  .colab-df-quickchart-complete:disabled,\n",
              "  .colab-df-quickchart-complete:disabled:hover {\n",
              "    background-color: var(--disabled-bg-color);\n",
              "    fill: var(--disabled-fill-color);\n",
              "    box-shadow: none;\n",
              "  }\n",
              "\n",
              "  .colab-df-spinner {\n",
              "    border: 2px solid var(--fill-color);\n",
              "    border-color: transparent;\n",
              "    border-bottom-color: var(--fill-color);\n",
              "    animation:\n",
              "      spin 1s steps(1) infinite;\n",
              "  }\n",
              "\n",
              "  @keyframes spin {\n",
              "    0% {\n",
              "      border-color: transparent;\n",
              "      border-bottom-color: var(--fill-color);\n",
              "      border-left-color: var(--fill-color);\n",
              "    }\n",
              "    20% {\n",
              "      border-color: transparent;\n",
              "      border-left-color: var(--fill-color);\n",
              "      border-top-color: var(--fill-color);\n",
              "    }\n",
              "    30% {\n",
              "      border-color: transparent;\n",
              "      border-left-color: var(--fill-color);\n",
              "      border-top-color: var(--fill-color);\n",
              "      border-right-color: var(--fill-color);\n",
              "    }\n",
              "    40% {\n",
              "      border-color: transparent;\n",
              "      border-right-color: var(--fill-color);\n",
              "      border-top-color: var(--fill-color);\n",
              "    }\n",
              "    60% {\n",
              "      border-color: transparent;\n",
              "      border-right-color: var(--fill-color);\n",
              "    }\n",
              "    80% {\n",
              "      border-color: transparent;\n",
              "      border-right-color: var(--fill-color);\n",
              "      border-bottom-color: var(--fill-color);\n",
              "    }\n",
              "    90% {\n",
              "      border-color: transparent;\n",
              "      border-bottom-color: var(--fill-color);\n",
              "    }\n",
              "  }\n",
              "</style>\n",
              "\n",
              "  <script>\n",
              "    async function quickchart(key) {\n",
              "      const quickchartButtonEl =\n",
              "        document.querySelector('#' + key + ' button');\n",
              "      quickchartButtonEl.disabled = true;  // To prevent multiple clicks.\n",
              "      quickchartButtonEl.classList.add('colab-df-spinner');\n",
              "      try {\n",
              "        const charts = await google.colab.kernel.invokeFunction(\n",
              "            'suggestCharts', [key], {});\n",
              "      } catch (error) {\n",
              "        console.error('Error during call to suggestCharts:', error);\n",
              "      }\n",
              "      quickchartButtonEl.classList.remove('colab-df-spinner');\n",
              "      quickchartButtonEl.classList.add('colab-df-quickchart-complete');\n",
              "    }\n",
              "    (() => {\n",
              "      let quickchartButtonEl =\n",
              "        document.querySelector('#df-b8602522-5b36-4e7f-9b39-5f9dcc3c4921 button');\n",
              "      quickchartButtonEl.style.display =\n",
              "        google.colab.kernel.accessAllowed ? 'block' : 'none';\n",
              "    })();\n",
              "  </script>\n",
              "</div>\n",
              "    </div>\n",
              "  </div>\n"
            ],
            "application/vnd.google.colaboratory.intrinsic+json": {
              "type": "dataframe"
            }
          },
          "metadata": {},
          "execution_count": 19
        }
      ]
    },
    {
      "cell_type": "markdown",
      "source": [
        ">**Примечание**\n",
        ">\n",
        ">Данный датасет можно использовать для задания 3 (с использованием `sklearn`)"
      ],
      "metadata": {
        "id": "QANg8ziJkHGM"
      }
    },
    {
      "cell_type": "markdown",
      "source": [
        "(0.5 балла) Выберете столбец с данными о цене бриллиантов и домножите его на тот столбец, только транспонированный, и выведите полученную матрицу:"
      ],
      "metadata": {
        "id": "mV9jLhspyOgz"
      }
    },
    {
      "cell_type": "code",
      "source": [
        "# your code here"
      ],
      "metadata": {
        "id": "LawjtnoIymFu"
      },
      "execution_count": null,
      "outputs": []
    },
    {
      "cell_type": "markdown",
      "source": [
        "### Построение графиков"
      ],
      "metadata": {
        "id": "Pz02uapbkbGk"
      }
    },
    {
      "cell_type": "markdown",
      "source": [
        "**Требования к графику:**\n",
        "\n",
        "1.   График должен быть подписан\n",
        "2.   Оси должны быть подписаны\n",
        "3.   Должна быть легенда графика\n",
        "4.   График должен быть информативным (желательно без сильных выбросов)\n",
        "\n",
        "**Все надписи на русском языке!**"
      ],
      "metadata": {
        "id": "_zhww-rd-c5c"
      }
    },
    {
      "cell_type": "markdown",
      "source": [
        ">**Примечание**\n",
        ">\n",
        ">График необходимо строить для очищенных данных - в них не должно быть пропусков по осям, по которым строите график. При этом **не перезатирайте** имеющийся датафрейм!"
      ],
      "metadata": {
        "id": "mfebCvk0k2mo"
      }
    },
    {
      "cell_type": "markdown",
      "source": [
        "(2 балла) Постройте график `цвет бриллианта - стоимость`:"
      ],
      "metadata": {
        "id": "4R9Rwxdq-l21"
      }
    },
    {
      "cell_type": "code",
      "source": [
        "new_dataframe = diamonds.copy()\n",
        "new_dataframe = new_dataframe[\n",
        "    (new_dataframe[\"color\"] != \"unknown\") & (new_dataframe[\"color\"] is not None)\n",
        "]\n",
        "new_dataframe = new_dataframe[\n",
        "    (new_dataframe[\"color\"] != \"total_sales_price\")\n",
        "    & (new_dataframe[\"total_sales_price\"] is not None)\n",
        "]\n",
        "diamonds.plot(kind=\"line\", x=\"color\", y=\"total_sales_price\", legend=True)\n"
      ],
      "metadata": {
        "id": "Fo6I0j5o-vQh"
      },
      "execution_count": null,
      "outputs": []
    },
    {
      "cell_type": "markdown",
      "source": [
        "(2 балла) Постройте график `лабараторная оценка - кол-во бриллиантов`:"
      ],
      "metadata": {
        "id": "W_UgFji5-vWx"
      }
    },
    {
      "cell_type": "code",
      "source": [
        "new_dataframe = diamonds.copy()\n",
        "new_dataframe = new_dataframe[\n",
        "    (new_dataframe[\"clarity\"] != \"unknown\") & (new_dataframe[\"clarity\"] is not None)\n",
        "]\n",
        "diamonds[\"clarity\"].value_counts().plot(kind=\"line\", legend=True)\n"
      ],
      "metadata": {
        "id": "nyT8-TRb_c24",
        "outputId": "7bcae699-8cea-4882-8642-0e21320737d6",
        "colab": {
          "base_uri": "https://localhost:8080/",
          "height": 467
        }
      },
      "execution_count": 21,
      "outputs": [
        {
          "output_type": "execute_result",
          "data": {
            "text/plain": [
              "<Axes: xlabel='clarity'>"
            ]
          },
          "metadata": {},
          "execution_count": 21
        },
        {
          "output_type": "display_data",
          "data": {
            "text/plain": [
              "<Figure size 640x480 with 1 Axes>"
            ],
            "image/png": "[encoded data removed]"
          },
          "metadata": {}
        }
      ]
    },
    {
      "cell_type": "markdown",
      "source": [
        "(2 балла) Постройте график `вес бриллианта - стоимость`:"
      ],
      "metadata": {
        "id": "AgsMclnJ_c9H"
      }
    },
    {
      "cell_type": "code",
      "source": [
        "# your code here"
      ],
      "metadata": {
        "id": "tn-x3pwmANQe",
        "outputId": "ec4d91be-9930-44a0-f552-91070bb48df7",
        "colab": {
          "base_uri": "https://localhost:8080/"
        }
      },
      "execution_count": null,
      "outputs": [
        {
          "output_type": "execute_result",
          "data": {
            "text/plain": [
              "<Axes: xlabel='carat_weight'>"
            ]
          },
          "metadata": {},
          "execution_count": 5
        }
      ]
    },
    {
      "cell_type": "markdown",
      "source": [
        "(2 балла) Постройте график `система оценки GIA Cut - кол-во бриллиантов`:"
      ],
      "metadata": {
        "id": "0LVC1KfEAwuw"
      }
    },
    {
      "cell_type": "code",
      "source": [
        "# your code here"
      ],
      "metadata": {
        "id": "IeuLooSIA232"
      },
      "execution_count": null,
      "outputs": []
    },
    {
      "cell_type": "markdown",
      "source": [
        "(2 балла) **Сделайте выводы по построенным графикам:**"
      ],
      "metadata": {
        "id": "DRaaNLidFDhL"
      }
    },
    {
      "cell_type": "markdown",
      "source": [
        ">*Подсказка для маленьких: Что вы можете сказать о графиках полученных выше для данного датасета?*"
      ],
      "metadata": {
        "id": "GSuWCfdGLtn0"
      }
    },
    {
      "cell_type": "markdown",
      "source": [
        "Ваши выводы здесь :)"
      ],
      "metadata": {
        "id": "iNdjR_X9lSt1"
      }
    },
    {
      "cell_type": "markdown",
      "source": [
        "## Задание 3. Модель - 30 баллов"
      ],
      "metadata": {
        "id": "JKYRkX_rBxxu"
      }
    },
    {
      "cell_type": "markdown",
      "source": [
        "В данном задании вам предстоит построить классифицирующую модель размер алмаза и его стоимости, а затем оценить полученную модель."
      ],
      "metadata": {
        "id": "EJO9SwpII_uJ"
      }
    },
    {
      "cell_type": "markdown",
      "source": [
        ">**Примечание**\n",
        ">\n",
        ">Данная модель не претендует на самый верный индикатор стоимости алмаза, ведь мы не учитываем ничего больше чем стоимость алмаза. Исключительно для образовательных целей :)"
      ],
      "metadata": {
        "id": "_8sA1qlRllrk"
      }
    },
    {
      "cell_type": "markdown",
      "source": [
        "Для построения модели нам понадобится 4 столбца, а именно:\n",
        "- `meas_length`\n",
        "- `meas_width`\n",
        "- `meas_depth`\n",
        "- `total_sales_price`\n",
        "\n",
        "От остальных столбцов можно избавиться."
      ],
      "metadata": {
        "id": "e78rVEGFJrVN"
      }
    },
    {
      "cell_type": "markdown",
      "source": [
        "(1 балл) Создайте новый датасет и выведите его первые 10 строк:"
      ],
      "metadata": {
        "id": "HhpeXcR1l-Ag"
      }
    },
    {
      "cell_type": "code",
      "source": [
        "new_dataset = diamonds[[\"meas_length\", \"meas_width\", \"meas_depth\", \"total_sales_price\"]]\n",
        "new_dataset.head(10)"
      ],
      "metadata": {
        "id": "K87VXeCxKFrU",
        "outputId": "2ab5c3c9-4687-4377-d2e7-c12a061fe8b4",
        "colab": {
          "base_uri": "https://localhost:8080/",
          "height": 363
        }
      },
      "execution_count": 28,
      "outputs": [
        {
          "output_type": "execute_result",
          "data": {
            "text/plain": [
              "    meas_length  meas_width  meas_depth  total_sales_price\n",
              "0          2.85        2.87        1.79                200\n",
              "22         2.80        2.81        1.77                200\n",
              "21         2.83        2.85        1.74                200\n",
              "20         2.87        2.88        1.76                200\n",
              "19         2.81        2.83        1.83                200\n",
              "18         2.91        2.92        1.78                200\n",
              "17         2.92        2.94        1.79                200\n",
              "16         2.88        2.91        1.80                200\n",
              "15         2.88        2.90        1.78                200\n",
              "14         2.81        2.84        1.79                200"
            ],
            "text/html": [
              "\n",
              "  <div id=\"df-d230c7c9-1443-403d-8fff-31fcbc563cb9\" class=\"colab-df-container\">\n",
              "    <div>\n",
              "<style scoped>\n",
              "    .dataframe tbody tr th:only-of-type {\n",
              "        vertical-align: middle;\n",
              "    }\n",
              "\n",
              "    .dataframe tbody tr th {\n",
              "        vertical-align: top;\n",
              "    }\n",
              "\n",
              "    .dataframe thead th {\n",
              "        text-align: right;\n",
              "    }\n",
              "</style>\n",
              "<table border=\"1\" class=\"dataframe\">\n",
              "  <thead>\n",
              "    <tr style=\"text-align: right;\">\n",
              "      <th></th>\n",
              "      <th>meas_length</th>\n",
              "      <th>meas_width</th>\n",
              "      <th>meas_depth</th>\n",
              "      <th>total_sales_price</th>\n",
              "    </tr>\n",
              "  </thead>\n",
              "  <tbody>\n",
              "    <tr>\n",
              "      <th>0</th>\n",
              "      <td>2.85</td>\n",
              "      <td>2.87</td>\n",
              "      <td>1.79</td>\n",
              "      <td>200</td>\n",
              "    </tr>\n",
              "    <tr>\n",
              "      <th>22</th>\n",
              "      <td>2.80</td>\n",
              "      <td>2.81</td>\n",
              "      <td>1.77</td>\n",
              "      <td>200</td>\n",
              "    </tr>\n",
              "    <tr>\n",
              "      <th>21</th>\n",
              "      <td>2.83</td>\n",
              "      <td>2.85</td>\n",
              "      <td>1.74</td>\n",
              "      <td>200</td>\n",
              "    </tr>\n",
              "    <tr>\n",
              "      <th>20</th>\n",
              "      <td>2.87</td>\n",
              "      <td>2.88</td>\n",
              "      <td>1.76</td>\n",
              "      <td>200</td>\n",
              "    </tr>\n",
              "    <tr>\n",
              "      <th>19</th>\n",
              "      <td>2.81</td>\n",
              "      <td>2.83</td>\n",
              "      <td>1.83</td>\n",
              "      <td>200</td>\n",
              "    </tr>\n",
              "    <tr>\n",
              "      <th>18</th>\n",
              "      <td>2.91</td>\n",
              "      <td>2.92</td>\n",
              "      <td>1.78</td>\n",
              "      <td>200</td>\n",
              "    </tr>\n",
              "    <tr>\n",
              "      <th>17</th>\n",
              "      <td>2.92</td>\n",
              "      <td>2.94</td>\n",
              "      <td>1.79</td>\n",
              "      <td>200</td>\n",
              "    </tr>\n",
              "    <tr>\n",
              "      <th>16</th>\n",
              "      <td>2.88</td>\n",
              "      <td>2.91</td>\n",
              "      <td>1.80</td>\n",
              "      <td>200</td>\n",
              "    </tr>\n",
              "    <tr>\n",
              "      <th>15</th>\n",
              "      <td>2.88</td>\n",
              "      <td>2.90</td>\n",
              "      <td>1.78</td>\n",
              "      <td>200</td>\n",
              "    </tr>\n",
              "    <tr>\n",
              "      <th>14</th>\n",
              "      <td>2.81</td>\n",
              "      <td>2.84</td>\n",
              "      <td>1.79</td>\n",
              "      <td>200</td>\n",
              "    </tr>\n",
              "  </tbody>\n",
              "</table>\n",
              "</div>\n",
              "    <div class=\"colab-df-buttons\">\n",
              "\n",
              "  <div class=\"colab-df-container\">\n",
              "    <button class=\"colab-df-convert\" onclick=\"convertToInteractive('df-d230c7c9-1443-403d-8fff-31fcbc563cb9')\"\n",
              "            title=\"Convert this dataframe to an interactive table.\"\n",
              "            style=\"display:none;\">\n",
              "\n",
              "  <svg xmlns=\"http://www.w3.org/2000/svg\" height=\"24px\" viewBox=\"0 -960 960 960\">\n",
              "    <path d=\"M120-120v-720h720v720H120Zm60-500h600v-160H180v160Zm220 220h160v-160H400v160Zm0 220h160v-160H400v160ZM180-400h160v-160H180v160Zm440 0h160v-160H620v160ZM180-180h160v-160H180v160Zm440 0h160v-160H620v160Z\"/>\n",
              "  </svg>\n",
              "    </button>\n",
              "\n",
              "  <style>\n",
              "    .colab-df-container {\n",
              "      display:flex;\n",
              "      gap: 12px;\n",
              "    }\n",
              "\n",
              "    .colab-df-convert {\n",
              "      background-color: #E8F0FE;\n",
              "      border: none;\n",
              "      border-radius: 50%;\n",
              "      cursor: pointer;\n",
              "      display: none;\n",
              "      fill: #1967D2;\n",
              "      height: 32px;\n",
              "      padding: 0 0 0 0;\n",
              "      width: 32px;\n",
              "    }\n",
              "\n",
              "    .colab-df-convert:hover {\n",
              "      background-color: #E2EBFA;\n",
              "      box-shadow: 0px 1px 2px rgba(60, 64, 67, 0.3), 0px 1px 3px 1px rgba(60, 64, 67, 0.15);\n",
              "      fill: #174EA6;\n",
              "    }\n",
              "\n",
              "    .colab-df-buttons div {\n",
              "      margin-bottom: 4px;\n",
              "    }\n",
              "\n",
              "    [theme=dark] .colab-df-convert {\n",
              "      background-color: #3B4455;\n",
              "      fill: #D2E3FC;\n",
              "    }\n",
              "\n",
              "    [theme=dark] .colab-df-convert:hover {\n",
              "      background-color: #434B5C;\n",
              "      box-shadow: 0px 1px 3px 1px rgba(0, 0, 0, 0.15);\n",
              "      filter: drop-shadow(0px 1px 2px rgba(0, 0, 0, 0.3));\n",
              "      fill: #FFFFFF;\n",
              "    }\n",
              "  </style>\n",
              "\n",
              "    <script>\n",
              "      const buttonEl =\n",
              "        document.querySelector('#df-d230c7c9-1443-403d-8fff-31fcbc563cb9 button.colab-df-convert');\n",
              "      buttonEl.style.display =\n",
              "        google.colab.kernel.accessAllowed ? 'block' : 'none';\n",
              "\n",
              "      async function convertToInteractive(key) {\n",
              "        const element = document.querySelector('#df-d230c7c9-1443-403d-8fff-31fcbc563cb9');\n",
              "        const dataTable =\n",
              "          await google.colab.kernel.invokeFunction('convertToInteractive',\n",
              "                                                    [key], {});\n",
              "        if (!dataTable) return;\n",
              "\n",
              "        const docLinkHtml = 'Like what you see? Visit the ' +\n",
              "          '<a target=\"_blank\" href=https://colab.research.google.com/notebooks/data_table.ipynb>data table notebook</a>'\n",
              "          + ' to learn more about interactive tables.';\n",
              "        element.innerHTML = '';\n",
              "        dataTable['output_type'] = 'display_data';\n",
              "        await google.colab.output.renderOutput(dataTable, element);\n",
              "        const docLink = document.createElement('div');\n",
              "        docLink.innerHTML = docLinkHtml;\n",
              "        element.appendChild(docLink);\n",
              "      }\n",
              "    </script>\n",
              "  </div>\n",
              "\n",
              "\n",
              "<div id=\"df-7172a96b-d6f3-4b64-b2cb-9efd19670c1b\">\n",
              "  <button class=\"colab-df-quickchart\" onclick=\"quickchart('df-7172a96b-d6f3-4b64-b2cb-9efd19670c1b')\"\n",
              "            title=\"Suggest charts\"\n",
              "            style=\"display:none;\">\n",
              "\n",
              "<svg xmlns=\"http://www.w3.org/2000/svg\" height=\"24px\"viewBox=\"0 0 24 24\"\n",
              "     width=\"24px\">\n",
              "    <g>\n",
              "        <path d=\"M19 3H5c-1.1 0-2 .9-2 2v14c0 1.1.9 2 2 2h14c1.1 0 2-.9 2-2V5c0-1.1-.9-2-2-2zM9 17H7v-7h2v7zm4 0h-2V7h2v10zm4 0h-2v-4h2v4z\"/>\n",
              "    </g>\n",
              "</svg>\n",
              "  </button>\n",
              "\n",
              "<style>\n",
              "  .colab-df-quickchart {\n",
              "      --bg-color: #E8F0FE;\n",
              "      --fill-color: #1967D2;\n",
              "      --hover-bg-color: #E2EBFA;\n",
              "      --hover-fill-color: #174EA6;\n",
              "      --disabled-fill-color: #AAA;\n",
              "      --disabled-bg-color: #DDD;\n",
              "  }\n",
              "\n",
              "  [theme=dark] .colab-df-quickchart {\n",
              "      --bg-color: #3B4455;\n",
              "      --fill-color: #D2E3FC;\n",
              "      --hover-bg-color: #434B5C;\n",
              "      --hover-fill-color: #FFFFFF;\n",
              "      --disabled-bg-color: #3B4455;\n",
              "      --disabled-fill-color: #666;\n",
              "  }\n",
              "\n",
              "  .colab-df-quickchart {\n",
              "    background-color: var(--bg-color);\n",
              "    border: none;\n",
              "    border-radius: 50%;\n",
              "    cursor: pointer;\n",
              "    display: none;\n",
              "    fill: var(--fill-color);\n",
              "    height: 32px;\n",
              "    padding: 0;\n",
              "    width: 32px;\n",
              "  }\n",
              "\n",
              "  .colab-df-quickchart:hover {\n",
              "    background-color: var(--hover-bg-color);\n",
              "    box-shadow: 0 1px 2px rgba(60, 64, 67, 0.3), 0 1px 3px 1px rgba(60, 64, 67, 0.15);\n",
              "    fill: var(--button-hover-fill-color);\n",
              "  }\n",
              "\n",
              "  .colab-df-quickchart-complete:disabled,\n",
              "  .colab-df-quickchart-complete:disabled:hover {\n",
              "    background-color: var(--disabled-bg-color);\n",
              "    fill: var(--disabled-fill-color);\n",
              "    box-shadow: none;\n",
              "  }\n",
              "\n",
              "  .colab-df-spinner {\n",
              "    border: 2px solid var(--fill-color);\n",
              "    border-color: transparent;\n",
              "    border-bottom-color: var(--fill-color);\n",
              "    animation:\n",
              "      spin 1s steps(1) infinite;\n",
              "  }\n",
              "\n",
              "  @keyframes spin {\n",
              "    0% {\n",
              "      border-color: transparent;\n",
              "      border-bottom-color: var(--fill-color);\n",
              "      border-left-color: var(--fill-color);\n",
              "    }\n",
              "    20% {\n",
              "      border-color: transparent;\n",
              "      border-left-color: var(--fill-color);\n",
              "      border-top-color: var(--fill-color);\n",
              "    }\n",
              "    30% {\n",
              "      border-color: transparent;\n",
              "      border-left-color: var(--fill-color);\n",
              "      border-top-color: var(--fill-color);\n",
              "      border-right-color: var(--fill-color);\n",
              "    }\n",
              "    40% {\n",
              "      border-color: transparent;\n",
              "      border-right-color: var(--fill-color);\n",
              "      border-top-color: var(--fill-color);\n",
              "    }\n",
              "    60% {\n",
              "      border-color: transparent;\n",
              "      border-right-color: var(--fill-color);\n",
              "    }\n",
              "    80% {\n",
              "      border-color: transparent;\n",
              "      border-right-color: var(--fill-color);\n",
              "      border-bottom-color: var(--fill-color);\n",
              "    }\n",
              "    90% {\n",
              "      border-color: transparent;\n",
              "      border-bottom-color: var(--fill-color);\n",
              "    }\n",
              "  }\n",
              "</style>\n",
              "\n",
              "  <script>\n",
              "    async function quickchart(key) {\n",
              "      const quickchartButtonEl =\n",
              "        document.querySelector('#' + key + ' button');\n",
              "      quickchartButtonEl.disabled = true;  // To prevent multiple clicks.\n",
              "      quickchartButtonEl.classList.add('colab-df-spinner');\n",
              "      try {\n",
              "        const charts = await google.colab.kernel.invokeFunction(\n",
              "            'suggestCharts', [key], {});\n",
              "      } catch (error) {\n",
              "        console.error('Error during call to suggestCharts:', error);\n",
              "      }\n",
              "      quickchartButtonEl.classList.remove('colab-df-spinner');\n",
              "      quickchartButtonEl.classList.add('colab-df-quickchart-complete');\n",
              "    }\n",
              "    (() => {\n",
              "      let quickchartButtonEl =\n",
              "        document.querySelector('#df-7172a96b-d6f3-4b64-b2cb-9efd19670c1b button');\n",
              "      quickchartButtonEl.style.display =\n",
              "        google.colab.kernel.accessAllowed ? 'block' : 'none';\n",
              "    })();\n",
              "  </script>\n",
              "</div>\n",
              "    </div>\n",
              "  </div>\n"
            ],
            "application/vnd.google.colaboratory.intrinsic+json": {
              "type": "dataframe",
              "variable_name": "new_dataset"
            }
          },
          "metadata": {},
          "execution_count": 28
        }
      ]
    },
    {
      "cell_type": "markdown",
      "source": [
        "(1 балл) Перемешайте строки в датафрейме случайным образом:"
      ],
      "metadata": {
        "id": "Uex8DVspKFxn"
      }
    },
    {
      "cell_type": "code",
      "source": [
        "new_dataset = new_dataset.sample(frac=1)"
      ],
      "metadata": {
        "id": "5lRYIwGOKOnT"
      },
      "execution_count": 29,
      "outputs": []
    },
    {
      "cell_type": "markdown",
      "source": [
        "(1 балл) Сформируем новую колонку - для каждого бриллианта найдем сумму Минковского (p=3) по 3 измерениям бриллианта:"
      ],
      "metadata": {
        "id": "iEHBNONDLl64"
      }
    },
    {
      "cell_type": "code",
      "source": [
        "def minkowski_sum(row):\n",
        "    return (row['meas_length'] ** 3 + row['meas_width'] ** 3 + row['meas_depth'] ** 3) ** (1/3)\n",
        "\n",
        "new_dataset['minkowski_sum'] = new_dataset.apply(minkowski_sum, axis=1)"
      ],
      "metadata": {
        "id": "V3CTAQbAMQsR"
      },
      "execution_count": 30,
      "outputs": []
    },
    {
      "cell_type": "markdown",
      "source": [
        "(1 балл) Сформируем новый датасет из двух колонок - сумма Минковского и `total_sales_price`:"
      ],
      "metadata": {
        "id": "z5s5_yB8n1Hp"
      }
    },
    {
      "cell_type": "code",
      "source": [
        "minkowski_price = new_dataset[['minkowski_sum', 'total_sales_price']]"
      ],
      "metadata": {
        "id": "tXxZnWS7n9q0"
      },
      "execution_count": 31,
      "outputs": []
    },
    {
      "cell_type": "markdown",
      "source": [
        "(1 балл) Разделите вашу выборку на две части в соотношении 8:2 - одна выборка будет для тренировка, а другая для тестов вашей модели:"
      ],
      "metadata": {
        "id": "aXCp0GmUKOvM"
      }
    },
    {
      "cell_type": "code",
      "source": [
        "# your code here"
      ],
      "metadata": {
        "id": "rxwHhdnFK3Lz"
      },
      "execution_count": null,
      "outputs": []
    },
    {
      "cell_type": "markdown",
      "source": [
        "(2 балла) Постройте график зависимости стоимости от вашего нового параметра размера для тренинг-выборки:"
      ],
      "metadata": {
        "id": "lhuRoIMRK3S3"
      }
    },
    {
      "cell_type": "code",
      "source": [
        "# your code here"
      ],
      "metadata": {
        "id": "zdXv0wimNNZq"
      },
      "execution_count": null,
      "outputs": []
    },
    {
      "cell_type": "markdown",
      "source": [
        "(2 балла) Нанесите на тот же график тестовую выборку, используя другой цвет (не забудьте про параметр прозрачности):"
      ],
      "metadata": {
        "id": "0cUx_FSiNOUx"
      }
    },
    {
      "cell_type": "code",
      "source": [
        "# your code here"
      ],
      "metadata": {
        "id": "R09w4W7VNnM2"
      },
      "execution_count": null,
      "outputs": []
    },
    {
      "cell_type": "markdown",
      "source": [
        "(3 балла) Найдите для каждой бриллианта из тестовой выборки его \"ближайшего соседа\" из тренинг-выборки. Для каждого бриллианта из тестовой выборки найдите расстояния до соответствующего ближайшего соседа:"
      ],
      "metadata": {
        "id": "VwIIccnpNnVj"
      }
    },
    {
      "cell_type": "code",
      "source": [
        "# your code here"
      ],
      "metadata": {
        "id": "t_jpKJ54OBb0"
      },
      "execution_count": null,
      "outputs": []
    },
    {
      "cell_type": "markdown",
      "source": [
        "(3 балла) Найдите насколько сильно (в процентах) отличается цена бриллиантов из тестовой выборки от их соответствующих ближайших соседей:"
      ],
      "metadata": {
        "id": "7R0uaHqurV_u"
      }
    },
    {
      "cell_type": "code",
      "source": [
        "# your code here"
      ],
      "metadata": {
        "id": "Uy2ngWJ4rn-4"
      },
      "execution_count": null,
      "outputs": []
    },
    {
      "cell_type": "markdown",
      "source": [
        "**Данная модель является выдумкой автора. Не важен коэффициент ошибки, важны ваши шаги для получения коэффициента.**"
      ],
      "metadata": {
        "id": "tl0CHY6_OAxU"
      }
    },
    {
      "cell_type": "markdown",
      "source": [
        "### Введение в машинное обучение"
      ],
      "metadata": {
        "id": "AbrAdKSUrqz5"
      }
    },
    {
      "cell_type": "markdown",
      "source": [
        "Теперь давайте познакомимся с таким сильным инструментом как `sklearn`."
      ],
      "metadata": {
        "id": "I6sqXZLYuox4"
      }
    },
    {
      "cell_type": "markdown",
      "source": [
        "Вам необходимо:\n",
        "1. выбрать 2 категориальных признака\n",
        "2. на их основе обучить решающее дерево\n",
        "3. оценить среднеквадратичную ошибку цены бриллианта\n",
        "4. сделать пп. 1-3 и выбрать ту пару, которая дает лучший результат\n",
        "5. сделать выводы"
      ],
      "metadata": {
        "id": "q4OpdbhwsuAX"
      }
    },
    {
      "cell_type": "markdown",
      "source": [
        "(3 балла) Мы работаем с категориальными признаками, для них не понятно что есть \"больше\" и \"меньше\". Поэтому нам нужно предварительно закодировать значения наших признаков, с чем нам поможет [OneHotEncoder](https://scikit-learn.org/stable/modules/generated/sklearn.preprocessing.OneHotEncoder.html):"
      ],
      "metadata": {
        "id": "rScraaVSxQlT"
      }
    },
    {
      "cell_type": "code",
      "source": [
        "# your code here"
      ],
      "metadata": {
        "id": "G8hDstLlxjry"
      },
      "execution_count": null,
      "outputs": []
    },
    {
      "cell_type": "markdown",
      "source": [
        "(3 балла) Разбейте датасет на обучающую и тестовую выбору. Для этого вам поможет [train_test_split](https://scikit-learn.org/stable/modules/generated/sklearn.model_selection.train_test_split.html):"
      ],
      "metadata": {
        "id": "ig8t-nmRvojA"
      }
    },
    {
      "cell_type": "code",
      "source": [
        "# your code here"
      ],
      "metadata": {
        "id": "ChVKP43AwY8i"
      },
      "execution_count": null,
      "outputs": []
    },
    {
      "cell_type": "markdown",
      "source": [
        "(3 балла) Затем создайте и обучите вашу модель - [DecisionTreeRegressor](https://scikit-learn.org/stable/modules/generated/sklearn.tree.DecisionTreeRegressor.html):"
      ],
      "metadata": {
        "id": "gbv2zLpkwZsq"
      }
    },
    {
      "cell_type": "code",
      "source": [
        "# your code here"
      ],
      "metadata": {
        "id": "Qfvv2j6Sws8p"
      },
      "execution_count": null,
      "outputs": []
    },
    {
      "cell_type": "markdown",
      "source": [
        "(3 балла) Оцените ошибку вашей модели при помощи [mean_squared_error](https://scikit-learn.org/stable/modules/generated/sklearn.metrics.mean_squared_error.html):"
      ],
      "metadata": {
        "id": "nUvBoY1pwtIv"
      }
    },
    {
      "cell_type": "code",
      "source": [
        "# your code here"
      ],
      "metadata": {
        "id": "q946oHPaxGA4"
      },
      "execution_count": null,
      "outputs": []
    },
    {
      "cell_type": "markdown",
      "source": [
        "(3 балла) **Сделайте выводы какие категориальные признаки лучше:**"
      ],
      "metadata": {
        "id": "scWwHLEKxGPl"
      }
    },
    {
      "cell_type": "markdown",
      "source": [
        "*Подсказки для маленьких: Что вы можете сказать о зависимости по вашей выборке признаков? Какой вы можете сделать вывод об готовых инструментах для работы и написанных Вами?*"
      ],
      "metadata": {
        "id": "djE6Ke2bL5WS"
      }
    },
    {
      "cell_type": "markdown",
      "source": [
        "Ваши выводы здесь :)"
      ],
      "metadata": {
        "id": "lu36_N58uvui"
      }
    }
  ]
}